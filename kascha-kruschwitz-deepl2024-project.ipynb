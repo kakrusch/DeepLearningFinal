{
 "cells": [
  {
   "cell_type": "markdown",
   "metadata": {
    "id": "qDcFTwIQHaRb"
   },
   "source": [
    "<center>\n",
    "<h4></h4>\n",
    "<h1><b>BERT is not pessimistic enough</b></h1>\n",
    "<h2>Deep Learning - Final Project</h2>\n",
    "<h3>Buket Sak, <b><u>Kascha Kruschwitz</u></b>, Ludmila Bajuk </h3>\n",
    "</center>\n",
    "\n",
    "Github link: https://github.com/kakrusch/DeepLearningFinal.git"
   ]
  },
  {
   "cell_type": "markdown",
   "metadata": {
    "id": "QXjmxrt8QMqw"
   },
   "source": [
    "\n",
    "## Introduction\n",
    "\n",
    "The aim of our project was to test whether language models can detect whether sentence pairs are semantically similar or opposite. This topic was chosen because even LLMs seem to be unable to classify antonym relations, performing only at chance, and further struggle with several other negation-related tasks and benchmarks (Truong et al, 2023). We thus wanted to investigate this claim for ourselves.\n",
    "\n",
    "To that end we used the CANNOT dataset (Anschütz, Lozano & Groh, 2023), a combination of several other negation datasets, thus resulting in a total of 77, 376 labeled sentence pairs. Each pair consists of a premise, some base sentence, and a hypothesis, a sentence that is either a paraphrased or a negated version of the premise. Negation here refers to both verbal negation using negative particles or affixes or \"negation\" via antonyms. Each sentence pair is labeled either 1 if it is negated, or 0 if it is paraphrased.\n",
    "\n",
    "\n",
    "Given that the dataset provides a label of either 1 or 0, we decided on a binary classification tasks. We attempted three approaches:\n",
    "\n",
    "1. Few-shot learning using GPT-Neo to establish a base expectation\n",
    "2. Model 1: Fine-tuning the BERT base classifier provided by Keras-NLP\n",
    "3. Using BERT embeddings to build a Dense NN (Model 2) and an LSTM NN (Model 3)\n",
    "\n",
    "Overall, none of our approaches worked very well. Most models seem to perform at chance by predicting the same label every time and the one model that did learn seemed to overfit. \n"
   ]
  },
  {
   "cell_type": "markdown",
   "metadata": {
    "id": "7jF9RoPLP-_L"
   },
   "source": [
    "## Setup"
   ]
  },
  {
   "cell_type": "code",
   "execution_count": 1,
   "metadata": {
    "execution": {
     "iopub.execute_input": "2024-08-13T13:24:37.362622Z",
     "iopub.status.busy": "2024-08-13T13:24:37.362252Z",
     "iopub.status.idle": "2024-08-13T13:25:09.060478Z",
     "shell.execute_reply": "2024-08-13T13:25:09.059335Z",
     "shell.execute_reply.started": "2024-08-13T13:24:37.362585Z"
    },
    "id": "kPLtMZbzGffB"
   },
   "outputs": [
    {
     "name": "stderr",
     "output_type": "stream",
     "text": [
      "/opt/conda/lib/python3.10/pty.py:89: RuntimeWarning: os.fork() was called. os.fork() is incompatible with multithreaded code, and JAX is multithreaded, so this will likely lead to a deadlock.\n",
      "  pid, fd = os.forkpty()\n"
     ]
    },
    {
     "name": "stdout",
     "output_type": "stream",
     "text": [
      "\u001b[31mERROR: pip's dependency resolver does not currently take into account all the packages that are installed. This behaviour is the source of the following dependency conflicts.\n",
      "tensorflow-decision-forests 1.8.1 requires wurlitzer, which is not installed.\u001b[0m\u001b[31m\n",
      "\u001b[0m\u001b[31mERROR: pip's dependency resolver does not currently take into account all the packages that are installed. This behaviour is the source of the following dependency conflicts.\n",
      "tensorflow-decision-forests 1.8.1 requires wurlitzer, which is not installed.\n",
      "tensorflow 2.15.0 requires keras<2.16,>=2.15.0, but you have keras 3.5.0 which is incompatible.\u001b[0m\u001b[31m\n",
      "\u001b[0m"
     ]
    }
   ],
   "source": [
    "!pip install -q --upgrade keras-nlp\n",
    "!pip install -q --upgrade keras\n",
    "\n",
    "import numpy as np\n",
    "import tensorflow as tf\n",
    "import keras\n",
    "import keras_nlp\n",
    "import tensorflow_datasets as tfds\n",
    "from tensorflow.keras.utils import to_categorical\n",
    "import matplotlib.pyplot as plt\n",
    "import torch\n",
    "from tensorflow.keras import layers\n",
    "from tensorflow.keras.models import Sequential\n",
    "from IPython.display import display\n",
    "import pandas as pd\n",
    "import random\n",
    "from statistics import mean\n",
    "import matplotlib.pyplot as plt\n",
    "from sklearn import metrics\n",
    "from sklearn.metrics import accuracy_score, f1_score, classification_report, confusion_matrix\n",
    "import time\n",
    "import transformers\n",
    "from transformers import AutoTokenizer, GPTNeoForCausalLM"
   ]
  },
  {
   "cell_type": "code",
   "execution_count": 2,
   "metadata": {
    "colab": {
     "base_uri": "https://localhost:8080/"
    },
    "execution": {
     "iopub.execute_input": "2024-08-13T13:25:09.062268Z",
     "iopub.status.busy": "2024-08-13T13:25:09.061986Z",
     "iopub.status.idle": "2024-08-13T13:25:09.066515Z",
     "shell.execute_reply": "2024-08-13T13:25:09.065616Z",
     "shell.execute_reply.started": "2024-08-13T13:25:09.062243Z"
    },
    "executionInfo": {
     "elapsed": 2447,
     "status": "ok",
     "timestamp": 1723469895338,
     "user": {
      "displayName": "Kascha Kruschwitz",
      "userId": "01563592123614078480"
     },
     "user_tz": -120
    },
    "id": "QRdk_ObHGLZI",
    "outputId": "41d037c3-922e-4670-bf26-4fd9aa17671b"
   },
   "outputs": [],
   "source": [
    "#load from google drive\n",
    "#from google.colab import drive\n",
    "#drive.mount('/content/drive')\n",
    "\n",
    "#dataset = pd.read_csv('/content/drive/MyDrive/Colab Notebooks/cannot_dataset_v1.1.tsv', sep='\\t')"
   ]
  },
  {
   "cell_type": "code",
   "execution_count": 3,
   "metadata": {
    "execution": {
     "iopub.execute_input": "2024-08-13T13:25:09.068422Z",
     "iopub.status.busy": "2024-08-13T13:25:09.067910Z",
     "iopub.status.idle": "2024-08-13T13:25:09.376110Z",
     "shell.execute_reply": "2024-08-13T13:25:09.375295Z",
     "shell.execute_reply.started": "2024-08-13T13:25:09.068387Z"
    },
    "id": "OMx84NzaaTbB"
   },
   "outputs": [],
   "source": [
    "# load in kaggle\n",
    "\n",
    "dataset = pd.read_csv('/kaggle/input/cannot-dataset-v1-1-tsv/cannot_dataset_v1.1.tsv', sep='\\t')"
   ]
  },
  {
   "cell_type": "code",
   "execution_count": 4,
   "metadata": {
    "execution": {
     "iopub.execute_input": "2024-08-13T13:25:09.378679Z",
     "iopub.status.busy": "2024-08-13T13:25:09.378366Z",
     "iopub.status.idle": "2024-08-13T13:25:09.382767Z",
     "shell.execute_reply": "2024-08-13T13:25:09.381744Z",
     "shell.execute_reply.started": "2024-08-13T13:25:09.378652Z"
    },
    "id": "4RLf_MDxDd45"
   },
   "outputs": [],
   "source": [
    "# load in hulk server\n",
    "\n",
    "# dataset = pd.read_csv('cannot_dataset_v1.1.tsv', sep='\\t')"
   ]
  },
  {
   "cell_type": "markdown",
   "metadata": {
    "id": "5AUQiACYCHeJ"
   },
   "source": [
    "### GPU settings\n",
    "\n",
    "(provided by Andrea)"
   ]
  },
  {
   "cell_type": "code",
   "execution_count": 5,
   "metadata": {
    "colab": {
     "base_uri": "https://localhost:8080/"
    },
    "execution": {
     "iopub.execute_input": "2024-08-13T13:25:09.384065Z",
     "iopub.status.busy": "2024-08-13T13:25:09.383821Z",
     "iopub.status.idle": "2024-08-13T13:25:09.428031Z",
     "shell.execute_reply": "2024-08-13T13:25:09.427099Z",
     "shell.execute_reply.started": "2024-08-13T13:25:09.384043Z"
    },
    "executionInfo": {
     "elapsed": 643,
     "status": "ok",
     "timestamp": 1723302079938,
     "user": {
      "displayName": "Kascha Kruschwitz",
      "userId": "01563592123614078480"
     },
     "user_tz": -120
    },
    "id": "sc40yLPsCH1c",
    "outputId": "dc8e85cd-eada-4d7d-c3e9-a2ce9bb2506f"
   },
   "outputs": [
    {
     "name": "stdout",
     "output_type": "stream",
     "text": [
      "There are 2 GPU(s) available.\n",
      "Device name: Tesla T4\n"
     ]
    }
   ],
   "source": [
    "# check if a GPU is available\n",
    "if torch.cuda.is_available():\n",
    "    device = torch.device(\"cuda:1\") #set device\n",
    "    print(f'There are {torch.cuda.device_count()} GPU(s) available.')\n",
    "    print('Device name:', torch.cuda.get_device_name(0))\n",
    "\n",
    "else:\n",
    "    print('No GPU available, using the CPU instead.')\n",
    "    device = torch.device(\"cpu\")\n"
   ]
  },
  {
   "cell_type": "code",
   "execution_count": 6,
   "metadata": {
    "colab": {
     "base_uri": "https://localhost:8080/"
    },
    "execution": {
     "iopub.execute_input": "2024-08-13T13:25:09.429427Z",
     "iopub.status.busy": "2024-08-13T13:25:09.429157Z",
     "iopub.status.idle": "2024-08-13T13:25:10.703122Z",
     "shell.execute_reply": "2024-08-13T13:25:10.701923Z",
     "shell.execute_reply.started": "2024-08-13T13:25:09.429403Z"
    },
    "executionInfo": {
     "elapsed": 21,
     "status": "ok",
     "timestamp": 1723302079938,
     "user": {
      "displayName": "Kascha Kruschwitz",
      "userId": "01563592123614078480"
     },
     "user_tz": -120
    },
    "id": "lIURRyhjCR22",
    "outputId": "cc6e72aa-226f-4047-e6e3-31a3ebd0e90f"
   },
   "outputs": [
    {
     "name": "stderr",
     "output_type": "stream",
     "text": [
      "/opt/conda/lib/python3.10/pty.py:89: RuntimeWarning: os.fork() was called. os.fork() is incompatible with multithreaded code, and JAX is multithreaded, so this will likely lead to a deadlock.\n",
      "  pid, fd = os.forkpty()\n"
     ]
    },
    {
     "name": "stdout",
     "output_type": "stream",
     "text": [
      "Tue Aug 13 13:25:10 2024       \n",
      "+-----------------------------------------------------------------------------------------+\n",
      "| NVIDIA-SMI 550.90.07              Driver Version: 550.90.07      CUDA Version: 12.4     |\n",
      "|-----------------------------------------+------------------------+----------------------+\n",
      "| GPU  Name                 Persistence-M | Bus-Id          Disp.A | Volatile Uncorr. ECC |\n",
      "| Fan  Temp   Perf          Pwr:Usage/Cap |           Memory-Usage | GPU-Util  Compute M. |\n",
      "|                                         |                        |               MIG M. |\n",
      "|=========================================+========================+======================|\n",
      "|   0  Tesla T4                       Off |   00000000:00:04.0 Off |                    0 |\n",
      "| N/A   63C    P0             31W /   70W |   14049MiB /  15360MiB |      0%      Default |\n",
      "|                                         |                        |                  N/A |\n",
      "+-----------------------------------------+------------------------+----------------------+\n",
      "|   1  Tesla T4                       Off |   00000000:00:05.0 Off |                    0 |\n",
      "| N/A   61C    P0             29W /   70W |     103MiB /  15360MiB |      0%      Default |\n",
      "|                                         |                        |                  N/A |\n",
      "+-----------------------------------------+------------------------+----------------------+\n",
      "                                                                                         \n",
      "+-----------------------------------------------------------------------------------------+\n",
      "| Processes:                                                                              |\n",
      "|  GPU   GI   CI        PID   Type   Process name                              GPU Memory |\n",
      "|        ID   ID                                                               Usage      |\n",
      "|=========================================================================================|\n",
      "+-----------------------------------------------------------------------------------------+\n"
     ]
    }
   ],
   "source": [
    "# see what is happening\n",
    "!nvidia-smi"
   ]
  },
  {
   "cell_type": "code",
   "execution_count": 7,
   "metadata": {
    "colab": {
     "base_uri": "https://localhost:8080/"
    },
    "execution": {
     "iopub.execute_input": "2024-08-13T13:25:10.705345Z",
     "iopub.status.busy": "2024-08-13T13:25:10.704975Z",
     "iopub.status.idle": "2024-08-13T13:25:10.715620Z",
     "shell.execute_reply": "2024-08-13T13:25:10.714625Z",
     "shell.execute_reply.started": "2024-08-13T13:25:10.705311Z"
    },
    "executionInfo": {
     "elapsed": 15,
     "status": "ok",
     "timestamp": 1723302079939,
     "user": {
      "displayName": "Kascha Kruschwitz",
      "userId": "01563592123614078480"
     },
     "user_tz": -120
    },
    "id": "zzSw8aGaCY2o",
    "outputId": "5607b82a-f64b-49af-e8c4-02c73067c862"
   },
   "outputs": [
    {
     "name": "stdout",
     "output_type": "stream",
     "text": [
      "Using GPU 0.\n",
      "There are 2 GPU(s) available.\n",
      "GPU 0 name: Tesla T4\n",
      "GPU 1 name: Tesla T4\n",
      "Current GPU: 0\n"
     ]
    }
   ],
   "source": [
    "# select a specific GPU\n",
    "selected_gpu = 0  # Change this to 0, 1, or 2 depending on which GPU you want to use\n",
    "\n",
    "# Check if the specified GPU is available\n",
    "if torch.cuda.is_available() and selected_gpu < torch.cuda.device_count():\n",
    "    torch.cuda.set_device(selected_gpu)  # Set the selected GPU as the current device\n",
    "    device = torch.device(f\"cuda:{selected_gpu}\")\n",
    "    print(f'Using GPU {selected_gpu}.')\n",
    "    print(f'There are {torch.cuda.device_count()} GPU(s) available.')\n",
    "    for i in range(torch.cuda.device_count()):\n",
    "        print(f'GPU {i} name:', torch.cuda.get_device_name(i))\n",
    "    print('Current GPU:', torch.cuda.current_device())\n",
    "\n",
    "else:\n",
    "    print('No specified GPU available, using the CPU instead.')\n",
    "    device = torch.device(\"cpu\")"
   ]
  },
  {
   "cell_type": "markdown",
   "metadata": {
    "id": "JMnUW6BjGmdP"
   },
   "source": [
    "# Data Exploration and Preprocessing"
   ]
  },
  {
   "cell_type": "markdown",
   "metadata": {
    "id": "n4EkfsAvp_m-"
   },
   "source": [
    "## Exploration"
   ]
  },
  {
   "cell_type": "markdown",
   "metadata": {
    "id": "HlLqyzj_Rodk"
   },
   "source": [
    "**Counting the labels:** We counted the labels to see if there was a somewhat even distribution of negated and non-negated sentences. As this was the case, we did not need to adjust the dataset for this."
   ]
  },
  {
   "cell_type": "code",
   "execution_count": 8,
   "metadata": {
    "colab": {
     "base_uri": "https://localhost:8080/",
     "height": 388
    },
    "execution": {
     "iopub.execute_input": "2024-08-13T13:25:10.717098Z",
     "iopub.status.busy": "2024-08-13T13:25:10.716792Z",
     "iopub.status.idle": "2024-08-13T13:25:11.030950Z",
     "shell.execute_reply": "2024-08-13T13:25:11.030022Z",
     "shell.execute_reply.started": "2024-08-13T13:25:10.717068Z"
    },
    "executionInfo": {
     "elapsed": 1047,
     "status": "ok",
     "timestamp": 1723467611745,
     "user": {
      "displayName": "Kascha Kruschwitz",
      "userId": "01563592123614078480"
     },
     "user_tz": -120
    },
    "id": "suQtsPebGh4I",
    "outputId": "fbcf952e-c4f7-4409-d527-1b988167064c"
   },
   "outputs": [
    {
     "name": "stdout",
     "output_type": "stream",
     "text": [
      "Label 1: 39989 samples, which is 51.68% of the dataset.\n",
      "Label 0: 37387 samples, which is 48.32% of the dataset.\n"
     ]
    },
    {
     "data": {
      "image/png": "[encoded data removed]",
      "text/plain": [
       "<Figure size 500x300 with 1 Axes>"
      ]
     },
     "metadata": {},
     "output_type": "display_data"
    }
   ],
   "source": [
    "# load labels column from the dataset\n",
    "lables = dataset[\"label\"]\n",
    "\n",
    "# create label count dictionary that counts each instance of a lable\n",
    "label_count = {}\n",
    "for i in lables:\n",
    "    i = str(i) # save name as string for the graph\n",
    "    if i in label_count:\n",
    "        label_count[i] += 1\n",
    "    else:\n",
    "        label_count[i] = 1\n",
    "\n",
    "# overall label count\n",
    "total_samples = sum(label_count.values())\n",
    "\n",
    "# print the percentage of each label from entire dataset\n",
    "for label, count in label_count.items():\n",
    "    percentage = (count / total_samples) * 100\n",
    "    print(f\"Label {label}: {count} samples, which is {percentage:.2f}% of the dataset.\")\n",
    "\n",
    "\n",
    "labels = list(label_count.keys()) # x-value for plot\n",
    "counts = list(label_count.values()) # y-value for plot\n",
    "\n",
    "# plot the distribution of each label\n",
    "plt.figure(figsize=(5, 3))\n",
    "plt.bar(labels, counts, color=['#ffadad', '#caffbf'])\n",
    "plt.xlabel('Labels')\n",
    "plt.ylabel('Counts')\n",
    "plt.title('Label Distribution')\n",
    "plt.show()"
   ]
  },
  {
   "cell_type": "markdown",
   "metadata": {
    "id": "am8_YFz9HB-O"
   },
   "source": [
    "**Shuffle the data:** We were not shure whether the dataset was in a specific order based on which sub-dataset the sentences came from. Thus, we shuffeled the data to get a random selection of sentences between the training and test samples. The original indices (row names) were kept to be referenced later on.\n"
   ]
  },
  {
   "cell_type": "code",
   "execution_count": 9,
   "metadata": {
    "colab": {
     "base_uri": "https://localhost:8080/",
     "height": 383
    },
    "execution": {
     "iopub.execute_input": "2024-08-13T13:25:11.032388Z",
     "iopub.status.busy": "2024-08-13T13:25:11.032112Z",
     "iopub.status.idle": "2024-08-13T13:25:11.071044Z",
     "shell.execute_reply": "2024-08-13T13:25:11.070006Z",
     "shell.execute_reply.started": "2024-08-13T13:25:11.032364Z"
    },
    "executionInfo": {
     "elapsed": 853,
     "status": "ok",
     "timestamp": 1723375853738,
     "user": {
      "displayName": "Kascha Kruschwitz",
      "userId": "01563592123614078480"
     },
     "user_tz": -120
    },
    "id": "yukDCCQoG_0c",
    "outputId": "43f83592-6957-4f79-c429-0ca1c741407f"
   },
   "outputs": [
    {
     "data": {
      "text/html": [
       "<div>\n",
       "<style scoped>\n",
       "    .dataframe tbody tr th:only-of-type {\n",
       "        vertical-align: middle;\n",
       "    }\n",
       "\n",
       "    .dataframe tbody tr th {\n",
       "        vertical-align: top;\n",
       "    }\n",
       "\n",
       "    .dataframe thead th {\n",
       "        text-align: right;\n",
       "    }\n",
       "</style>\n",
       "<table border=\"1\" class=\"dataframe\">\n",
       "  <thead>\n",
       "    <tr style=\"text-align: right;\">\n",
       "      <th></th>\n",
       "      <th>premise</th>\n",
       "      <th>hypothesis</th>\n",
       "      <th>label</th>\n",
       "    </tr>\n",
       "  </thead>\n",
       "  <tbody>\n",
       "    <tr>\n",
       "      <th>26404</th>\n",
       "      <td>In November 2011 European Court of Justice ref...</td>\n",
       "      <td>In November 2011 European Court of Justice mai...</td>\n",
       "      <td>1</td>\n",
       "    </tr>\n",
       "    <tr>\n",
       "      <th>7481</th>\n",
       "      <td>The city is designated as a Million Plus Urban...</td>\n",
       "      <td>The city is designated as an Under a Million U...</td>\n",
       "      <td>1</td>\n",
       "    </tr>\n",
       "    <tr>\n",
       "      <th>36957</th>\n",
       "      <td>There are protections against discrimination b...</td>\n",
       "      <td>Danish law includes protections against discri...</td>\n",
       "      <td>0</td>\n",
       "    </tr>\n",
       "    <tr>\n",
       "      <th>52424</th>\n",
       "      <td>But it can be declared deprecated : A coded ch...</td>\n",
       "      <td>But it can be declared deprecated : A coded ch...</td>\n",
       "      <td>1</td>\n",
       "    </tr>\n",
       "    <tr>\n",
       "      <th>54858</th>\n",
       "      <td>I'm not bad today.</td>\n",
       "      <td>I'm bad today.</td>\n",
       "      <td>1</td>\n",
       "    </tr>\n",
       "    <tr>\n",
       "      <th>51856</th>\n",
       "      <td>The magnetic moment of the antineutron is the ...</td>\n",
       "      <td>The magnetic moment of the antineutron is the ...</td>\n",
       "      <td>1</td>\n",
       "    </tr>\n",
       "    <tr>\n",
       "      <th>53737</th>\n",
       "      <td>Conferences and seminars were conducted by him.</td>\n",
       "      <td>He was also instrumental in conducting confere...</td>\n",
       "      <td>0</td>\n",
       "    </tr>\n",
       "    <tr>\n",
       "      <th>24145</th>\n",
       "      <td>The only way the movie could be redeemed was a...</td>\n",
       "      <td>The only possible way this movie could be rede...</td>\n",
       "      <td>0</td>\n",
       "    </tr>\n",
       "    <tr>\n",
       "      <th>53162</th>\n",
       "      <td>Lastly, research continues in the other domain...</td>\n",
       "      <td>Research continues in the other areas of the s...</td>\n",
       "      <td>0</td>\n",
       "    </tr>\n",
       "    <tr>\n",
       "      <th>62465</th>\n",
       "      <td>The material's efficiency was partially reduce...</td>\n",
       "      <td>The material's efficiency was increased by sev...</td>\n",
       "      <td>1</td>\n",
       "    </tr>\n",
       "  </tbody>\n",
       "</table>\n",
       "</div>"
      ],
      "text/plain": [
       "                                                 premise  \\\n",
       "26404  In November 2011 European Court of Justice ref...   \n",
       "7481   The city is designated as a Million Plus Urban...   \n",
       "36957  There are protections against discrimination b...   \n",
       "52424  But it can be declared deprecated : A coded ch...   \n",
       "54858                                 I'm not bad today.   \n",
       "51856  The magnetic moment of the antineutron is the ...   \n",
       "53737    Conferences and seminars were conducted by him.   \n",
       "24145  The only way the movie could be redeemed was a...   \n",
       "53162  Lastly, research continues in the other domain...   \n",
       "62465  The material's efficiency was partially reduce...   \n",
       "\n",
       "                                              hypothesis  label  \n",
       "26404  In November 2011 European Court of Justice mai...      1  \n",
       "7481   The city is designated as an Under a Million U...      1  \n",
       "36957  Danish law includes protections against discri...      0  \n",
       "52424  But it can be declared deprecated : A coded ch...      1  \n",
       "54858                                     I'm bad today.      1  \n",
       "51856  The magnetic moment of the antineutron is the ...      1  \n",
       "53737  He was also instrumental in conducting confere...      0  \n",
       "24145  The only possible way this movie could be rede...      0  \n",
       "53162  Research continues in the other areas of the s...      0  \n",
       "62465  The material's efficiency was increased by sev...      1  "
      ]
     },
     "metadata": {},
     "output_type": "display_data"
    }
   ],
   "source": [
    "# random seed for reproducibility\n",
    "random_seed = 42\n",
    "random.seed(random_seed)\n",
    "\n",
    "# Shuffle the rows but keep original indices\n",
    "dataset = dataset.sample(frac=1, random_state=random_seed)\n",
    "\n",
    "# convert to dataframe to print the first 10 rows of the df but looking pretty\n",
    "df = pd.DataFrame(dataset)\n",
    "display(df.head(10))"
   ]
  },
  {
   "cell_type": "markdown",
   "metadata": {
    "id": "q0q7ly3ZHsXt"
   },
   "source": [
    "**Prediction sentences for quality evaluation:** As the dataset consists of both negation using verbal negation (eg. using 'nt or not) and antonyms, we extracted example sentences of either type, to see if our models are better at one task then another.\n",
    "\n",
    "The data consists of:\n",
    " - 5 sentence pairs with negation using antonyms\n",
    " - 5 sentence pairs with verbal negations\n",
    " - 10 paraphrased sentence pairs\n"
   ]
  },
  {
   "cell_type": "code",
   "execution_count": 10,
   "metadata": {
    "colab": {
     "base_uri": "https://localhost:8080/"
    },
    "execution": {
     "iopub.execute_input": "2024-08-13T13:25:11.072599Z",
     "iopub.status.busy": "2024-08-13T13:25:11.072309Z",
     "iopub.status.idle": "2024-08-13T13:25:11.087766Z",
     "shell.execute_reply": "2024-08-13T13:25:11.086866Z",
     "shell.execute_reply.started": "2024-08-13T13:25:11.072555Z"
    },
    "executionInfo": {
     "elapsed": 410,
     "status": "ok",
     "timestamp": 1723375860080,
     "user": {
      "displayName": "Kascha Kruschwitz",
      "userId": "01563592123614078480"
     },
     "user_tz": -120
    },
    "id": "oaYJSuUmJoDo",
    "outputId": "66f6b3d5-1e49-48ed-ecb5-06e3c30b4381"
   },
   "outputs": [
    {
     "name": "stdout",
     "output_type": "stream",
     "text": [
      "Antonym Indices:\n",
      "Original        Shuffled       \n",
      "50487           2884           \n",
      "41715           52987          \n",
      "32427           71555          \n",
      "48323           11800          \n",
      "27068           44436          \n",
      "\n",
      "Negation Indices:\n",
      "Original        Shuffled       \n",
      "57658           34924          \n",
      "37518           18576          \n",
      "14465           51686          \n",
      "42008           31695          \n",
      "560             69603          \n",
      "\n",
      "Paraphrased Indices:\n",
      "Original        Shuffled       \n",
      "6543            10711          \n",
      "51922           7804           \n",
      "16802           54667          \n",
      "66953           32607          \n",
      "24641           52258          \n",
      "14896           22606          \n",
      "20770           2446           \n",
      "70327           33520          \n",
      "34157           76091          \n",
      "64309           75430          \n"
     ]
    }
   ],
   "source": [
    "# get row names (original indices of target sentences)\n",
    "antonym_row_names = [50487, 41715, 32427, 48323, 27068]\n",
    "negation_row_names = [57658, 37518, 14465, 42008, 560]\n",
    "paraphrased_row_names = [6543, 51922, 16802, 66953, 24641, 14896, 20770, 70327, 34157, 64309]\n",
    "\n",
    "# get the indice of these sentences after shuffling the dataset\n",
    "def get_df_index(row_names):\n",
    "  index_list = []\n",
    "  for i in row_names:\n",
    "    index_list.append(dataset.index.get_loc(dataset.loc[i].name))\n",
    "  return index_list\n",
    "\n",
    "# these indices can now be used to access the sentences after preprocessing\n",
    "antonym_index = get_df_index(antonym_row_names)\n",
    "negation_index = get_df_index(negation_row_names)\n",
    "paraphrased_index = get_df_index(paraphrased_row_names)\n",
    "\n",
    "\n",
    "# Print the results\n",
    "print(\"Antonym Indices:\")\n",
    "print(f\"{'Original':<15} {'Shuffled':<15}\")\n",
    "for original, new in zip(antonym_row_names, antonym_index):\n",
    "    print(f\"{original:<15} {new:<15}\")\n",
    "\n",
    "print(\"\\nNegation Indices:\")\n",
    "print(f\"{'Original':<15} {'Shuffled':<15}\")\n",
    "for original, new in zip(negation_row_names, negation_index):\n",
    "    print(f\"{original:<15} {new:<15}\")\n",
    "\n",
    "print(\"\\nParaphrased Indices:\")\n",
    "print(f\"{'Original':<15} {'Shuffled':<15}\")\n",
    "for original, new in zip(paraphrased_row_names, paraphrased_index):\n",
    "    print(f\"{original:<15} {new:<15}\")"
   ]
  },
  {
   "cell_type": "markdown",
   "metadata": {
    "id": "_GmJeDL5rmYE"
   },
   "source": [
    "**Exploring the sentence length distribution:**\n",
    "Using naïve white-space tokenization, the lengths of the sequences were counted.\n",
    "\n",
    "We then decided on a sentence length of about 16 tokens as input to our models, i.e. an overall length of 32 tokens, including both sentences as well as the special tokens. As we wanted to preserve as much of the sentences as possible we decided to opt for a length that relied on padding more than truncation.\n",
    "\n",
    "The distribution of the dataset is displayed in the graph below. It may be worth noting that while the distribution for the premise and hypothesis columns are exactly the same, the individual sentences for each pair are not."
   ]
  },
  {
   "cell_type": "code",
   "execution_count": 11,
   "metadata": {
    "colab": {
     "base_uri": "https://localhost:8080/",
     "height": 707
    },
    "execution": {
     "iopub.execute_input": "2024-08-13T13:25:11.089146Z",
     "iopub.status.busy": "2024-08-13T13:25:11.088874Z",
     "iopub.status.idle": "2024-08-13T13:25:12.621018Z",
     "shell.execute_reply": "2024-08-13T13:25:12.620021Z",
     "shell.execute_reply.started": "2024-08-13T13:25:11.089113Z"
    },
    "executionInfo": {
     "elapsed": 3923,
     "status": "ok",
     "timestamp": 1723470083135,
     "user": {
      "displayName": "Kascha Kruschwitz",
      "userId": "01563592123614078480"
     },
     "user_tz": -120
    },
    "id": "jh6-mG6Cut0d",
    "outputId": "4c3bad26-13f2-4a04-d9cc-27ad139e760b"
   },
   "outputs": [
    {
     "name": "stdout",
     "output_type": "stream",
     "text": [
      "Analysis of the 'premise' column:\n",
      "Minimum length of sequences: 1\n",
      "Maximum length of sequences: 58\n",
      "Average length of sequences: 10.69\n",
      "Number of sequences < 16 tokens: 72317\n",
      "Percentage of sequences < 16 tokens: 93.46%\n",
      "Number of sequences >= 16 tokens: 5059\n",
      "Percentage of sequences >= 16 tokens: 6.54%\n",
      "\n",
      "\n",
      "Analysis of the 'hypothesis' column:\n",
      "Minimum length of sequences: 1\n",
      "Maximum length of sequences: 58\n",
      "Average length of sequences: 10.69\n",
      "Number of sequences < 16 tokens: 72317\n",
      "Percentage of sequences < 16 tokens: 93.46%\n",
      "Number of sequences >= 16 tokens: 5059\n",
      "Percentage of sequences >= 16 tokens: 6.54%\n",
      "\n",
      "\n"
     ]
    },
    {
     "data": {
      "image/png": "[encoded data removed]",
      "text/plain": [
       "<Figure size 500x300 with 1 Axes>"
      ]
     },
     "metadata": {},
     "output_type": "display_data"
    }
   ],
   "source": [
    "# Define the max_len function - rough approximation because split by whitespace\n",
    "def max_len(column):\n",
    "    lent = [len(str(i).split(\" \")) for i in dataset[column]]\n",
    "    return min(lent), max(lent), np.mean(lent)\n",
    "\n",
    "\n",
    "def analyze_sequence_lengths(dataset, column, threshold=16):\n",
    "    # Using the max_len function to get the min, max, and average lengths\n",
    "    min_len, max_len_val, avg_len = max_len(column)\n",
    "\n",
    "    # Calculate the lengths of all sequences\n",
    "    sequence_lengths = [len(str(i).split(\" \")) for i in dataset[column]]\n",
    "\n",
    "    # Count how many sequences are longer than or equal to the threshold\n",
    "    longer_sequences = [length for length in sequence_lengths if length >= threshold]\n",
    "    percentage_longer_sequences = (len(longer_sequences) / len(sequence_lengths)) * 100\n",
    "\n",
    "    # Count how many sequences are shorter than  to the threshold\n",
    "    shorter_sequences = [length for length in sequence_lengths if length < threshold]\n",
    "    percentage_shorter_sequences = (len(shorter_sequences) / len(sequence_lengths)) * 100\n",
    "\n",
    "    # Print the results\n",
    "    print(f\"Analysis of the '{column}' column:\")\n",
    "    print(f\"Minimum length of sequences: {min_len}\")\n",
    "    print(f\"Maximum length of sequences: {max_len_val}\")\n",
    "    print(f\"Average length of sequences: {avg_len:.2f}\")\n",
    "    print(f\"Number of sequences < {threshold} tokens: {len(shorter_sequences)}\")\n",
    "    print(f\"Percentage of sequences < {threshold} tokens: {percentage_shorter_sequences:.2f}%\")\n",
    "    print(f\"Number of sequences >= {threshold} tokens: {len(longer_sequences)}\")\n",
    "    print(f\"Percentage of sequences >= {threshold} tokens: {percentage_longer_sequences:.2f}%\")\n",
    "    print(\"\\n\")\n",
    "\n",
    "    return sequence_lengths\n",
    "\n",
    "# Analyzing the 'premise' and 'hypothesis' columns for length\n",
    "premise_lengths = analyze_sequence_lengths(dataset, \"premise\")\n",
    "hypothesis_lengths = analyze_sequence_lengths(dataset, \"hypothesis\")\n",
    "\n",
    "\n",
    "# plot the distribution\n",
    "plt.figure(figsize=(5, 3))\n",
    "\n",
    "plt.hist(premise_lengths, bins=50, alpha=1, label='Premise Lengths', color=\"#ffc6ff\")\n",
    "plt.hist(hypothesis_lengths, bins=50, alpha=1, label='Hypothesis Lengths', color = \"#a0c4ff\")\n",
    "\n",
    "# plot sequence length threshols\n",
    "plt.axvline(x=16, color='red', linestyle='--', label='Threshold = 16 tokens')\n",
    "\n",
    "plt.title('Distribution of Sequence Lengths')\n",
    "plt.xlabel('Number of Tokens')\n",
    "plt.ylabel('Frequency')\n",
    "plt.legend()\n",
    "plt.show()"
   ]
  },
  {
   "cell_type": "markdown",
   "metadata": {
    "id": "-g6P4pFMHN5T"
   },
   "source": [
    "## Pre-processing\n"
   ]
  },
  {
   "cell_type": "markdown",
   "metadata": {
    "id": "GJnNQc-ZZlS5"
   },
   "source": [
    "For the preprocessing we used the Bert preprocessor provided by Keras. As mentioned before we set the maximum sequence length to 32 tokens, which includes the premise and hypothesis, as well as the special tokens added by the preprocessor. The sentences were tokenized and concatenated, with a [SEP] token being added in between to separate them. [CLS] and [PAD] tokens are also added by the preprocessor. Examples for this are given in the output of the second cell in this section ([14]???).\n",
    "\n",
    "The preprocessor automatically creates 3 types of embeddings for each sequence:\n",
    "\n",
    "1. \"token_ids\": numerically represent each word/token\n",
    "\n",
    "2. \"segment_ids\": whether a token belongs to the premise or the hypothesis\n",
    "    \n",
    "3. \"padding_mask\": indicate which tokens are [PAD], to ignore those later"
   ]
  },
  {
   "cell_type": "code",
   "execution_count": 12,
   "metadata": {
    "colab": {
     "base_uri": "https://localhost:8080/"
    },
    "execution": {
     "iopub.execute_input": "2024-08-13T13:25:12.625544Z",
     "iopub.status.busy": "2024-08-13T13:25:12.625254Z",
     "iopub.status.idle": "2024-08-13T13:25:28.429889Z",
     "shell.execute_reply": "2024-08-13T13:25:28.429121Z",
     "shell.execute_reply.started": "2024-08-13T13:25:12.625516Z"
    },
    "executionInfo": {
     "elapsed": 3380,
     "status": "ok",
     "timestamp": 1723376013242,
     "user": {
      "displayName": "Kascha Kruschwitz",
      "userId": "01563592123614078480"
     },
     "user_tz": -120
    },
    "id": "xO_bDZ1CHjLn",
    "outputId": "00fc7660-01c8-474d-f0db-a812ead9b094"
   },
   "outputs": [
    {
     "name": "stdout",
     "output_type": "stream",
     "text": [
      "Attaching 'model.safetensors' from model 'keras/bert/keras/bert_base_en_uncased/2' to your Kaggle notebook...\n",
      "Attaching 'model.safetensors.index.json' from model 'keras/bert/keras/bert_base_en_uncased/2' to your Kaggle notebook...\n",
      "Attaching 'metadata.json' from model 'keras/bert/keras/bert_base_en_uncased/2' to your Kaggle notebook...\n",
      "Attaching 'metadata.json' from model 'keras/bert/keras/bert_base_en_uncased/2' to your Kaggle notebook...\n",
      "Attaching 'tokenizer.json' from model 'keras/bert/keras/bert_base_en_uncased/2' to your Kaggle notebook...\n",
      "Attaching 'tokenizer.json' from model 'keras/bert/keras/bert_base_en_uncased/2' to your Kaggle notebook...\n",
      "Attaching 'assets/tokenizer/vocabulary.txt' from model 'keras/bert/keras/bert_base_en_uncased/2' to your Kaggle notebook...\n",
      "Attaching 'model.safetensors' from model 'keras/bert/keras/bert_base_en_uncased/2' to your Kaggle notebook...\n",
      "Attaching 'model.safetensors.index.json' from model 'keras/bert/keras/bert_base_en_uncased/2' to your Kaggle notebook...\n",
      "Attaching 'metadata.json' from model 'keras/bert/keras/bert_base_en_uncased/2' to your Kaggle notebook...\n",
      "Attaching 'metadata.json' from model 'keras/bert/keras/bert_base_en_uncased/2' to your Kaggle notebook...\n",
      "Attaching 'preprocessor.json' from model 'keras/bert/keras/bert_base_en_uncased/2' to your Kaggle notebook...\n",
      "Attaching 'tokenizer.json' from model 'keras/bert/keras/bert_base_en_uncased/2' to your Kaggle notebook...\n",
      "Attaching 'tokenizer.json' from model 'keras/bert/keras/bert_base_en_uncased/2' to your Kaggle notebook...\n",
      "Attaching 'assets/tokenizer/vocabulary.txt' from model 'keras/bert/keras/bert_base_en_uncased/2' to your Kaggle notebook...\n"
     ]
    }
   ],
   "source": [
    "#tokenizing and padding\n",
    "tokenizer = keras_nlp.models.BertTokenizer.from_preset(\"bert_base_en_uncased\")\n",
    "\n",
    "# load the preprocessor\n",
    "# round_robin truncates from beginning and end of sequences equally\n",
    "preprocessor = keras_nlp.models.BertPreprocessor.from_preset(\n",
    "    \"bert_base_en_uncased\", sequence_length=32, truncate=\"round_robin\")"
   ]
  },
  {
   "cell_type": "code",
   "execution_count": 13,
   "metadata": {
    "colab": {
     "base_uri": "https://localhost:8080/",
     "height": 234
    },
    "execution": {
     "iopub.execute_input": "2024-08-13T13:25:28.431710Z",
     "iopub.status.busy": "2024-08-13T13:25:28.431248Z",
     "iopub.status.idle": "2024-08-13T13:25:31.745358Z",
     "shell.execute_reply": "2024-08-13T13:25:31.744421Z",
     "shell.execute_reply.started": "2024-08-13T13:25:28.431675Z"
    },
    "executionInfo": {
     "elapsed": 2367,
     "status": "error",
     "timestamp": 1723470550943,
     "user": {
      "displayName": "Kascha Kruschwitz",
      "userId": "01563592123614078480"
     },
     "user_tz": -120
    },
    "id": "3o5PPzjfH3mK",
    "outputId": "0f4a96f9-bd9d-42d0-ad9f-c89f79c882ef"
   },
   "outputs": [
    {
     "name": "stdout",
     "output_type": "stream",
     "text": [
      "Decoded Text (First 8 Samples):\n",
      "Sample 1: [CLS] the joint typhoon warning center ( jtwc ) also issued warnings in an [SEP] the joint typhoon warning center ( jtwc ) only issued warnings in [SEP]\n",
      "\n",
      "Sample 2: [CLS] commercial dnp is used as an antiseptic and as a non - [SEP] commercial dnp is unable to be utilized as an antiseptic or [SEP]\n",
      "\n",
      "Sample 3: [CLS] spinal locks and cervical locks are allowed and mandatory in ibjjf brazilian [SEP] spinal locks and cervical locks are forbidden in ibjjf brazilian ji [SEP]\n",
      "\n",
      "Sample 4: [CLS] dredgers excavate the sediment using mechanical or hydraulic methods or a combination of both [SEP] the dredgers use either mechanical or hydraulic methods . [SEP]\n",
      "\n",
      "Sample 5: [CLS] in 2014 , nextgen earns klas top performance honors for ambula [SEP] in 2014 , nextgen fails to achieve klas top performance honors for [SEP]\n",
      "\n",
      "Sample 6: [CLS] on june 22 , 2009 , the sec also filed civil fraud charges . [SEP] on june 22 , 2009 , the sec kept itself from filing civil fraud charges [SEP]\n",
      "\n",
      "Sample 7: [CLS] each annex to a filed document must have page numbering . [SEP] each annex to a filed document is not required to have page numbering . [SEP] [PAD] [PAD] [PAD] [PAD]\n",
      "\n",
      "Sample 8: [CLS] development of synchronous toothed - belts was begun by the gil [SEP] development of synchronous toothed - belts was halted by the [SEP]\n",
      "\n"
     ]
    }
   ],
   "source": [
    "# to create multi-sentence embeddings extract premise and hypothesis columns\n",
    "first = tf.constant([dataset[\"premise\"][i] for i in range(len(dataset))])\n",
    "second = tf.constant([dataset[\"hypothesis\"][i] for i in range(len(dataset))])\n",
    "\n",
    "# run the preprocessor, it concatenates with [SEP] and adds [PAD] and [CLS]\n",
    "preprocessed_data = preprocessor((first, second))\n",
    "\n",
    "# check how the padding and special token insertion works by decoding the encoding\n",
    "decoded_text = tokenizer.detokenize((preprocessed_data[\"token_ids\"])[:8])\n",
    "print(\"Decoded Text (First 8 Samples):\")\n",
    "for i, text in enumerate(decoded_text.numpy()):\n",
    "    print(f\"Sample {i+1}: {text.decode('utf-8')}\\n\")"
   ]
  },
  {
   "cell_type": "markdown",
   "metadata": {
    "id": "OsLwJWJDSQeC"
   },
   "source": [
    "**Predictor embeddings:** Extract the embeddings for the predictor sentences, as well as their target labels."
   ]
  },
  {
   "cell_type": "code",
   "execution_count": 14,
   "metadata": {
    "colab": {
     "base_uri": "https://localhost:8080/"
    },
    "execution": {
     "iopub.execute_input": "2024-08-13T13:25:31.747112Z",
     "iopub.status.busy": "2024-08-13T13:25:31.746803Z",
     "iopub.status.idle": "2024-08-13T13:25:31.799258Z",
     "shell.execute_reply": "2024-08-13T13:25:31.798312Z",
     "shell.execute_reply.started": "2024-08-13T13:25:31.747086Z"
    },
    "executionInfo": {
     "elapsed": 303,
     "status": "ok",
     "timestamp": 1723376054310,
     "user": {
      "displayName": "Kascha Kruschwitz",
      "userId": "01563592123614078480"
     },
     "user_tz": -120
    },
    "id": "_4utjsmpotTZ",
    "outputId": "c411b254-2e6f-4513-a57e-0023a61d0d1e"
   },
   "outputs": [
    {
     "name": "stdout",
     "output_type": "stream",
     "text": [
      "Shuffled Index  Original Row Name    Label\n",
      "2884            50487                1    \n",
      "52987           41715                1    \n",
      "71555           32427                1    \n",
      "11800           48323                1    \n",
      "44436           27068                1    \n",
      "34924           57658                1    \n",
      "18576           37518                1    \n",
      "51686           14465                1    \n",
      "31695           42008                1    \n",
      "69603           560                  1    \n",
      "10711           6543                 0    \n",
      "7804            51922                0    \n",
      "54667           16802                0    \n",
      "32607           66953                0    \n",
      "52258           24641                0    \n",
      "22606           14896                0    \n",
      "2446            20770                0    \n",
      "33520           70327                0    \n",
      "76091           34157                0    \n",
      "75430           64309                0    \n"
     ]
    }
   ],
   "source": [
    "# concatenate prediction original and new indices\n",
    "pred_indices = antonym_index + negation_index + paraphrased_index\n",
    "pred_rows = antonym_row_names + negation_row_names + paraphrased_row_names\n",
    "\n",
    "# get the preprocessor output for the prediction sentences\n",
    "pred_features = {\n",
    "    \"token_ids\": tf.stack([preprocessed_data['token_ids'][i] for i in pred_indices]),\n",
    "    \"segment_ids\": tf.stack([preprocessed_data['segment_ids'][i] for i in pred_indices]),\n",
    "    \"padding_mask\": tf.stack([preprocessed_data['padding_mask'][i] for i in pred_indices]),\n",
    "}\n",
    "\n",
    "# also get the prediction labels from the dataset\n",
    "pred_labels = list(dataset.loc[[i for i in pred_rows], \"label\"])\n",
    "\n",
    "# Print headers\n",
    "print(f\"{'Shuffled Index':<15} {'Original Row Name':<20} {'Label':<5}\")\n",
    "# Print each row's details\n",
    "for shuffled_index, original_row, label in zip(pred_indices, pred_rows, pred_labels):\n",
    "    print(f\"{shuffled_index:<15} {original_row:<20} {label:<5}\")\n"
   ]
  },
  {
   "cell_type": "markdown",
   "metadata": {
    "id": "LzubeMXhSpBS"
   },
   "source": [
    "**Extracting labels** was done in different ways, to be compatible with the different models.\n",
    "\n",
    "The output of Model 1 are two values, one for each label, as is common for multi-class classification. It thus requires one-hot encoded labels as input. Model 2 and 3 only have a single output node and generate a single value between 0 and 1, and thus the input does not require further preprocessing."
   ]
  },
  {
   "cell_type": "code",
   "execution_count": 15,
   "metadata": {
    "colab": {
     "base_uri": "https://localhost:8080/"
    },
    "execution": {
     "iopub.execute_input": "2024-08-13T13:25:31.800909Z",
     "iopub.status.busy": "2024-08-13T13:25:31.800535Z",
     "iopub.status.idle": "2024-08-13T13:25:31.834224Z",
     "shell.execute_reply": "2024-08-13T13:25:31.833389Z",
     "shell.execute_reply.started": "2024-08-13T13:25:31.800877Z"
    },
    "executionInfo": {
     "elapsed": 412,
     "status": "ok",
     "timestamp": 1723376069053,
     "user": {
      "displayName": "Kascha Kruschwitz",
      "userId": "01563592123614078480"
     },
     "user_tz": -120
    },
    "id": "lC98ztnFlQzj",
    "outputId": "ba808506-6492-4bd1-c38e-d0d093999738"
   },
   "outputs": [
    {
     "name": "stdout",
     "output_type": "stream",
     "text": [
      "Original Labels (from index 100 to 200):\n",
      "[0, 0, 1, 0, 1, 1, 1, 0, 0, 1, 0, 0, 1, 0, 1, 0, 0, 1, 0, 1, 0, 1, 0, 0, 0, 1, 0, 1, 1, 0, 1, 1, 0, 0, 1, 1, 0, 0, 0, 1, 1, 1, 1, 0, 1, 1, 0, 0, 1, 1, 1, 1, 0, 1, 0, 0, 0, 1, 0, 1, 0, 1, 1, 1, 0, 0, 1, 0, 0, 1, 0, 0, 0, 1, 0, 1, 1, 1, 1, 0, 0, 1, 1, 1, 0, 1, 0, 0, 0, 1, 1, 0, 0, 0, 0, 1, 1, 1, 1, 0]\n"
     ]
    }
   ],
   "source": [
    "# get labels from dataset as a list\n",
    "labels = list(dataset[\"label\"])\n",
    "\n",
    "# print to see that is works\n",
    "print(\"Original Labels (from index 100 to 200):\")\n",
    "print(labels[100:200])\n",
    "\n",
    "# preprocess for one-hot encoding (set to 0 and 1) - not necessary but just in case\n",
    "labels_01 = np.unique(np.array(labels), return_inverse=True)[1]\n",
    "# one-hot encode\n",
    "labels_01  = to_categorical(labels_01)\n",
    "\n",
    "# preprocess for binary classification with single output\n",
    "labels_02 = np.asarray(labels)"
   ]
  },
  {
   "cell_type": "markdown",
   "metadata": {
    "id": "jhclYLxyTt-p"
   },
   "source": [
    "**Train-Test Split**\n",
    "\n",
    "We decided on a split of 85:15, because the dataset is not very big and included a lot of rare words, so we wanted to give it a fighting chance. As the data was shuffled previously, the data is now simply split linearly.\n",
    "\n",
    "Aside from a feature collection for the training and test data, the full dataset's features are also saved, as they are needed for Model 3."
   ]
  },
  {
   "cell_type": "code",
   "execution_count": 16,
   "metadata": {
    "colab": {
     "base_uri": "https://localhost:8080/"
    },
    "execution": {
     "iopub.execute_input": "2024-08-13T13:25:31.835532Z",
     "iopub.status.busy": "2024-08-13T13:25:31.835267Z",
     "iopub.status.idle": "2024-08-13T13:25:31.852758Z",
     "shell.execute_reply": "2024-08-13T13:25:31.851940Z",
     "shell.execute_reply.started": "2024-08-13T13:25:31.835509Z"
    },
    "executionInfo": {
     "elapsed": 302,
     "status": "ok",
     "timestamp": 1723376156399,
     "user": {
      "displayName": "Kascha Kruschwitz",
      "userId": "01563592123614078480"
     },
     "user_tz": -120
    },
    "id": "RXPvSevoH4I3",
    "outputId": "3c473246-3e0b-4116-fa24-10c6e70d6a96"
   },
   "outputs": [
    {
     "name": "stdout",
     "output_type": "stream",
     "text": [
      "Shape of Token ID training data: (65769, 32)\n",
      "Shape of Model 1's label tensor: (65769, 2)\n",
      "Shape of Model 2's label tensor: (65769,)\n"
     ]
    }
   ],
   "source": [
    "# set test-train split to 15:85\n",
    "training_samples = (len(labels) * 85)//100\n",
    "\n",
    "# get split for all three embedding vectors\n",
    "x_train_token_ids = preprocessed_data['token_ids'][:training_samples]\n",
    "x_train_segment_ids = preprocessed_data[\"segment_ids\"][:training_samples]\n",
    "x_train_padding_mask = preprocessed_data[\"padding_mask\"][:training_samples]\n",
    "\n",
    "# also get split for labels for both model types\n",
    "y_train_01 = labels_01[:training_samples]\n",
    "y_train_02 = labels_02[:training_samples]\n",
    "\n",
    "# use remaining sentences and labels for testing\n",
    "x_test_token_ids = preprocessed_data['token_ids'][training_samples:]\n",
    "x_test_segment_ids = preprocessed_data[\"segment_ids\"][training_samples:]\n",
    "x_test_padding_mask = preprocessed_data[\"padding_mask\"][training_samples:]\n",
    "\n",
    "y_test_01 = labels_01[training_samples:]\n",
    "y_test_02 = labels_02[training_samples:]\n",
    "\n",
    "# get shape of the results\n",
    "print(f\"Shape of Token ID training data: {x_train_token_ids.shape}\")\n",
    "print(\"Shape of Model 1's label tensor:\", y_train_01.shape)\n",
    "print(\"Shape of Model 2's label tensor:\", y_train_02.shape)\n",
    "\n",
    "# get embeddings bundled again for single model input\n",
    "x_train_features = {\n",
    "    \"token_ids\": x_train_token_ids,\n",
    "    \"segment_ids\": x_train_segment_ids,\n",
    "    \"padding_mask\": x_train_padding_mask,\n",
    "}\n",
    "\n",
    "x_test_features = {\n",
    "     \"token_ids\": x_test_token_ids,\n",
    "    \"segment_ids\": x_test_segment_ids,\n",
    "    \"padding_mask\": x_test_padding_mask,\n",
    "}\n",
    "\n",
    "# get bundle for entire dataset to be used in model 2\n",
    "features = {\n",
    "    \"token_ids\": preprocessed_data['token_ids'],\n",
    "    \"segment_ids\": preprocessed_data[\"segment_ids\"],\n",
    "    \"padding_mask\": preprocessed_data[\"padding_mask\"],\n",
    "}"
   ]
  },
  {
   "cell_type": "markdown",
   "metadata": {
    "id": "OdldDBdYQZmt"
   },
   "source": [
    "# **FEW SHOT TRAINING GPT-Neo**"
   ]
  },
  {
   "cell_type": "markdown",
   "metadata": {
    "id": "8BuC1iBFOYvN"
   },
   "source": [
    "The first step in our investigation was attempting few-shot learning using GPT-Neo, a version of GPT-3 that is trained for next token prediction. We did this to establish a baseline, to see how optimistic we should be about the other models we were training.\n",
    "\n",
    "After loading the model and it's tokenizer, we provided a prompt and some classification examples from the dataset to the model. We then use this to predict the labels for all our prediction sentences."
   ]
  },
  {
   "cell_type": "code",
   "execution_count": 17,
   "metadata": {
    "colab": {
     "base_uri": "https://localhost:8080/",
     "height": 335,
     "referenced_widgets": [
      "4c60657748b44bcfa08864ac2edb53e3",
      "d825e0d952c443c8907163551c3aee25",
      "a31d79f2a4d24b26a03bcb09c4e8254c",
      "08477016f7f64c7b9734134bdbd2945b",
      "6bb065b8fcba4fcfbed9a341aee19cc7",
      "f10dfb555e1c4363b09e1ef5ea4a0109",
      "1d57b068e3ff4a58817476af0a80b21f",
      "95b868e5817940c49339a6626bbd6be6",
      "8269da770f564b79bf01aca4036d1fd9",
      "6284dce2eed54dfd8e5094d750b5ebfc",
      "df10366ea4654b78a137ca311d5c4970",
      "355a95cf9c4443fc82ee6b0b18680945",
      "fa71e1e6869d4c539ca2bac782f2cd9c",
      "2565b44fc3df4b5888b9d56e12b7ef72",
      "81e3adbd7a394716ae80449f5ae8533d",
      "38b45240a2be489cb4af1ddda0ac684a",
      "c3dc1afe933443b5b358e3b23d405c67",
      "3e958df5b78b4fa894ebf6f580fb77fa",
      "70bc5b960c8346509b792b485af614bb",
      "d4debc9141e94e31bfcfbf6fd8b601f6",
      "e86a4ec158784b99a2fbd0a8c20c6ac2",
      "a9b845abea394b159b4d7fdca80f20b3",
      "9f38092b12b445b3a323c860b40cce8b",
      "6ef674b8a7404c5aa373a9692c3d5853",
      "bdb45be2369e4bae9f7beaf44cdbeb1b",
      "f728f31d9b024a2d9e795c43557c0837",
      "c808062297bf49a7954938d81d84959b",
      "88df1fe74cef4bc88f77c9509a44a35f",
      "0842135e457d4814890a37d31e39fd95",
      "4ff6c62322bb45bcbb2865f7dedb2d7b",
      "280a84ba80b8453fab6ee5df4c6aa868",
      "da03572faf1f4135a7aa5db3ed826ec3",
      "03ee48fda9fe43f9a6acfcef9d25fef8",
      "88c761a4e73246d9a732ba5b57701c1e",
      "742694dfca2a43e7acdf48671ddce55a",
      "311eff1b4f7a4349982399e0f6f7f214",
      "40d38fd5c5db42789187cbb0768298a8",
      "4bb8ed32c3f84824a08d00488c816f83",
      "9a5f7255427c4f9f8c6fc7421840a12c",
      "258ac545059d46da9c87fc249e951581",
      "da9a010a39d246fd8a0bf39b51538ddf",
      "4b0f87433db54052b92efa091b659bb6",
      "d6ed0474535248979785e35904bb9552",
      "c97f7ea106874217bbc190bee65f6ca8",
      "8161f4f3477948c9bb62c063ee6c16e4",
      "fa195b67647e40af9f8fa123f1245075",
      "b14ee3381aa64488ac829853caaf4f1a",
      "73c9cab2c5aa4d59b9f7123b2737035d",
      "87fc342b10d7451d8848584f757b2d5c",
      "a8b7d75512044f069abc0ee80eb1e510",
      "4230b1d654c74848a7ad04d07eab3e77",
      "541951ecbb89442aa64dc19d35c7a08d",
      "c68a1363d00e4a38b2a9cd91e9f46ae4",
      "8ffecd45c0cf42caa52645b9fd679bfd",
      "76764bb3cc1147c087d67579fc6d03a0",
      "e7dba920c2e74414912407e6fc4dded9",
      "4148d8a2d1484ca5a3cf6873f0a6afc2",
      "1768475065cb44b1892a6ad67c4713cc",
      "b42a07da0e044bf7b99b490730ec4af6",
      "ae43ac92a9d14fefb7e5af3e9dab6147",
      "710c4e04e8374ea486f1cde52e43f53a",
      "5ec3aed6d0d8483a8155db9c7490511a",
      "8eeed1a3a46b46c8852b37d3fdb605f9",
      "5789417a2ea9423090e1b46af79da3af",
      "c7ca0b2c73224f6380ade8307039a398",
      "28f05baeaa2f4ddfbdb2cfaaeca0bae3"
     ]
    },
    "execution": {
     "iopub.execute_input": "2024-08-13T13:25:31.854292Z",
     "iopub.status.busy": "2024-08-13T13:25:31.854034Z",
     "iopub.status.idle": "2024-08-13T13:26:06.149338Z",
     "shell.execute_reply": "2024-08-13T13:26:06.148170Z",
     "shell.execute_reply.started": "2024-08-13T13:25:31.854269Z"
    },
    "executionInfo": {
     "elapsed": 54611,
     "status": "ok",
     "timestamp": 1723376217943,
     "user": {
      "displayName": "Kascha Kruschwitz",
      "userId": "01563592123614078480"
     },
     "user_tz": -120
    },
    "id": "zWi-Om29QgXs",
    "outputId": "01c810aa-993b-429b-a291-1d12c82bc4f5"
   },
   "outputs": [
    {
     "data": {
      "application/vnd.jupyter.widget-view+json": {
       "model_id": "495ddfd4ac274903bed648251f5f64b1",
       "version_major": 2,
       "version_minor": 0
      },
      "text/plain": [
       "tokenizer_config.json:   0%|          | 0.00/200 [00:00<?, ?B/s]"
      ]
     },
     "metadata": {},
     "output_type": "display_data"
    },
    {
     "data": {
      "application/vnd.jupyter.widget-view+json": {
       "model_id": "79329a5741c540afb4bae72df3f8cf0e",
       "version_major": 2,
       "version_minor": 0
      },
      "text/plain": [
       "config.json:   0%|          | 0.00/1.35k [00:00<?, ?B/s]"
      ]
     },
     "metadata": {},
     "output_type": "display_data"
    },
    {
     "data": {
      "application/vnd.jupyter.widget-view+json": {
       "model_id": "746b6d81883c4b8e897555b5e601facd",
       "version_major": 2,
       "version_minor": 0
      },
      "text/plain": [
       "vocab.json:   0%|          | 0.00/798k [00:00<?, ?B/s]"
      ]
     },
     "metadata": {},
     "output_type": "display_data"
    },
    {
     "data": {
      "application/vnd.jupyter.widget-view+json": {
       "model_id": "906b7f958bca441c8b6738ac34b66b6e",
       "version_major": 2,
       "version_minor": 0
      },
      "text/plain": [
       "merges.txt:   0%|          | 0.00/456k [00:00<?, ?B/s]"
      ]
     },
     "metadata": {},
     "output_type": "display_data"
    },
    {
     "data": {
      "application/vnd.jupyter.widget-view+json": {
       "model_id": "f8cf816c110447cfa4be1e1abed4a2b5",
       "version_major": 2,
       "version_minor": 0
      },
      "text/plain": [
       "special_tokens_map.json:   0%|          | 0.00/90.0 [00:00<?, ?B/s]"
      ]
     },
     "metadata": {},
     "output_type": "display_data"
    },
    {
     "data": {
      "application/vnd.jupyter.widget-view+json": {
       "model_id": "80a4230d9f0340b38c617ebca767bd7f",
       "version_major": 2,
       "version_minor": 0
      },
      "text/plain": [
       "model.safetensors:   0%|          | 0.00/5.31G [00:00<?, ?B/s]"
      ]
     },
     "metadata": {},
     "output_type": "display_data"
    }
   ],
   "source": [
    "# Load the pre-trained GPT-Neo model and tokenizer\n",
    "model_name = \"EleutherAI/gpt-neo-1.3B\"\n",
    "tokenizer = AutoTokenizer.from_pretrained(model_name)\n",
    "model = GPTNeoForCausalLM.from_pretrained(model_name)"
   ]
  },
  {
   "cell_type": "code",
   "execution_count": 18,
   "metadata": {
    "execution": {
     "iopub.execute_input": "2024-08-13T13:26:06.151426Z",
     "iopub.status.busy": "2024-08-13T13:26:06.151037Z",
     "iopub.status.idle": "2024-08-13T13:26:06.158127Z",
     "shell.execute_reply": "2024-08-13T13:26:06.156972Z",
     "shell.execute_reply.started": "2024-08-13T13:26:06.151393Z"
    },
    "id": "aTpLnpK39nQT"
   },
   "outputs": [],
   "source": [
    "classification_examples = \"\"\"\n",
    "Classify the hypothesis as a negated (1) or non-negated (0) version of the premise. Examples:\n",
    "Premise: This is a bad idea.\n",
    "Hypothesis: This is not a good idea.\n",
    "Label: 1\n",
    "###\n",
    "Premise: It's not healthy.\n",
    "Hypothesis: It's unhealthy.\n",
    "Label: 0\n",
    "###\n",
    "Premise: No one has a set of principles to live by.\n",
    "Hypothesis: Everyone has a set of principles to live by.\n",
    "Label: 1\n",
    "###\n",
    "Premise: The cat was sitting on the mat.\n",
    "Hypothesis: The cat sat on the mat.\n",
    "Label: 0\n",
    "###\n",
    "Premise:  I saw nothing at all.\n",
    "Hypothesis: I didn't see anything.\n",
    "Label: 0\n",
    "###\n",
    "Premise: Both do good jobs and are quite amusing.\n",
    "Hypothesis: Both do good jobs and aren't quite amusing.\n",
    "Label: 1\n",
    "###\n",
    "Premise: Griffon has been banned from being publicly traded since 1961.\n",
    "Hypothesis: Griffon has been publicly traded since 1961.\n",
    "Label: 1\n",
    "###\n",
    "Input: The plant will probably die if it hasn't had enough time to regenerate.\n",
    "Hypothesis: If the plant has not had time to sufficiently regenerate it will probably perish.\n",
    "Label: 0\n",
    "###\n",
    "Input: It's not uneasy to explain.\n",
    "Hypothesis: It's not easy to explain.\n",
    "Label: 1\n",
    "###\n",
    "Input: After retiring in 1954, Yee worked for a long time with Harrington.\n",
    "Hypothesis: After retiring in 1954, Yee worked with Harrington nearly every day.\n",
    "Label: 0\n",
    "\"\"\"\n"
   ]
  },
  {
   "cell_type": "code",
   "execution_count": 19,
   "metadata": {
    "execution": {
     "iopub.execute_input": "2024-08-13T13:26:06.159977Z",
     "iopub.status.busy": "2024-08-13T13:26:06.159649Z",
     "iopub.status.idle": "2024-08-13T13:26:09.293456Z",
     "shell.execute_reply": "2024-08-13T13:26:09.292277Z",
     "shell.execute_reply.started": "2024-08-13T13:26:06.159947Z"
    },
    "id": "iLJbvyX09odB"
   },
   "outputs": [],
   "source": [
    "def classify_neg(classification_examples, premise, hypothesis):\n",
    "    # prompt including preset examples and the new sample\n",
    "    prompt = f\"{classification_examples}\\n\\n{premise}\\n\\n{hypothesis}\\n\\n Label:\"\n",
    "\n",
    "    # Tokenize the prompt\n",
    "    input_ids = tokenizer.encode(prompt, return_tensors=\"pt\")\n",
    "\n",
    "    # Generate text output\n",
    "    output = model.generate(\n",
    "        input_ids,\n",
    "        max_length=len(input_ids[0]) + 50,\n",
    "        num_return_sequences=1,\n",
    "        temperature=0.7, # make it a bit more random\n",
    "        pad_token_id=tokenizer.eos_token_id\n",
    "    )\n",
    "\n",
    "    # Decode the generated text\n",
    "    generated_classification = tokenizer.decode(output[0], skip_special_tokens=True)\n",
    "\n",
    "    # Extract the classification result from the text\n",
    "    start_idx = generated_classification.find(\"Label:\") + len(\"Label:\")\n",
    "    end_idx = generated_classification.find(\"###\", start_idx)\n",
    "    if end_idx == -1:\n",
    "        end_idx = None\n",
    "    classification_result = generated_classification[start_idx:end_idx].strip()\n",
    "\n",
    "    return classification_result"
   ]
  },
  {
   "cell_type": "markdown",
   "metadata": {
    "id": "ZoA3_M8-U9xO"
   },
   "source": [
    "As mentioned before, we tested the model using the prediction sentences. We then generated a confusion matrix to display the models perormance. As we can see from comparing the target and predicted labels, the model does not perform very well. GPT always predicts the label 1 (\"Negated\"), such that half the time it generates true positive examples, and the other half it generates false positive examples."
   ]
  },
  {
   "cell_type": "code",
   "execution_count": 20,
   "metadata": {
    "colab": {
     "base_uri": "https://localhost:8080/"
    },
    "execution": {
     "iopub.execute_input": "2024-08-13T13:26:09.295391Z",
     "iopub.status.busy": "2024-08-13T13:26:09.295088Z",
     "iopub.status.idle": "2024-08-13T13:32:20.512788Z",
     "shell.execute_reply": "2024-08-13T13:32:20.511847Z",
     "shell.execute_reply.started": "2024-08-13T13:26:09.295365Z"
    },
    "executionInfo": {
     "elapsed": 1136929,
     "status": "ok",
     "timestamp": 1723377396093,
     "user": {
      "displayName": "Kascha Kruschwitz",
      "userId": "01563592123614078480"
     },
     "user_tz": -120
    },
    "id": "PI2Ui7Mx-eNi",
    "outputId": "75de4447-39aa-4e3b-9dd8-4377fab01462"
   },
   "outputs": [
    {
     "name": "stderr",
     "output_type": "stream",
     "text": [
      "/opt/conda/lib/python3.10/site-packages/transformers/generation/configuration_utils.py:540: UserWarning: `do_sample` is set to `False`. However, `temperature` is set to `0.7` -- this flag is only used in sample-based generation modes. You should set `do_sample=True` or unset `temperature`.\n",
      "  warnings.warn(\n",
      "The attention mask is not set and cannot be inferred from input because pad token is same as eos token.As a consequence, you may observe unexpected behavior. Please pass your input's `attention_mask` to obtain reliable results.\n"
     ]
    },
    {
     "name": "stdout",
     "output_type": "stream",
     "text": [
      "[1, 1, 1, 1, 1, 1, 1, 1, 1, 1, 0, 0, 0, 0, 0, 0, 0, 0, 0, 0]\n",
      "['1', '1', '1', '1', '1', '1', '1', '1', '1', '1', '1', '1', '1', '1', '1', '1', '1', '1', '1', '1']\n"
     ]
    }
   ],
   "source": [
    "# run the model on each of the prediction sentences\n",
    "premises = list(dataset.loc[[i for i in pred_rows], \"premise\"])\n",
    "hypothesees = list(dataset.loc[[i for i in pred_rows], \"hypothesis\"])\n",
    "\n",
    "gpt_pred = []\n",
    "for prem, hyp in zip(premises, hypothesees):\n",
    "    answer = classify_neg(classification_examples, prem, hyp)\n",
    "    gpt_pred.append(answer)\n",
    "\n",
    "# display the output predictions\n",
    "print(pred_labels)\n",
    "print(gpt_pred)"
   ]
  },
  {
   "cell_type": "code",
   "execution_count": 21,
   "metadata": {
    "colab": {
     "base_uri": "https://localhost:8080/",
     "height": 234
    },
    "execution": {
     "iopub.execute_input": "2024-08-13T13:32:20.514471Z",
     "iopub.status.busy": "2024-08-13T13:32:20.513968Z",
     "iopub.status.idle": "2024-08-13T13:32:20.657761Z",
     "shell.execute_reply": "2024-08-13T13:32:20.656367Z",
     "shell.execute_reply.started": "2024-08-13T13:32:20.514444Z"
    },
    "executionInfo": {
     "elapsed": 6,
     "status": "error",
     "timestamp": 1723400514472,
     "user": {
      "displayName": "Kascha Kruschwitz",
      "userId": "01563592123614078480"
     },
     "user_tz": -120
    },
    "id": "xbhFoZbXTk0X",
    "outputId": "80c996d0-b2d6-4a12-d6cc-58511926aa45"
   },
   "outputs": [
    {
     "data": {
      "image/png": "[encoded data removed]",
      "text/plain": [
       "<Figure size 640x480 with 1 Axes>"
      ]
     },
     "metadata": {},
     "output_type": "display_data"
    }
   ],
   "source": [
    "#Create confusion matrix in percentages\n",
    "result = confusion_matrix(pred_labels, [int(i) for i in gpt_pred], normalize='pred', labels=[1,0] )\n",
    "\n",
    "# visualize confusion matrix with sklearn metrics\n",
    "# define matrix and labels\n",
    "result_display = metrics.ConfusionMatrixDisplay(confusion_matrix = result, display_labels = [\"1\", \"0\"])\n",
    "\n",
    "# display matrix without the colorbar for neatness\n",
    "result_display.plot(colorbar=False)\n",
    "plt.show()"
   ]
  },
  {
   "cell_type": "markdown",
   "metadata": {
    "id": "XrXyu751JCCM"
   },
   "source": [
    "# **MODEL 1**\n",
    "\n",
    "\n",
    "The second attempt at classification was made by fine-tuning the BERT base classifier provided by Keras-nlp. One of the tasks BERT is trained on is Next Sentence Prediction, such that given two sentences, it needs to predict whether the second sentence follows from the first. Our current problem is similar, in that the model is tasked with detecting whether sentence 1 stands in a certain relation to sentence 2. Thus, we were hoping that the model by itself could use semantic information from the embeddings to learn negation. The given code was inspired by Mishra (2023).\n"
   ]
  },
  {
   "cell_type": "code",
   "execution_count": 22,
   "metadata": {
    "colab": {
     "base_uri": "https://localhost:8080/"
    },
    "execution": {
     "iopub.execute_input": "2024-08-13T13:32:20.660675Z",
     "iopub.status.busy": "2024-08-13T13:32:20.660154Z",
     "iopub.status.idle": "2024-08-13T13:32:38.883608Z",
     "shell.execute_reply": "2024-08-13T13:32:38.882729Z",
     "shell.execute_reply.started": "2024-08-13T13:32:20.660628Z"
    },
    "executionInfo": {
     "elapsed": 17781,
     "status": "ok",
     "timestamp": 1723368595876,
     "user": {
      "displayName": "Kascha Kruschwitz",
      "userId": "01563592123614078480"
     },
     "user_tz": -120
    },
    "id": "6KrlXkv4JGTi",
    "outputId": "1dcd4365-c7dc-47d9-e23c-5a483d225a40"
   },
   "outputs": [
    {
     "name": "stdout",
     "output_type": "stream",
     "text": [
      "Attaching 'model.safetensors' from model 'keras/bert/keras/bert_base_en_uncased/2' to your Kaggle notebook...\n",
      "Attaching 'model.safetensors.index.json' from model 'keras/bert/keras/bert_base_en_uncased/2' to your Kaggle notebook...\n",
      "Attaching 'metadata.json' from model 'keras/bert/keras/bert_base_en_uncased/2' to your Kaggle notebook...\n",
      "Attaching 'metadata.json' from model 'keras/bert/keras/bert_base_en_uncased/2' to your Kaggle notebook...\n",
      "Attaching 'task.json' from model 'keras/bert/keras/bert_base_en_uncased/2' to your Kaggle notebook...\n",
      "Attaching 'config.json' from model 'keras/bert/keras/bert_base_en_uncased/2' to your Kaggle notebook...\n",
      "Attaching 'model.safetensors' from model 'keras/bert/keras/bert_base_en_uncased/2' to your Kaggle notebook...\n",
      "Attaching 'model.safetensors.index.json' from model 'keras/bert/keras/bert_base_en_uncased/2' to your Kaggle notebook...\n",
      "Attaching 'metadata.json' from model 'keras/bert/keras/bert_base_en_uncased/2' to your Kaggle notebook...\n",
      "Attaching 'metadata.json' from model 'keras/bert/keras/bert_base_en_uncased/2' to your Kaggle notebook...\n",
      "Attaching 'config.json' from model 'keras/bert/keras/bert_base_en_uncased/2' to your Kaggle notebook...\n",
      "Attaching 'config.json' from model 'keras/bert/keras/bert_base_en_uncased/2' to your Kaggle notebook...\n",
      "Attaching 'model.weights.h5' from model 'keras/bert/keras/bert_base_en_uncased/2' to your Kaggle notebook...\n"
     ]
    }
   ],
   "source": [
    "# load normal BERT classifier for english including the existing weights\n",
    "# preprocessor = None, because it was done manually before\n",
    "# in this model, binary classification requires 2 classes\n",
    "classifier = keras_nlp.models.BertClassifier.from_preset(\n",
    "    \"bert_base_en_uncased\", preprocessor = None,\n",
    "    num_classes=2, load_weights=True,  trainable=True)"
   ]
  },
  {
   "cell_type": "markdown",
   "metadata": {
    "id": "H4gjEGV-aq4l"
   },
   "source": [
    "**Training the model**\n",
    "\n",
    "The model was compiled using binary crossentropy and the Adam optimizer. Different optimizers as well as both higher and lower learning rates did not improve model performance. Neither did different batch sizes or training for more epochs."
   ]
  },
  {
   "cell_type": "code",
   "execution_count": 23,
   "metadata": {
    "colab": {
     "base_uri": "https://localhost:8080/"
    },
    "execution": {
     "iopub.execute_input": "2024-08-13T13:32:38.885814Z",
     "iopub.status.busy": "2024-08-13T13:32:38.885273Z",
     "iopub.status.idle": "2024-08-13T14:03:43.179025Z",
     "shell.execute_reply": "2024-08-13T14:03:43.178088Z",
     "shell.execute_reply.started": "2024-08-13T13:32:38.885771Z"
    },
    "executionInfo": {
     "elapsed": 1755998,
     "status": "ok",
     "timestamp": 1723370351869,
     "user": {
      "displayName": "Kascha Kruschwitz",
      "userId": "01563592123614078480"
     },
     "user_tz": -120
    },
    "id": "YRcTgSiTJSie",
    "outputId": "fcdd2f1e-aa5f-499b-c2f6-638a78e50ae9"
   },
   "outputs": [
    {
     "name": "stdout",
     "output_type": "stream",
     "text": [
      "Epoch 1/5\n"
     ]
    },
    {
     "name": "stderr",
     "output_type": "stream",
     "text": [
      "WARNING: All log messages before absl::InitializeLog() is called are written to STDERR\n",
      "I0000 00:00:1723556075.416102      82 device_compiler.h:186] Compiled cluster using XLA!  This line is logged at most once for the lifetime of the process.\n",
      "W0000 00:00:1723556075.498098      82 graph_launch.cc:671] Fallback to op-by-op mode because memset node breaks graph update\n"
     ]
    },
    {
     "name": "stdout",
     "output_type": "stream",
     "text": [
      "\u001b[1m823/823\u001b[0m \u001b[32m━━━━━━━━━━━━━━━━━━━━\u001b[0m\u001b[37m\u001b[0m \u001b[1m0s\u001b[0m 485ms/step - accuracy: 0.5041 - loss: 0.7937"
     ]
    },
    {
     "name": "stderr",
     "output_type": "stream",
     "text": [
      "W0000 00:00:1723556474.085367      82 graph_launch.cc:671] Fallback to op-by-op mode because memset node breaks graph update\n",
      "W0000 00:00:1723556478.610068      82 graph_launch.cc:671] Fallback to op-by-op mode because memset node breaks graph update\n"
     ]
    },
    {
     "name": "stdout",
     "output_type": "stream",
     "text": [
      "\u001b[1m823/823\u001b[0m \u001b[32m━━━━━━━━━━━━━━━━━━━━\u001b[0m\u001b[37m\u001b[0m \u001b[1m545s\u001b[0m 520ms/step - accuracy: 0.5040 - loss: 0.7936 - val_accuracy: 0.5176 - val_loss: 1.0543\n",
      "Epoch 2/5\n"
     ]
    },
    {
     "name": "stderr",
     "output_type": "stream",
     "text": [
      "W0000 00:00:1723556503.680002      80 graph_launch.cc:671] Fallback to op-by-op mode because memset node breaks graph update\n"
     ]
    },
    {
     "name": "stdout",
     "output_type": "stream",
     "text": [
      "\u001b[1m823/823\u001b[0m \u001b[32m━━━━━━━━━━━━━━━━━━━━\u001b[0m\u001b[37m\u001b[0m \u001b[1m330s\u001b[0m 401ms/step - accuracy: 0.5012 - loss: 0.7644 - val_accuracy: 0.5176 - val_loss: 1.0354\n",
      "Epoch 3/5\n",
      "\u001b[1m823/823\u001b[0m \u001b[32m━━━━━━━━━━━━━━━━━━━━\u001b[0m\u001b[37m\u001b[0m \u001b[1m330s\u001b[0m 401ms/step - accuracy: 0.4998 - loss: 0.7618 - val_accuracy: 0.5176 - val_loss: 1.0081\n",
      "Epoch 4/5\n",
      "\u001b[1m823/823\u001b[0m \u001b[32m━━━━━━━━━━━━━━━━━━━━\u001b[0m\u001b[37m\u001b[0m \u001b[1m329s\u001b[0m 400ms/step - accuracy: 0.4993 - loss: 0.7648 - val_accuracy: 0.5176 - val_loss: 1.0213\n",
      "Epoch 5/5\n",
      "\u001b[1m823/823\u001b[0m \u001b[32m━━━━━━━━━━━━━━━━━━━━\u001b[0m\u001b[37m\u001b[0m \u001b[1m330s\u001b[0m 401ms/step - accuracy: 0.5004 - loss: 0.7623 - val_accuracy: 0.5176 - val_loss: 1.0296\n"
     ]
    }
   ],
   "source": [
    "#Compiling the model for binary classification, using manual learning rate\n",
    "classifier.compile(\n",
    "    loss=tf.keras.losses.BinaryCrossentropy(from_logits=True),\n",
    "    optimizer=tf.keras.optimizers.Adam(learning_rate=0.01),\n",
    "    metrics=['accuracy'])\n",
    "\n",
    "# Training BERT and show the training progress\n",
    "history_01 = classifier.fit(\n",
    "    x_train_features, y_train_01,\n",
    "    epochs=5, batch_size=64, validation_split=0.2, verbose = 1)"
   ]
  },
  {
   "cell_type": "markdown",
   "metadata": {
    "id": "iW-0nv9RNrjk"
   },
   "source": [
    "**Evaluation on the Test Set**"
   ]
  },
  {
   "cell_type": "code",
   "execution_count": 24,
   "metadata": {
    "colab": {
     "base_uri": "https://localhost:8080/"
    },
    "execution": {
     "iopub.execute_input": "2024-08-13T14:03:43.181419Z",
     "iopub.status.busy": "2024-08-13T14:03:43.180551Z",
     "iopub.status.idle": "2024-08-13T14:04:07.297467Z",
     "shell.execute_reply": "2024-08-13T14:04:07.296463Z",
     "shell.execute_reply.started": "2024-08-13T14:03:43.181370Z"
    },
    "executionInfo": {
     "elapsed": 41076,
     "status": "ok",
     "timestamp": 1723370392938,
     "user": {
      "displayName": "Kascha Kruschwitz",
      "userId": "01563592123614078480"
     },
     "user_tz": -120
    },
    "id": "vtp-4yiANqMr",
    "outputId": "c419f0fb-5202-40c2-cadb-8e58f18d2c58"
   },
   "outputs": [
    {
     "name": "stdout",
     "output_type": "stream",
     "text": [
      "\u001b[1m  4/363\u001b[0m \u001b[37m━━━━━━━━━━━━━━━━━━━━\u001b[0m \u001b[1m19s\u001b[0m 53ms/step - accuracy: 0.5560 - loss: 0.9597"
     ]
    },
    {
     "name": "stderr",
     "output_type": "stream",
     "text": [
      "W0000 00:00:1723557825.610429      81 graph_launch.cc:671] Fallback to op-by-op mode because memset node breaks graph update\n"
     ]
    },
    {
     "name": "stdout",
     "output_type": "stream",
     "text": [
      "\u001b[1m363/363\u001b[0m \u001b[32m━━━━━━━━━━━━━━━━━━━━\u001b[0m\u001b[37m\u001b[0m \u001b[1m24s\u001b[0m 60ms/step - accuracy: 0.5170 - loss: 1.0308\n"
     ]
    },
    {
     "name": "stderr",
     "output_type": "stream",
     "text": [
      "W0000 00:00:1723557847.230477      82 graph_launch.cc:671] Fallback to op-by-op mode because memset node breaks graph update\n"
     ]
    }
   ],
   "source": [
    "#evaluation\n",
    "test_ev_01 = classifier.evaluate(x_test_features, y_test_01)"
   ]
  },
  {
   "cell_type": "markdown",
   "metadata": {
    "id": "hPFzwWmqM4xx"
   },
   "source": [
    "**Plotting Accuracy and Loss**\n"
   ]
  },
  {
   "cell_type": "code",
   "execution_count": 25,
   "metadata": {
    "execution": {
     "iopub.execute_input": "2024-08-13T14:04:07.298998Z",
     "iopub.status.busy": "2024-08-13T14:04:07.298717Z",
     "iopub.status.idle": "2024-08-13T14:04:07.308262Z",
     "shell.execute_reply": "2024-08-13T14:04:07.307303Z",
     "shell.execute_reply.started": "2024-08-13T14:04:07.298973Z"
    },
    "id": "EfbvMNoFJoSc"
   },
   "outputs": [],
   "source": [
    "# define function for plotting accuracy and loss for training, validation and test data\n",
    "def plot_training_history(history, test_metrics):\n",
    "\n",
    "    accuracy = history.history['accuracy']\n",
    "    val_accuracy = history.history['val_accuracy']\n",
    "    loss = history.history['loss']\n",
    "    val_loss = history.history['val_loss']\n",
    "    epochs_range = range(1, len(accuracy) + 1) # get maximum epochs to plot test data there\n",
    "\n",
    "    # Plotting test, training & validation accuracy\n",
    "    plt.figure(figsize=(14, 5))\n",
    "    plt.subplot(1, 2, 1)\n",
    "    plt.plot(epochs_range, accuracy, 'r', label='Training accuracy')\n",
    "    plt.plot(epochs_range, val_accuracy, 'b', label='Validation accuracy')\n",
    "    plt.plot(max(epochs_range), test_metrics[1], 'go', label='Test acc')\n",
    "    plt.title('Training and validation accuracy')\n",
    "    plt.xlabel('Epochs')\n",
    "    plt.ylabel('Accuracy')\n",
    "    plt.legend()\n",
    "\n",
    "    # Plotting test, training & validation loss\n",
    "    plt.subplot(1, 2, 2)\n",
    "    plt.plot(epochs_range, loss, 'r', label='Training loss')\n",
    "    plt.plot(epochs_range, val_loss, 'b', label='Validation loss')\n",
    "    plt.plot(max(epochs_range), test_metrics[0], 'go', label='Test acc')\n",
    "    plt.title('Training and validation loss')\n",
    "    plt.xlabel('Epochs')\n",
    "    plt.ylabel('Loss')\n",
    "    plt.legend()\n",
    "\n",
    "    plt.show()\n"
   ]
  },
  {
   "cell_type": "code",
   "execution_count": 26,
   "metadata": {
    "colab": {
     "base_uri": "https://localhost:8080/",
     "height": 385
    },
    "execution": {
     "iopub.execute_input": "2024-08-13T14:04:07.309720Z",
     "iopub.status.busy": "2024-08-13T14:04:07.309409Z",
     "iopub.status.idle": "2024-08-13T14:04:07.842268Z",
     "shell.execute_reply": "2024-08-13T14:04:07.841214Z",
     "shell.execute_reply.started": "2024-08-13T14:04:07.309695Z"
    },
    "executionInfo": {
     "elapsed": 627,
     "status": "ok",
     "timestamp": 1723370393560,
     "user": {
      "displayName": "Kascha Kruschwitz",
      "userId": "01563592123614078480"
     },
     "user_tz": -120
    },
    "id": "UuMFCnsvNtlh",
    "outputId": "6949b0ab-35ad-45d8-91ed-a707b0c90736"
   },
   "outputs": [
    {
     "data": {
      "image/png": "[encoded data removed]",
      "text/plain": [
       "<Figure size 1400x500 with 2 Axes>"
      ]
     },
     "metadata": {},
     "output_type": "display_data"
    }
   ],
   "source": [
    "# apply plot to the first model\n",
    "plot_training_history(history_01, test_ev_01)"
   ]
  },
  {
   "cell_type": "markdown",
   "metadata": {
    "id": "2-BXLKRBPf9q"
   },
   "source": [
    "**Predictions**"
   ]
  },
  {
   "cell_type": "code",
   "execution_count": 27,
   "metadata": {
    "colab": {
     "base_uri": "https://localhost:8080/"
    },
    "execution": {
     "iopub.execute_input": "2024-08-13T14:04:07.843816Z",
     "iopub.status.busy": "2024-08-13T14:04:07.843503Z",
     "iopub.status.idle": "2024-08-13T14:04:11.906560Z",
     "shell.execute_reply": "2024-08-13T14:04:11.905546Z",
     "shell.execute_reply.started": "2024-08-13T14:04:07.843790Z"
    },
    "executionInfo": {
     "elapsed": 8406,
     "status": "ok",
     "timestamp": 1723370401955,
     "user": {
      "displayName": "Kascha Kruschwitz",
      "userId": "01563592123614078480"
     },
     "user_tz": -120
    },
    "id": "QgWublqdPYt9",
    "outputId": "bd34acef-6459-4a08-e99d-157306080e1d"
   },
   "outputs": [
    {
     "name": "stdout",
     "output_type": "stream",
     "text": [
      "\u001b[1m1/1\u001b[0m \u001b[32m━━━━━━━━━━━━━━━━━━━━\u001b[0m\u001b[37m\u001b[0m \u001b[1m4s\u001b[0m 4s/step\n",
      "[1 1 1 1 1 1 1 1 1 1 0 0 0 0 0 0 0 0 0 0]\n",
      "Predicted labels: [0 0 0 0 0 0 0 0 0 0 0 0 0 0 0 0 0 0 0 0]\n"
     ]
    },
    {
     "name": "stderr",
     "output_type": "stream",
     "text": [
      "W0000 00:00:1723557851.882244      80 graph_launch.cc:671] Fallback to op-by-op mode because memset node breaks graph update\n"
     ]
    }
   ],
   "source": [
    "# use model to make predictions on the target sentences\n",
    "pred_predictions = classifier.predict(pred_features)\n",
    "pred_labels_array = np.array(pred_labels)\n",
    "print(pred_labels_array)\n",
    "\n",
    "# BERT model output is raw numbers for each class\n",
    "# scaled to probabilities using softmax\n",
    "def softmax(x):\n",
    "    return np.exp(x) / np.exp(x).sum(axis=0) # axis=1  !!!\n",
    "\n",
    "# Get the class predictions with maximum probabilities\n",
    "predictions1 = softmax(pred_predictions)\n",
    "\n",
    "# Print the class predictions with maximum probabilities\n",
    "predicted_classes1 = np.argmax(predictions1, axis=1)\n",
    "print(\"Predicted labels:\", predicted_classes1)"
   ]
  },
  {
   "cell_type": "markdown",
   "metadata": {
    "id": "ILkg0AiCZ0n2"
   },
   "source": [
    "**Classification Report**\n"
   ]
  },
  {
   "cell_type": "code",
   "execution_count": 33,
   "metadata": {
    "execution": {
     "iopub.execute_input": "2024-08-13T14:07:39.859396Z",
     "iopub.status.busy": "2024-08-13T14:07:39.858645Z",
     "iopub.status.idle": "2024-08-13T14:07:39.865807Z",
     "shell.execute_reply": "2024-08-13T14:07:39.864834Z",
     "shell.execute_reply.started": "2024-08-13T14:07:39.859360Z"
    },
    "id": "QL32UlNPZTuq"
   },
   "outputs": [],
   "source": [
    "# from Andrea - define function to get detailed results\n",
    "# use metrics from sklearn\n",
    "def evaluate_classification(pred_labels, predicted_classes):\n",
    "\n",
    "    # Calculating accuracy\n",
    "    accuracy = accuracy_score(pred_labels, predicted_classes)\n",
    "\n",
    "    # Calculating macro-F1 score\n",
    "    macro_f1 = f1_score(pred_labels, predicted_classes, average='macro')\n",
    "\n",
    "    # Generating a detailed classification report\n",
    "    detailed_report = classification_report(pred_labels, predicted_classes)\n",
    "\n",
    "    # Printing the results\n",
    "    print(f\"Accuracy: {accuracy:.4f}\")\n",
    "    print(f\"Macro-F1 Score: {macro_f1:.4f}\")\n",
    "    print(\"---------------------------------\") #??????\n",
    "    print(\"Detailed Classification Report:\")\n",
    "    print(detailed_report)\n",
    "\n",
    "    # Returning results as a dictionary\n",
    "    #return {\n",
    "     #   'accuracy': accuracy,\n",
    "      #  'macro_f1': macro_f1,\n",
    "       # 'classification_report': detailed_report\n",
    "    #}"
   ]
  },
  {
   "cell_type": "code",
   "execution_count": 35,
   "metadata": {
    "colab": {
     "base_uri": "https://localhost:8080/"
    },
    "execution": {
     "iopub.execute_input": "2024-08-13T14:08:09.971983Z",
     "iopub.status.busy": "2024-08-13T14:08:09.971337Z",
     "iopub.status.idle": "2024-08-13T14:08:09.991112Z",
     "shell.execute_reply": "2024-08-13T14:08:09.990109Z",
     "shell.execute_reply.started": "2024-08-13T14:08:09.971947Z"
    },
    "executionInfo": {
     "elapsed": 339,
     "status": "ok",
     "timestamp": 1723370635862,
     "user": {
      "displayName": "Kascha Kruschwitz",
      "userId": "01563592123614078480"
     },
     "user_tz": -120
    },
    "id": "ufICmRtdOJUp",
    "outputId": "c6a3825b-e21d-4081-b1a9-2b1d0d0ff2cd"
   },
   "outputs": [
    {
     "name": "stdout",
     "output_type": "stream",
     "text": [
      "Accuracy: 0.5000\n",
      "Macro-F1 Score: 0.3333\n",
      "---------------------------------\n",
      "Detailed Classification Report:\n",
      "              precision    recall  f1-score   support\n",
      "\n",
      "           0       0.50      1.00      0.67        10\n",
      "           1       0.00      0.00      0.00        10\n",
      "\n",
      "    accuracy                           0.50        20\n",
      "   macro avg       0.25      0.50      0.33        20\n",
      "weighted avg       0.25      0.50      0.33        20\n",
      "\n"
     ]
    },
    {
     "name": "stderr",
     "output_type": "stream",
     "text": [
      "/opt/conda/lib/python3.10/site-packages/sklearn/metrics/_classification.py:1344: UndefinedMetricWarning: Precision and F-score are ill-defined and being set to 0.0 in labels with no predicted samples. Use `zero_division` parameter to control this behavior.\n",
      "  _warn_prf(average, modifier, msg_start, len(result))\n",
      "/opt/conda/lib/python3.10/site-packages/sklearn/metrics/_classification.py:1344: UndefinedMetricWarning: Precision and F-score are ill-defined and being set to 0.0 in labels with no predicted samples. Use `zero_division` parameter to control this behavior.\n",
      "  _warn_prf(average, modifier, msg_start, len(result))\n",
      "/opt/conda/lib/python3.10/site-packages/sklearn/metrics/_classification.py:1344: UndefinedMetricWarning: Precision and F-score are ill-defined and being set to 0.0 in labels with no predicted samples. Use `zero_division` parameter to control this behavior.\n",
      "  _warn_prf(average, modifier, msg_start, len(result))\n"
     ]
    }
   ],
   "source": [
    "# apply evaluation function\n",
    "evaluate_classification(pred_labels, predicted_classes1)"
   ]
  },
  {
   "cell_type": "markdown",
   "metadata": {
    "id": "Wr9hnEmBPl5r"
   },
   "source": [
    "**Confusion** **matrix**"
   ]
  },
  {
   "cell_type": "code",
   "execution_count": 36,
   "metadata": {
    "colab": {
     "base_uri": "https://localhost:8080/",
     "height": 234
    },
    "execution": {
     "iopub.execute_input": "2024-08-13T14:08:13.320308Z",
     "iopub.status.busy": "2024-08-13T14:08:13.319948Z",
     "iopub.status.idle": "2024-08-13T14:08:13.442977Z",
     "shell.execute_reply": "2024-08-13T14:08:13.441909Z",
     "shell.execute_reply.started": "2024-08-13T14:08:13.320279Z"
    },
    "executionInfo": {
     "elapsed": 258,
     "status": "error",
     "timestamp": 1723371096518,
     "user": {
      "displayName": "Kascha Kruschwitz",
      "userId": "01563592123614078480"
     },
     "user_tz": -120
    },
    "id": "_EuQ9lKckfLG",
    "outputId": "c786c6cf-c6fd-426c-9fdf-da170026dc67"
   },
   "outputs": [
    {
     "data": {
      "image/png": "[encoded data removed]",
      "text/plain": [
       "<Figure size 640x480 with 1 Axes>"
      ]
     },
     "metadata": {},
     "output_type": "display_data"
    }
   ],
   "source": [
    "#Create confusion matrix\n",
    "result1 = confusion_matrix(pred_labels_array, predicted_classes1, normalize='pred', labels=[1,0] )\n",
    "\n",
    "# display matrix\n",
    "result_display1 = metrics.ConfusionMatrixDisplay(confusion_matrix = result1, display_labels = [\"1\", \"0\"])\n",
    "result_display1.plot(colorbar=False)\n",
    "plt.show()"
   ]
  },
  {
   "cell_type": "markdown",
   "metadata": {
    "id": "nIDwfQjac4Zt"
   },
   "source": [
    "**Results**\n",
    "\n",
    "Plotting the accuracy indicated the the model  performance is at chance (around 0.5 accuracy). When looking at the predictions the model makes, we can see that the model, like the GPT model, only selects a single category each time and as the data is relatively balanced, this results in it being correct half the time.\n",
    "\n",
    "This is also illustrated in the classification report, where the model has a precision of precision of 0.5 and recall 0f 1.0 for label 0, as it is correct for this label half the time and correctly predicts all instances of 0 to be 0. However, both precision and recall for 0 are at 0.0, as this label is never guessed. Thus, the overall Macro-F1 Score is only 0.3333. \n",
    "\n",
    "All these results are illustrated in the confusion matrix, which shows 50% True Negatives and 50% False Negatives. Thus overall, the model performs at chance and thus poorly."
   ]
  },
  {
   "cell_type": "markdown",
   "metadata": {
    "id": "haS6K2dgM8Tc"
   },
   "source": [
    "# **MODEL 2 & 3**\n",
    "\n",
    "Models 2 and 3 use BERT embeddings as input for a regular dense and an LSTM model respectively, to see if the BERT classification model can be improved if given more depth or a more complex structure."
   ]
  },
  {
   "cell_type": "markdown",
   "metadata": {
    "id": "3-IkXrokJg32"
   },
   "source": [
    "### Embedding"
   ]
  },
  {
   "cell_type": "markdown",
   "metadata": {
    "id": "AcjdvkiKnbwn"
   },
   "source": [
    "To generate dense embeddings we use the Keras BERT Backbone with BERT-base-uncased. This is essentially the same as the BERT model used for Model 1, except without the classification head. Further, we generate the embeddings with a pre-trained BERT model, i.e. with frozen weights. BERT then generates two types of embeddings, each with a standard vector size of 768 dimensions.\n",
    "\n",
    "The first type are sequential embeddings which are separate vector representations of each word, resulting in a 2D embedding for each sequence and a 3D representation of all the data. This is suitable input for the LSTM, as this sequentially processes words and can take word order into account.\n",
    "\n",
    "The second type of embeddings are pooled embeddings, which are a single vector for each sequence that captures the overall meaning of that sequence, resulting in a 2D representation of the data. These embeddings are suitable input for a dense network, where all the input sequence must be processed at once.\n",
    "\n",
    "Thus, for our two models, we extracted both pooled and sequential embeddings and used them as input for Model 2 and 3 respectively.\n"
   ]
  },
  {
   "cell_type": "code",
   "execution_count": 31,
   "metadata": {
    "colab": {
     "base_uri": "https://localhost:8080/"
    },
    "execution": {
     "iopub.execute_input": "2024-08-13T14:04:12.053164Z",
     "iopub.status.busy": "2024-08-13T14:04:12.052441Z",
     "iopub.status.idle": "2024-08-13T14:04:23.975825Z",
     "shell.execute_reply": "2024-08-13T14:04:23.974813Z",
     "shell.execute_reply.started": "2024-08-13T14:04:12.053128Z"
    },
    "executionInfo": {
     "elapsed": 35394,
     "status": "ok",
     "timestamp": 1723302150876,
     "user": {
      "displayName": "Kascha Kruschwitz",
      "userId": "01563592123614078480"
     },
     "user_tz": -120
    },
    "id": "Fh71FfFNJgTt",
    "outputId": "2d7b9eab-80f3-4d51-feb0-a25e305ebd74"
   },
   "outputs": [
    {
     "name": "stdout",
     "output_type": "stream",
     "text": [
      "Attaching 'model.safetensors' from model 'keras/bert/keras/bert_base_en_uncased/2' to your Kaggle notebook...\n",
      "Attaching 'model.safetensors.index.json' from model 'keras/bert/keras/bert_base_en_uncased/2' to your Kaggle notebook...\n",
      "Attaching 'metadata.json' from model 'keras/bert/keras/bert_base_en_uncased/2' to your Kaggle notebook...\n",
      "Attaching 'metadata.json' from model 'keras/bert/keras/bert_base_en_uncased/2' to your Kaggle notebook...\n",
      "Attaching 'config.json' from model 'keras/bert/keras/bert_base_en_uncased/2' to your Kaggle notebook...\n",
      "Attaching 'config.json' from model 'keras/bert/keras/bert_base_en_uncased/2' to your Kaggle notebook...\n",
      "Attaching 'model.weights.h5' from model 'keras/bert/keras/bert_base_en_uncased/2' to your Kaggle notebook...\n"
     ]
    }
   ],
   "source": [
    "# load BERT embedder using the GPU, with weights and not trainable\n",
    "# preprocessor is false, as it was done manually before\n",
    "with tf.device('/device:GPU:0'):  # Replace '0' with the desired GPU\n",
    "    embedder = keras_nlp.models.BertBackbone.from_preset(\n",
    "        \"bert_base_en_uncased\",  load_weights=True, preprocessor=None, trainable=False\n",
    "    )"
   ]
  },
  {
   "cell_type": "code",
   "execution_count": 37,
   "metadata": {
    "colab": {
     "base_uri": "https://localhost:8080/"
    },
    "execution": {
     "iopub.execute_input": "2024-08-13T14:08:32.178394Z",
     "iopub.status.busy": "2024-08-13T14:08:32.177638Z",
     "iopub.status.idle": "2024-08-13T14:17:17.369943Z",
     "shell.execute_reply": "2024-08-13T14:17:17.368931Z",
     "shell.execute_reply.started": "2024-08-13T14:08:32.178363Z"
    },
    "executionInfo": {
     "elapsed": 554233,
     "status": "ok",
     "timestamp": 1723302705105,
     "user": {
      "displayName": "Kascha Kruschwitz",
      "userId": "01563592123614078480"
     },
     "user_tz": -120
    },
    "id": "_jMgYplqJsib",
    "outputId": "b5687a34-8055-42d6-d76e-d5b1d8fb2f08"
   },
   "outputs": [
    {
     "name": "stdout",
     "output_type": "stream",
     "text": [
      "Elapsed time: 525.18 seconds\n"
     ]
    }
   ],
   "source": [
    "# get time it takes to embed\n",
    "start_time = time.time()\n",
    "\n",
    "# embedding is done in batches to not overload the GPU\n",
    "batch_size = 32\n",
    "seq_embeddings = []\n",
    "pool_embeddings = []\n",
    "with tf.device('/device:GPU:0'): # use the gpu\n",
    "    for i in range(0, len(features[\"token_ids\"]), batch_size):\n",
    "        batch_features = {\n",
    "            \"token_ids\": features[\"token_ids\"][i: i + batch_size],\n",
    "            \"segment_ids\": features[\"segment_ids\"][i: i + batch_size],\n",
    "            \"padding_mask\": features[\"padding_mask\"][i: i + batch_size],\n",
    "        }\n",
    "        batch_embeddings = embedder(batch_features)\n",
    "        # get both sequence and pooled embeddings\n",
    "        # .extends flattens batches back into single row\n",
    "        seq_embeddings.extend(batch_embeddings['sequence_output'])\n",
    "        pool_embeddings.extend(batch_embeddings['pooled_output'])\n",
    "\n",
    "# Record the end time\n",
    "end_time = time.time()\n",
    "\n",
    "# Calculate and print the elapsed time\n",
    "elapsed_time = end_time - start_time\n",
    "print(f\"Elapsed time: {elapsed_time:.2f} seconds\")\n"
   ]
  },
  {
   "cell_type": "code",
   "execution_count": 38,
   "metadata": {
    "colab": {
     "base_uri": "https://localhost:8080/"
    },
    "execution": {
     "iopub.execute_input": "2024-08-13T14:17:17.372085Z",
     "iopub.status.busy": "2024-08-13T14:17:17.371769Z",
     "iopub.status.idle": "2024-08-13T14:17:17.382613Z",
     "shell.execute_reply": "2024-08-13T14:17:17.381557Z",
     "shell.execute_reply.started": "2024-08-13T14:17:17.372058Z"
    },
    "executionInfo": {
     "elapsed": 9,
     "status": "ok",
     "timestamp": 1723302705105,
     "user": {
      "displayName": "Kascha Kruschwitz",
      "userId": "01563592123614078480"
     },
     "user_tz": -120
    },
    "id": "hfrXW1_figzr",
    "outputId": "02ae3b3c-22d3-459c-bc07-e7d2fb7f6bc6"
   },
   "outputs": [
    {
     "name": "stdout",
     "output_type": "stream",
     "text": [
      "Number of Sequence Embeddings: 77376\n",
      "Length of y_train_02: 65769\n",
      "Number of Token IDs in Features: 77376\n",
      "\n",
      "Sample of Token IDs (first 2):\n",
      "tf.Tensor(\n",
      "[[  101  1996  4101 15393  5432  2415  1006  1046  2102 16526  1007  2036\n",
      "   3843 16234  1999  2019   102  1996  4101 15393  5432  2415  1006  1046\n",
      "   2102 16526  1007  2069  3843 16234  1999   102]\n",
      " [  101  3293  1040 16275  2003  2109  2004  2019  3424  3366 20746  1998\n",
      "   2004  1037  2512  1011   102  3293  1040 16275  2003  4039  2000  2022\n",
      "  12550  2004  2019  3424  3366 20746  2030   102]], shape=(2, 32), dtype=int32)\n",
      "\n",
      "Sample Data (first 2 sequences):\n",
      "[<tf.Tensor: shape=(32, 768), dtype=float32, numpy=\n",
      "array([[-0.9500362 , -0.02559358, -0.42308766, ..., -0.8528032 ,\n",
      "         0.09129428,  0.07362685],\n",
      "       [-0.06119687, -0.11673031, -0.4369478 , ...,  0.09962112,\n",
      "         1.2962011 ,  0.13774018],\n",
      "       [ 0.16016704, -0.19487922,  0.3218239 , ..., -0.12377342,\n",
      "         0.19195   , -0.5271513 ],\n",
      "       ...,\n",
      "       [-0.01281314,  0.40843508,  0.6968195 , ..., -0.87715006,\n",
      "        -0.7999142 , -0.61531425],\n",
      "       [-2.1548383 , -0.7931634 ,  0.03971399, ..., -0.451414  ,\n",
      "         0.21314639, -0.09525715],\n",
      "       [ 0.55590075, -0.39198613, -0.16347201, ..., -0.19363664,\n",
      "        -0.57400143,  0.07770665]], dtype=float32)>, <tf.Tensor: shape=(32, 768), dtype=float32, numpy=\n",
      "array([[-1.0062566 ,  0.38287914, -0.64008546, ..., -1.0775943 ,\n",
      "         0.36903223,  0.5415491 ],\n",
      "       [ 0.34522346, -0.1650456 , -0.9361593 , ..., -0.58704406,\n",
      "         1.1182756 ,  0.2008976 ],\n",
      "       [ 0.37036705, -0.776815  , -0.74837345, ..., -0.68861127,\n",
      "         0.60220605,  0.34566006],\n",
      "       ...,\n",
      "       [-0.3521036 ,  0.01505687, -0.43319905, ..., -0.6747757 ,\n",
      "        -0.5306159 , -0.34988332],\n",
      "       [-0.3371425 ,  0.20955034, -0.4774155 , ..., -0.26456767,\n",
      "         0.26360524,  0.26977938],\n",
      "       [ 0.76028746,  0.284342  , -0.57232475, ..., -0.11799466,\n",
      "        -0.35812798,  0.03463599]], dtype=float32)>]\n"
     ]
    }
   ],
   "source": [
    "# get some information to see if it worked\n",
    "print(\"Number of Sequence Embeddings:\", len(seq_embeddings))\n",
    "#print(seq_embeddings.shape)\n",
    "print(\"Length of y_train_02:\", len(y_train_02))\n",
    "print(\"Number of Token IDs in Features:\", len(features[\"token_ids\"]))\n",
    "print(\"\\nSample of Token IDs (first 2):\")\n",
    "print(features[\"token_ids\"][:2])\n",
    "print(\"\\nSample Data (first 2 sequences):\")\n",
    "print(seq_embeddings[:2])"
   ]
  },
  {
   "cell_type": "markdown",
   "metadata": {},
   "source": [
    "Issues here: It is worth noting that for the LSTM layer, we were not able to train the model on the full training dataset, because the GPU on Kaggle ran out of memory. The model provided here is thus trained on only 40000 out of around 60000 sentences, However, this seemed to only be the case when running the full model in Kaggle, but not when running it in Colab. Kaggle seemed to be storing certain information on the GPU when loading the preprocessor at the beginning of this notebook (which, to my knowledge, it should not be doing). Furtunately, when training the model on the full dataset, the results were not largely different."
   ]
  },
  {
   "cell_type": "code",
   "execution_count": 46,
   "metadata": {
    "colab": {
     "base_uri": "https://localhost:8080/"
    },
    "execution": {
     "iopub.execute_input": "2024-08-13T14:24:15.762437Z",
     "iopub.status.busy": "2024-08-13T14:24:15.762061Z",
     "iopub.status.idle": "2024-08-13T14:24:19.472833Z",
     "shell.execute_reply": "2024-08-13T14:24:19.471878Z",
     "shell.execute_reply.started": "2024-08-13T14:24:15.762405Z"
    },
    "executionInfo": {
     "elapsed": 12160,
     "status": "ok",
     "timestamp": 1723302717258,
     "user": {
      "displayName": "Kascha Kruschwitz",
      "userId": "01563592123614078480"
     },
     "user_tz": -120
    },
    "id": "kW-YCj1MMuJg",
    "outputId": "313ca461-14fe-4e7f-ebc7-a5dd06172c90"
   },
   "outputs": [
    {
     "name": "stdout",
     "output_type": "stream",
     "text": [
      "(50000, 32, 768)\n"
     ]
    }
   ],
   "source": [
    "# reshape the pooled embeddings to be suitable input\n",
    "reshaped_pool_embeddings = tf.reshape(pool_embeddings, shape=(-1, 768))\n",
    "\n",
    "# get training/test split from pooled embeddings\n",
    "x_train_02 = reshaped_pool_embeddings[:training_samples]\n",
    "x_test_02 = reshaped_pool_embeddings[training_samples:]\n",
    "\n",
    "# also get training/test split for model 3 from sequential\n",
    "x_train_03 = seq_embeddings[:training_samples]\n",
    "x_test_03 = seq_embeddings[training_samples:]\n",
    "\n",
    "\n",
    "# 65769 is full amount, but GPU on Kaggle runs out of memory if using full length \n",
    "# thus increase if possible, but reduce if necessary (30000 ideally, anything lower is not super good)\n",
    "train_03_len = 50000\n",
    "\n",
    "with tf.device('/device:GPU:1'): # switch to other GPU to not overload first one\n",
    "    # generate a 3D tensor from the list of sequence tensors\n",
    "    #x_train_03 = tf.stack(x_train_03)  # full set\n",
    "    x_train_03 = tf.stack(x_train_03[:train_03_len])\n",
    "    x_test_03 = tf.stack(x_test_03)\n",
    "\n",
    "print(x_train_03.get_shape())\n",
    "\n",
    "# get labels for train and test data\n",
    "#y_train_03 = y_train_02  # full set\n",
    "y_train_03 = y_train_02[:train_03_len]\n",
    "y_test_03 = y_test_02\n",
    "\n",
    "\n",
    "# get embedding of both types for the prediction sentences\n",
    "x_pred_02 = tf.gather(reshaped_pool_embeddings,\n",
    "                indices=pred_indices)\n",
    "\n",
    "x_pred_03 = [seq_embeddings[x] for x in pred_indices]\n",
    "x_pred_03 = tf.stack(x_pred_03)"
   ]
  },
  {
   "cell_type": "markdown",
   "metadata": {
    "id": "iqm6ZKLkJhT-"
   },
   "source": [
    "### Model 2"
   ]
  },
  {
   "cell_type": "markdown",
   "metadata": {
    "id": "xSVnOAb3hSTb"
   },
   "source": [
    "Model 2 is a dense model with five hidden layers and one output layer and the same optimizer and loss function as Model 1. The model contains as many layers as it does in an attempt to improve model performance. Unfortunately, it did not, and neither did alternating the amount of nodes in both the smaller and larger models. Here the validation split is smaller in an attempt to provide the model with more data, which also did not signifcantly improve the model."
   ]
  },
  {
   "cell_type": "code",
   "execution_count": 47,
   "metadata": {
    "colab": {
     "base_uri": "https://localhost:8080/",
     "height": 810
    },
    "execution": {
     "iopub.execute_input": "2024-08-13T14:25:55.504725Z",
     "iopub.status.busy": "2024-08-13T14:25:55.504322Z",
     "iopub.status.idle": "2024-08-13T14:25:55.593742Z",
     "shell.execute_reply": "2024-08-13T14:25:55.592830Z",
     "shell.execute_reply.started": "2024-08-13T14:25:55.504695Z"
    },
    "executionInfo": {
     "elapsed": 15880,
     "status": "error",
     "timestamp": 1723302739299,
     "user": {
      "displayName": "Kascha Kruschwitz",
      "userId": "01563592123614078480"
     },
     "user_tz": -120
    },
    "id": "ARdtLhE8NLcT",
    "outputId": "7dd7a488-7215-4815-e285-116655d77177"
   },
   "outputs": [
    {
     "data": {
      "text/html": [
       "<pre style=\"white-space:pre;overflow-x:auto;line-height:normal;font-family:Menlo,'DejaVu Sans Mono',consolas,'Courier New',monospace\"><span style=\"font-weight: bold\">Model: \"Model_02\"</span>\n",
       "</pre>\n"
      ],
      "text/plain": [
       "\u001b[1mModel: \"Model_02\"\u001b[0m\n"
      ]
     },
     "metadata": {},
     "output_type": "display_data"
    },
    {
     "data": {
      "text/html": [
       "<pre style=\"white-space:pre;overflow-x:auto;line-height:normal;font-family:Menlo,'DejaVu Sans Mono',consolas,'Courier New',monospace\">┏━━━━━━━━━━━━━━━━━━━━━━━━━━━━━━━━━┳━━━━━━━━━━━━━━━━━━━━━━━━┳━━━━━━━━━━━━━━━┓\n",
       "┃<span style=\"font-weight: bold\"> Layer (type)                    </span>┃<span style=\"font-weight: bold\"> Output Shape           </span>┃<span style=\"font-weight: bold\">       Param # </span>┃\n",
       "┡━━━━━━━━━━━━━━━━━━━━━━━━━━━━━━━━━╇━━━━━━━━━━━━━━━━━━━━━━━━╇━━━━━━━━━━━━━━━┩\n",
       "│ dense_6 (<span style=\"color: #0087ff; text-decoration-color: #0087ff\">Dense</span>)                 │ (<span style=\"color: #00d7ff; text-decoration-color: #00d7ff\">None</span>, <span style=\"color: #00af00; text-decoration-color: #00af00\">256</span>)            │       <span style=\"color: #00af00; text-decoration-color: #00af00\">196,864</span> │\n",
       "├─────────────────────────────────┼────────────────────────┼───────────────┤\n",
       "│ dense_7 (<span style=\"color: #0087ff; text-decoration-color: #0087ff\">Dense</span>)                 │ (<span style=\"color: #00d7ff; text-decoration-color: #00d7ff\">None</span>, <span style=\"color: #00af00; text-decoration-color: #00af00\">256</span>)            │        <span style=\"color: #00af00; text-decoration-color: #00af00\">65,792</span> │\n",
       "├─────────────────────────────────┼────────────────────────┼───────────────┤\n",
       "│ dense_8 (<span style=\"color: #0087ff; text-decoration-color: #0087ff\">Dense</span>)                 │ (<span style=\"color: #00d7ff; text-decoration-color: #00d7ff\">None</span>, <span style=\"color: #00af00; text-decoration-color: #00af00\">128</span>)            │        <span style=\"color: #00af00; text-decoration-color: #00af00\">32,896</span> │\n",
       "├─────────────────────────────────┼────────────────────────┼───────────────┤\n",
       "│ dense_9 (<span style=\"color: #0087ff; text-decoration-color: #0087ff\">Dense</span>)                 │ (<span style=\"color: #00d7ff; text-decoration-color: #00d7ff\">None</span>, <span style=\"color: #00af00; text-decoration-color: #00af00\">64</span>)             │         <span style=\"color: #00af00; text-decoration-color: #00af00\">8,256</span> │\n",
       "├─────────────────────────────────┼────────────────────────┼───────────────┤\n",
       "│ dense_10 (<span style=\"color: #0087ff; text-decoration-color: #0087ff\">Dense</span>)                │ (<span style=\"color: #00d7ff; text-decoration-color: #00d7ff\">None</span>, <span style=\"color: #00af00; text-decoration-color: #00af00\">16</span>)             │         <span style=\"color: #00af00; text-decoration-color: #00af00\">1,040</span> │\n",
       "├─────────────────────────────────┼────────────────────────┼───────────────┤\n",
       "│ dense_11 (<span style=\"color: #0087ff; text-decoration-color: #0087ff\">Dense</span>)                │ (<span style=\"color: #00d7ff; text-decoration-color: #00d7ff\">None</span>, <span style=\"color: #00af00; text-decoration-color: #00af00\">1</span>)              │            <span style=\"color: #00af00; text-decoration-color: #00af00\">17</span> │\n",
       "└─────────────────────────────────┴────────────────────────┴───────────────┘\n",
       "</pre>\n"
      ],
      "text/plain": [
       "┏━━━━━━━━━━━━━━━━━━━━━━━━━━━━━━━━━┳━━━━━━━━━━━━━━━━━━━━━━━━┳━━━━━━━━━━━━━━━┓\n",
       "┃\u001b[1m \u001b[0m\u001b[1mLayer (type)                   \u001b[0m\u001b[1m \u001b[0m┃\u001b[1m \u001b[0m\u001b[1mOutput Shape          \u001b[0m\u001b[1m \u001b[0m┃\u001b[1m \u001b[0m\u001b[1m      Param #\u001b[0m\u001b[1m \u001b[0m┃\n",
       "┡━━━━━━━━━━━━━━━━━━━━━━━━━━━━━━━━━╇━━━━━━━━━━━━━━━━━━━━━━━━╇━━━━━━━━━━━━━━━┩\n",
       "│ dense_6 (\u001b[38;5;33mDense\u001b[0m)                 │ (\u001b[38;5;45mNone\u001b[0m, \u001b[38;5;34m256\u001b[0m)            │       \u001b[38;5;34m196,864\u001b[0m │\n",
       "├─────────────────────────────────┼────────────────────────┼───────────────┤\n",
       "│ dense_7 (\u001b[38;5;33mDense\u001b[0m)                 │ (\u001b[38;5;45mNone\u001b[0m, \u001b[38;5;34m256\u001b[0m)            │        \u001b[38;5;34m65,792\u001b[0m │\n",
       "├─────────────────────────────────┼────────────────────────┼───────────────┤\n",
       "│ dense_8 (\u001b[38;5;33mDense\u001b[0m)                 │ (\u001b[38;5;45mNone\u001b[0m, \u001b[38;5;34m128\u001b[0m)            │        \u001b[38;5;34m32,896\u001b[0m │\n",
       "├─────────────────────────────────┼────────────────────────┼───────────────┤\n",
       "│ dense_9 (\u001b[38;5;33mDense\u001b[0m)                 │ (\u001b[38;5;45mNone\u001b[0m, \u001b[38;5;34m64\u001b[0m)             │         \u001b[38;5;34m8,256\u001b[0m │\n",
       "├─────────────────────────────────┼────────────────────────┼───────────────┤\n",
       "│ dense_10 (\u001b[38;5;33mDense\u001b[0m)                │ (\u001b[38;5;45mNone\u001b[0m, \u001b[38;5;34m16\u001b[0m)             │         \u001b[38;5;34m1,040\u001b[0m │\n",
       "├─────────────────────────────────┼────────────────────────┼───────────────┤\n",
       "│ dense_11 (\u001b[38;5;33mDense\u001b[0m)                │ (\u001b[38;5;45mNone\u001b[0m, \u001b[38;5;34m1\u001b[0m)              │            \u001b[38;5;34m17\u001b[0m │\n",
       "└─────────────────────────────────┴────────────────────────┴───────────────┘\n"
      ]
     },
     "metadata": {},
     "output_type": "display_data"
    },
    {
     "data": {
      "text/html": [
       "<pre style=\"white-space:pre;overflow-x:auto;line-height:normal;font-family:Menlo,'DejaVu Sans Mono',consolas,'Courier New',monospace\"><span style=\"font-weight: bold\"> Total params: </span><span style=\"color: #00af00; text-decoration-color: #00af00\">304,865</span> (1.16 MB)\n",
       "</pre>\n"
      ],
      "text/plain": [
       "\u001b[1m Total params: \u001b[0m\u001b[38;5;34m304,865\u001b[0m (1.16 MB)\n"
      ]
     },
     "metadata": {},
     "output_type": "display_data"
    },
    {
     "data": {
      "text/html": [
       "<pre style=\"white-space:pre;overflow-x:auto;line-height:normal;font-family:Menlo,'DejaVu Sans Mono',consolas,'Courier New',monospace\"><span style=\"font-weight: bold\"> Trainable params: </span><span style=\"color: #00af00; text-decoration-color: #00af00\">304,865</span> (1.16 MB)\n",
       "</pre>\n"
      ],
      "text/plain": [
       "\u001b[1m Trainable params: \u001b[0m\u001b[38;5;34m304,865\u001b[0m (1.16 MB)\n"
      ]
     },
     "metadata": {},
     "output_type": "display_data"
    },
    {
     "data": {
      "text/html": [
       "<pre style=\"white-space:pre;overflow-x:auto;line-height:normal;font-family:Menlo,'DejaVu Sans Mono',consolas,'Courier New',monospace\"><span style=\"font-weight: bold\"> Non-trainable params: </span><span style=\"color: #00af00; text-decoration-color: #00af00\">0</span> (0.00 B)\n",
       "</pre>\n"
      ],
      "text/plain": [
       "\u001b[1m Non-trainable params: \u001b[0m\u001b[38;5;34m0\u001b[0m (0.00 B)\n"
      ]
     },
     "metadata": {},
     "output_type": "display_data"
    }
   ],
   "source": [
    "# build sequential model of many dense layers\n",
    "model_02 = Sequential(name='Model_02')\n",
    "model_02.add(layers.Dense(256, activation='relu', input_shape=(768,)))\n",
    "model_02.add(layers.Dense(256, activation='relu'))\n",
    "model_02.add(layers.Dense(128, activation='relu'))\n",
    "model_02.add(layers.Dense(64, activation='relu'))\n",
    "model_02.add(layers.Dense(16, activation='relu'))\n",
    "# single output node with sigmoid activation for probablities\n",
    "model_02.add(layers.Dense(1, activation='sigmoid'))\n",
    "\n",
    "# compile model with adam optimizer and binary crossentropy loss\n",
    "model_02.compile(optimizer='adam', loss='binary_crossentropy', metrics=['accuracy'])\n",
    "model_02.summary()"
   ]
  },
  {
   "cell_type": "code",
   "execution_count": 48,
   "metadata": {
    "execution": {
     "iopub.execute_input": "2024-08-13T14:25:58.640564Z",
     "iopub.status.busy": "2024-08-13T14:25:58.639922Z",
     "iopub.status.idle": "2024-08-13T14:29:27.529279Z",
     "shell.execute_reply": "2024-08-13T14:29:27.528479Z",
     "shell.execute_reply.started": "2024-08-13T14:25:58.640533Z"
    },
    "id": "AutYUqj8HTVx"
   },
   "outputs": [
    {
     "name": "stdout",
     "output_type": "stream",
     "text": [
      "Epoch 1/50\n",
      "\u001b[1m  75/1850\u001b[0m \u001b[37m━━━━━━━━━━━━━━━━━━━━\u001b[0m \u001b[1m3s\u001b[0m 2ms/step - accuracy: 0.4954 - loss: 0.7233"
     ]
    },
    {
     "name": "stderr",
     "output_type": "stream",
     "text": [
      "W0000 00:00:1723559161.463203      81 graph_launch.cc:671] Fallback to op-by-op mode because memset node breaks graph update\n"
     ]
    },
    {
     "name": "stdout",
     "output_type": "stream",
     "text": [
      "\u001b[1m1850/1850\u001b[0m \u001b[32m━━━━━━━━━━━━━━━━━━━━\u001b[0m\u001b[37m\u001b[0m \u001b[1m0s\u001b[0m 3ms/step - accuracy: 0.5065 - loss: 0.6967"
     ]
    },
    {
     "name": "stderr",
     "output_type": "stream",
     "text": [
      "W0000 00:00:1723559166.484355      82 graph_launch.cc:671] Fallback to op-by-op mode because memset node breaks graph update\n",
      "W0000 00:00:1723559166.873009      79 graph_launch.cc:671] Fallback to op-by-op mode because memset node breaks graph update\n"
     ]
    },
    {
     "name": "stdout",
     "output_type": "stream",
     "text": [
      "\u001b[1m1850/1850\u001b[0m \u001b[32m━━━━━━━━━━━━━━━━━━━━\u001b[0m\u001b[37m\u001b[0m \u001b[1m8s\u001b[0m 3ms/step - accuracy: 0.5065 - loss: 0.6967 - val_accuracy: 0.5170 - val_loss: 0.6927\n",
      "Epoch 2/50\n",
      "\u001b[1m1850/1850\u001b[0m \u001b[32m━━━━━━━━━━━━━━━━━━━━\u001b[0m\u001b[37m\u001b[0m \u001b[1m4s\u001b[0m 2ms/step - accuracy: 0.5216 - loss: 0.6924 - val_accuracy: 0.5168 - val_loss: 0.6926\n",
      "Epoch 3/50\n",
      "\u001b[1m1850/1850\u001b[0m \u001b[32m━━━━━━━━━━━━━━━━━━━━\u001b[0m\u001b[37m\u001b[0m \u001b[1m4s\u001b[0m 2ms/step - accuracy: 0.5166 - loss: 0.6930 - val_accuracy: 0.5170 - val_loss: 0.6926\n",
      "Epoch 4/50\n",
      "\u001b[1m1850/1850\u001b[0m \u001b[32m━━━━━━━━━━━━━━━━━━━━\u001b[0m\u001b[37m\u001b[0m \u001b[1m4s\u001b[0m 2ms/step - accuracy: 0.5200 - loss: 0.6924 - val_accuracy: 0.5170 - val_loss: 0.6926\n",
      "Epoch 5/50\n",
      "\u001b[1m1850/1850\u001b[0m \u001b[32m━━━━━━━━━━━━━━━━━━━━\u001b[0m\u001b[37m\u001b[0m \u001b[1m4s\u001b[0m 2ms/step - accuracy: 0.5179 - loss: 0.6926 - val_accuracy: 0.5170 - val_loss: 0.6926\n",
      "Epoch 6/50\n",
      "\u001b[1m1850/1850\u001b[0m \u001b[32m━━━━━━━━━━━━━━━━━━━━\u001b[0m\u001b[37m\u001b[0m \u001b[1m4s\u001b[0m 2ms/step - accuracy: 0.5199 - loss: 0.6924 - val_accuracy: 0.5170 - val_loss: 0.6926\n",
      "Epoch 7/50\n",
      "\u001b[1m1850/1850\u001b[0m \u001b[32m━━━━━━━━━━━━━━━━━━━━\u001b[0m\u001b[37m\u001b[0m \u001b[1m4s\u001b[0m 2ms/step - accuracy: 0.5154 - loss: 0.6927 - val_accuracy: 0.5170 - val_loss: 0.6926\n",
      "Epoch 8/50\n",
      "\u001b[1m1850/1850\u001b[0m \u001b[32m━━━━━━━━━━━━━━━━━━━━\u001b[0m\u001b[37m\u001b[0m \u001b[1m4s\u001b[0m 2ms/step - accuracy: 0.5174 - loss: 0.6926 - val_accuracy: 0.5170 - val_loss: 0.6927\n",
      "Epoch 9/50\n",
      "\u001b[1m1850/1850\u001b[0m \u001b[32m━━━━━━━━━━━━━━━━━━━━\u001b[0m\u001b[37m\u001b[0m \u001b[1m4s\u001b[0m 2ms/step - accuracy: 0.5167 - loss: 0.6930 - val_accuracy: 0.5170 - val_loss: 0.6926\n",
      "Epoch 10/50\n",
      "\u001b[1m1850/1850\u001b[0m \u001b[32m━━━━━━━━━━━━━━━━━━━━\u001b[0m\u001b[37m\u001b[0m \u001b[1m4s\u001b[0m 2ms/step - accuracy: 0.5205 - loss: 0.6924 - val_accuracy: 0.5170 - val_loss: 0.6926\n",
      "Epoch 11/50\n",
      "\u001b[1m1850/1850\u001b[0m \u001b[32m━━━━━━━━━━━━━━━━━━━━\u001b[0m\u001b[37m\u001b[0m \u001b[1m4s\u001b[0m 2ms/step - accuracy: 0.5177 - loss: 0.6926 - val_accuracy: 0.5170 - val_loss: 0.6926\n",
      "Epoch 12/50\n",
      "\u001b[1m1850/1850\u001b[0m \u001b[32m━━━━━━━━━━━━━━━━━━━━\u001b[0m\u001b[37m\u001b[0m \u001b[1m4s\u001b[0m 2ms/step - accuracy: 0.5161 - loss: 0.6927 - val_accuracy: 0.5170 - val_loss: 0.6926\n",
      "Epoch 13/50\n",
      "\u001b[1m1850/1850\u001b[0m \u001b[32m━━━━━━━━━━━━━━━━━━━━\u001b[0m\u001b[37m\u001b[0m \u001b[1m4s\u001b[0m 2ms/step - accuracy: 0.5212 - loss: 0.6923 - val_accuracy: 0.5170 - val_loss: 0.6926\n",
      "Epoch 14/50\n",
      "\u001b[1m1850/1850\u001b[0m \u001b[32m━━━━━━━━━━━━━━━━━━━━\u001b[0m\u001b[37m\u001b[0m \u001b[1m4s\u001b[0m 2ms/step - accuracy: 0.5169 - loss: 0.6926 - val_accuracy: 0.5170 - val_loss: 0.6926\n",
      "Epoch 15/50\n",
      "\u001b[1m1850/1850\u001b[0m \u001b[32m━━━━━━━━━━━━━━━━━━━━\u001b[0m\u001b[37m\u001b[0m \u001b[1m4s\u001b[0m 2ms/step - accuracy: 0.5215 - loss: 0.6922 - val_accuracy: 0.5170 - val_loss: 0.6926\n",
      "Epoch 16/50\n",
      "\u001b[1m1850/1850\u001b[0m \u001b[32m━━━━━━━━━━━━━━━━━━━━\u001b[0m\u001b[37m\u001b[0m \u001b[1m4s\u001b[0m 2ms/step - accuracy: 0.5169 - loss: 0.6926 - val_accuracy: 0.5170 - val_loss: 0.6926\n",
      "Epoch 17/50\n",
      "\u001b[1m1850/1850\u001b[0m \u001b[32m━━━━━━━━━━━━━━━━━━━━\u001b[0m\u001b[37m\u001b[0m \u001b[1m4s\u001b[0m 2ms/step - accuracy: 0.5176 - loss: 0.6926 - val_accuracy: 0.5170 - val_loss: 0.6926\n",
      "Epoch 18/50\n",
      "\u001b[1m1850/1850\u001b[0m \u001b[32m━━━━━━━━━━━━━━━━━━━━\u001b[0m\u001b[37m\u001b[0m \u001b[1m4s\u001b[0m 2ms/step - accuracy: 0.5139 - loss: 0.6928 - val_accuracy: 0.5170 - val_loss: 0.6926\n",
      "Epoch 19/50\n",
      "\u001b[1m1850/1850\u001b[0m \u001b[32m━━━━━━━━━━━━━━━━━━━━\u001b[0m\u001b[37m\u001b[0m \u001b[1m4s\u001b[0m 2ms/step - accuracy: 0.5181 - loss: 0.6925 - val_accuracy: 0.5170 - val_loss: 0.6926\n",
      "Epoch 20/50\n",
      "\u001b[1m1850/1850\u001b[0m \u001b[32m━━━━━━━━━━━━━━━━━━━━\u001b[0m\u001b[37m\u001b[0m \u001b[1m4s\u001b[0m 2ms/step - accuracy: 0.5189 - loss: 0.6924 - val_accuracy: 0.5170 - val_loss: 0.6926\n",
      "Epoch 21/50\n",
      "\u001b[1m1850/1850\u001b[0m \u001b[32m━━━━━━━━━━━━━━━━━━━━\u001b[0m\u001b[37m\u001b[0m \u001b[1m4s\u001b[0m 2ms/step - accuracy: 0.5178 - loss: 0.6925 - val_accuracy: 0.5170 - val_loss: 0.6926\n",
      "Epoch 22/50\n",
      "\u001b[1m1850/1850\u001b[0m \u001b[32m━━━━━━━━━━━━━━━━━━━━\u001b[0m\u001b[37m\u001b[0m \u001b[1m4s\u001b[0m 2ms/step - accuracy: 0.5156 - loss: 0.6927 - val_accuracy: 0.5170 - val_loss: 0.6926\n",
      "Epoch 23/50\n",
      "\u001b[1m1850/1850\u001b[0m \u001b[32m━━━━━━━━━━━━━━━━━━━━\u001b[0m\u001b[37m\u001b[0m \u001b[1m4s\u001b[0m 2ms/step - accuracy: 0.5158 - loss: 0.6927 - val_accuracy: 0.5170 - val_loss: 0.6926\n",
      "Epoch 24/50\n",
      "\u001b[1m1850/1850\u001b[0m \u001b[32m━━━━━━━━━━━━━━━━━━━━\u001b[0m\u001b[37m\u001b[0m \u001b[1m4s\u001b[0m 2ms/step - accuracy: 0.5145 - loss: 0.6928 - val_accuracy: 0.5170 - val_loss: 0.6926\n",
      "Epoch 25/50\n",
      "\u001b[1m1850/1850\u001b[0m \u001b[32m━━━━━━━━━━━━━━━━━━━━\u001b[0m\u001b[37m\u001b[0m \u001b[1m4s\u001b[0m 2ms/step - accuracy: 0.5163 - loss: 0.6927 - val_accuracy: 0.5170 - val_loss: 0.6926\n",
      "Epoch 26/50\n",
      "\u001b[1m1850/1850\u001b[0m \u001b[32m━━━━━━━━━━━━━━━━━━━━\u001b[0m\u001b[37m\u001b[0m \u001b[1m4s\u001b[0m 2ms/step - accuracy: 0.5190 - loss: 0.6924 - val_accuracy: 0.5170 - val_loss: 0.6926\n",
      "Epoch 27/50\n",
      "\u001b[1m1850/1850\u001b[0m \u001b[32m━━━━━━━━━━━━━━━━━━━━\u001b[0m\u001b[37m\u001b[0m \u001b[1m4s\u001b[0m 2ms/step - accuracy: 0.5143 - loss: 0.6928 - val_accuracy: 0.5170 - val_loss: 0.6926\n",
      "Epoch 28/50\n",
      "\u001b[1m1850/1850\u001b[0m \u001b[32m━━━━━━━━━━━━━━━━━━━━\u001b[0m\u001b[37m\u001b[0m \u001b[1m4s\u001b[0m 2ms/step - accuracy: 0.5160 - loss: 0.6927 - val_accuracy: 0.5170 - val_loss: 0.6926\n",
      "Epoch 29/50\n",
      "\u001b[1m1850/1850\u001b[0m \u001b[32m━━━━━━━━━━━━━━━━━━━━\u001b[0m\u001b[37m\u001b[0m \u001b[1m4s\u001b[0m 2ms/step - accuracy: 0.5145 - loss: 0.6928 - val_accuracy: 0.5170 - val_loss: 0.6926\n",
      "Epoch 30/50\n",
      "\u001b[1m1850/1850\u001b[0m \u001b[32m━━━━━━━━━━━━━━━━━━━━\u001b[0m\u001b[37m\u001b[0m \u001b[1m4s\u001b[0m 2ms/step - accuracy: 0.5150 - loss: 0.6927 - val_accuracy: 0.5170 - val_loss: 0.6926\n",
      "Epoch 31/50\n",
      "\u001b[1m1850/1850\u001b[0m \u001b[32m━━━━━━━━━━━━━━━━━━━━\u001b[0m\u001b[37m\u001b[0m \u001b[1m4s\u001b[0m 2ms/step - accuracy: 0.5176 - loss: 0.6926 - val_accuracy: 0.5170 - val_loss: 0.6926\n",
      "Epoch 32/50\n",
      "\u001b[1m1850/1850\u001b[0m \u001b[32m━━━━━━━━━━━━━━━━━━━━\u001b[0m\u001b[37m\u001b[0m \u001b[1m4s\u001b[0m 2ms/step - accuracy: 0.5161 - loss: 0.6927 - val_accuracy: 0.5170 - val_loss: 0.6926\n",
      "Epoch 33/50\n",
      "\u001b[1m1850/1850\u001b[0m \u001b[32m━━━━━━━━━━━━━━━━━━━━\u001b[0m\u001b[37m\u001b[0m \u001b[1m4s\u001b[0m 2ms/step - accuracy: 0.5175 - loss: 0.6926 - val_accuracy: 0.5170 - val_loss: 0.6926\n",
      "Epoch 34/50\n",
      "\u001b[1m1850/1850\u001b[0m \u001b[32m━━━━━━━━━━━━━━━━━━━━\u001b[0m\u001b[37m\u001b[0m \u001b[1m4s\u001b[0m 2ms/step - accuracy: 0.5189 - loss: 0.6925 - val_accuracy: 0.5170 - val_loss: 0.6926\n",
      "Epoch 35/50\n",
      "\u001b[1m1850/1850\u001b[0m \u001b[32m━━━━━━━━━━━━━━━━━━━━\u001b[0m\u001b[37m\u001b[0m \u001b[1m4s\u001b[0m 2ms/step - accuracy: 0.5186 - loss: 0.6925 - val_accuracy: 0.5170 - val_loss: 0.6926\n",
      "Epoch 36/50\n",
      "\u001b[1m1850/1850\u001b[0m \u001b[32m━━━━━━━━━━━━━━━━━━━━\u001b[0m\u001b[37m\u001b[0m \u001b[1m4s\u001b[0m 2ms/step - accuracy: 0.5179 - loss: 0.6925 - val_accuracy: 0.5170 - val_loss: 0.6926\n",
      "Epoch 37/50\n",
      "\u001b[1m1850/1850\u001b[0m \u001b[32m━━━━━━━━━━━━━━━━━━━━\u001b[0m\u001b[37m\u001b[0m \u001b[1m4s\u001b[0m 2ms/step - accuracy: 0.5176 - loss: 0.6926 - val_accuracy: 0.5170 - val_loss: 0.6926\n",
      "Epoch 38/50\n",
      "\u001b[1m1850/1850\u001b[0m \u001b[32m━━━━━━━━━━━━━━━━━━━━\u001b[0m\u001b[37m\u001b[0m \u001b[1m4s\u001b[0m 2ms/step - accuracy: 0.5187 - loss: 0.6925 - val_accuracy: 0.5170 - val_loss: 0.6926\n",
      "Epoch 39/50\n",
      "\u001b[1m1850/1850\u001b[0m \u001b[32m━━━━━━━━━━━━━━━━━━━━\u001b[0m\u001b[37m\u001b[0m \u001b[1m4s\u001b[0m 2ms/step - accuracy: 0.5173 - loss: 0.6925 - val_accuracy: 0.5170 - val_loss: 0.6926\n",
      "Epoch 40/50\n",
      "\u001b[1m1850/1850\u001b[0m \u001b[32m━━━━━━━━━━━━━━━━━━━━\u001b[0m\u001b[37m\u001b[0m \u001b[1m4s\u001b[0m 2ms/step - accuracy: 0.5157 - loss: 0.6927 - val_accuracy: 0.5170 - val_loss: 0.6926\n",
      "Epoch 41/50\n",
      "\u001b[1m1850/1850\u001b[0m \u001b[32m━━━━━━━━━━━━━━━━━━━━\u001b[0m\u001b[37m\u001b[0m \u001b[1m4s\u001b[0m 2ms/step - accuracy: 0.5168 - loss: 0.6926 - val_accuracy: 0.5170 - val_loss: 0.6926\n",
      "Epoch 42/50\n",
      "\u001b[1m1850/1850\u001b[0m \u001b[32m━━━━━━━━━━━━━━━━━━━━\u001b[0m\u001b[37m\u001b[0m \u001b[1m4s\u001b[0m 2ms/step - accuracy: 0.5176 - loss: 0.6926 - val_accuracy: 0.5170 - val_loss: 0.6926\n",
      "Epoch 43/50\n",
      "\u001b[1m1850/1850\u001b[0m \u001b[32m━━━━━━━━━━━━━━━━━━━━\u001b[0m\u001b[37m\u001b[0m \u001b[1m4s\u001b[0m 2ms/step - accuracy: 0.5174 - loss: 0.6926 - val_accuracy: 0.5170 - val_loss: 0.6926\n",
      "Epoch 44/50\n",
      "\u001b[1m1850/1850\u001b[0m \u001b[32m━━━━━━━━━━━━━━━━━━━━\u001b[0m\u001b[37m\u001b[0m \u001b[1m4s\u001b[0m 2ms/step - accuracy: 0.5140 - loss: 0.6928 - val_accuracy: 0.5170 - val_loss: 0.6926\n",
      "Epoch 45/50\n",
      "\u001b[1m1850/1850\u001b[0m \u001b[32m━━━━━━━━━━━━━━━━━━━━\u001b[0m\u001b[37m\u001b[0m \u001b[1m4s\u001b[0m 2ms/step - accuracy: 0.5176 - loss: 0.6926 - val_accuracy: 0.5170 - val_loss: 0.6926\n",
      "Epoch 46/50\n",
      "\u001b[1m1850/1850\u001b[0m \u001b[32m━━━━━━━━━━━━━━━━━━━━\u001b[0m\u001b[37m\u001b[0m \u001b[1m4s\u001b[0m 2ms/step - accuracy: 0.5143 - loss: 0.6928 - val_accuracy: 0.5170 - val_loss: 0.6926\n",
      "Epoch 47/50\n",
      "\u001b[1m1850/1850\u001b[0m \u001b[32m━━━━━━━━━━━━━━━━━━━━\u001b[0m\u001b[37m\u001b[0m \u001b[1m4s\u001b[0m 2ms/step - accuracy: 0.5157 - loss: 0.6927 - val_accuracy: 0.5170 - val_loss: 0.6926\n",
      "Epoch 48/50\n",
      "\u001b[1m1850/1850\u001b[0m \u001b[32m━━━━━━━━━━━━━━━━━━━━\u001b[0m\u001b[37m\u001b[0m \u001b[1m4s\u001b[0m 2ms/step - accuracy: 0.5156 - loss: 0.6927 - val_accuracy: 0.5170 - val_loss: 0.6926\n",
      "Epoch 49/50\n",
      "\u001b[1m1850/1850\u001b[0m \u001b[32m━━━━━━━━━━━━━━━━━━━━\u001b[0m\u001b[37m\u001b[0m \u001b[1m4s\u001b[0m 2ms/step - accuracy: 0.5166 - loss: 0.6926 - val_accuracy: 0.5170 - val_loss: 0.6926\n",
      "Epoch 50/50\n",
      "\u001b[1m1850/1850\u001b[0m \u001b[32m━━━━━━━━━━━━━━━━━━━━\u001b[0m\u001b[37m\u001b[0m \u001b[1m4s\u001b[0m 2ms/step - accuracy: 0.5161 - loss: 0.6926 - val_accuracy: 0.5170 - val_loss: 0.6926\n"
     ]
    }
   ],
   "source": [
    "# train model using the established training set, with 10% used for validation\n",
    "# parameters: 50 epochs, batches of 32\n",
    "history_02 = model_02.fit(x_train_02, y_train_02,\n",
    "                            epochs=50,\n",
    "                            batch_size=32,\n",
    "                            validation_split=0.1)"
   ]
  },
  {
   "cell_type": "markdown",
   "metadata": {
    "id": "6-m2kZcFhxm-"
   },
   "source": [
    "**Evaluation on the Test Set**"
   ]
  },
  {
   "cell_type": "code",
   "execution_count": 49,
   "metadata": {
    "execution": {
     "iopub.execute_input": "2024-08-13T14:29:27.531536Z",
     "iopub.status.busy": "2024-08-13T14:29:27.531252Z",
     "iopub.status.idle": "2024-08-13T14:29:28.601483Z",
     "shell.execute_reply": "2024-08-13T14:29:28.600619Z",
     "shell.execute_reply.started": "2024-08-13T14:29:27.531510Z"
    },
    "id": "zX669zyaRp89"
   },
   "outputs": [
    {
     "name": "stdout",
     "output_type": "stream",
     "text": [
      "\u001b[1m363/363\u001b[0m \u001b[32m━━━━━━━━━━━━━━━━━━━━\u001b[0m\u001b[37m\u001b[0m \u001b[1m1s\u001b[0m 3ms/step - accuracy: 0.5170 - loss: 0.6926\n"
     ]
    }
   ],
   "source": [
    "# evaluate on test set\n",
    "test_ev_02 = model_02.evaluate(x_test_02, y_test_02)"
   ]
  },
  {
   "cell_type": "markdown",
   "metadata": {
    "id": "6r-_srrbhpae"
   },
   "source": [
    "**Plotting Accuracy and Loss**"
   ]
  },
  {
   "cell_type": "code",
   "execution_count": 50,
   "metadata": {
    "execution": {
     "iopub.execute_input": "2024-08-13T14:29:28.603361Z",
     "iopub.status.busy": "2024-08-13T14:29:28.603074Z",
     "iopub.status.idle": "2024-08-13T14:29:29.124894Z",
     "shell.execute_reply": "2024-08-13T14:29:29.123822Z",
     "shell.execute_reply.started": "2024-08-13T14:29:28.603336Z"
    },
    "id": "ea8Eo7JoZl02"
   },
   "outputs": [
    {
     "data": {
      "image/png": "[encoded data removed]",
      "text/plain": [
       "<Figure size 1400x500 with 2 Axes>"
      ]
     },
     "metadata": {},
     "output_type": "display_data"
    }
   ],
   "source": [
    "# apply plotting function from before\n",
    "plot_training_history(history_02, test_ev_02)"
   ]
  },
  {
   "cell_type": "markdown",
   "metadata": {
    "id": "cJgurOdniCLC"
   },
   "source": [
    "**Predictions**"
   ]
  },
  {
   "cell_type": "code",
   "execution_count": 51,
   "metadata": {
    "execution": {
     "iopub.execute_input": "2024-08-13T14:29:29.128626Z",
     "iopub.status.busy": "2024-08-13T14:29:29.127726Z",
     "iopub.status.idle": "2024-08-13T14:29:29.561785Z",
     "shell.execute_reply": "2024-08-13T14:29:29.560867Z",
     "shell.execute_reply.started": "2024-08-13T14:29:29.128583Z"
    },
    "id": "7k2WQoBjcZSV"
   },
   "outputs": [
    {
     "name": "stdout",
     "output_type": "stream",
     "text": [
      "\u001b[1m1/1\u001b[0m \u001b[32m━━━━━━━━━━━━━━━━━━━━\u001b[0m\u001b[37m\u001b[0m \u001b[1m0s\u001b[0m 378ms/step\n",
      "[1 1 1 1 1 1 1 1 1 1 0 0 0 0 0 0 0 0 0 0]\n",
      "[1 1 1 1 1 1 1 1 1 1 1 1 1 1 1 1 1 1 1 1]\n"
     ]
    },
    {
     "name": "stderr",
     "output_type": "stream",
     "text": [
      "W0000 00:00:1723559369.552427      80 graph_launch.cc:671] Fallback to op-by-op mode because memset node breaks graph update\n"
     ]
    }
   ],
   "source": [
    "# make prediction for set sentences\n",
    "pred_predictions2 = model_02.predict(x_pred_02)\n",
    "pred_labels_array = np.array(pred_labels)\n",
    "\n",
    "# output is already a probability via sigmoid, so pick most probable\n",
    "predicted_classes2 = [1 if prob[0] >= 0.5 else 0 for prob in pred_predictions2]\n",
    "predicted_classes2_array = np.array(predicted_classes2)\n",
    "\n",
    "# print target and predicted lables\n",
    "print(pred_labels_array)\n",
    "print(predicted_classes2_array)"
   ]
  },
  {
   "cell_type": "markdown",
   "metadata": {
    "id": "dlbkFaBNiNIM"
   },
   "source": [
    "**Classification Report**"
   ]
  },
  {
   "cell_type": "code",
   "execution_count": 52,
   "metadata": {
    "execution": {
     "iopub.execute_input": "2024-08-13T14:29:29.563341Z",
     "iopub.status.busy": "2024-08-13T14:29:29.563043Z",
     "iopub.status.idle": "2024-08-13T14:29:29.580542Z",
     "shell.execute_reply": "2024-08-13T14:29:29.579649Z",
     "shell.execute_reply.started": "2024-08-13T14:29:29.563315Z"
    },
    "id": "Z1H1EF2NatQH"
   },
   "outputs": [
    {
     "name": "stdout",
     "output_type": "stream",
     "text": [
      "Accuracy: 0.5000\n",
      "Macro-F1 Score: 0.3333\n",
      "---------------------------------\n",
      "Detailed Classification Report:\n",
      "              precision    recall  f1-score   support\n",
      "\n",
      "           0       0.00      0.00      0.00        10\n",
      "           1       0.50      1.00      0.67        10\n",
      "\n",
      "    accuracy                           0.50        20\n",
      "   macro avg       0.25      0.50      0.33        20\n",
      "weighted avg       0.25      0.50      0.33        20\n",
      "\n"
     ]
    },
    {
     "name": "stderr",
     "output_type": "stream",
     "text": [
      "/opt/conda/lib/python3.10/site-packages/sklearn/metrics/_classification.py:1344: UndefinedMetricWarning: Precision and F-score are ill-defined and being set to 0.0 in labels with no predicted samples. Use `zero_division` parameter to control this behavior.\n",
      "  _warn_prf(average, modifier, msg_start, len(result))\n",
      "/opt/conda/lib/python3.10/site-packages/sklearn/metrics/_classification.py:1344: UndefinedMetricWarning: Precision and F-score are ill-defined and being set to 0.0 in labels with no predicted samples. Use `zero_division` parameter to control this behavior.\n",
      "  _warn_prf(average, modifier, msg_start, len(result))\n",
      "/opt/conda/lib/python3.10/site-packages/sklearn/metrics/_classification.py:1344: UndefinedMetricWarning: Precision and F-score are ill-defined and being set to 0.0 in labels with no predicted samples. Use `zero_division` parameter to control this behavior.\n",
      "  _warn_prf(average, modifier, msg_start, len(result))\n"
     ]
    }
   ],
   "source": [
    "# apply evaluation function\n",
    "evaluate_classification(pred_labels, predicted_classes2) #results2 ="
   ]
  },
  {
   "cell_type": "markdown",
   "metadata": {
    "id": "86UxLIRlebT3"
   },
   "source": [
    "**Confusion matrix**"
   ]
  },
  {
   "cell_type": "code",
   "execution_count": 53,
   "metadata": {
    "colab": {
     "base_uri": "https://localhost:8080/",
     "height": 455
    },
    "execution": {
     "iopub.execute_input": "2024-08-13T14:29:29.582063Z",
     "iopub.status.busy": "2024-08-13T14:29:29.581777Z",
     "iopub.status.idle": "2024-08-13T14:29:29.713172Z",
     "shell.execute_reply": "2024-08-13T14:29:29.711837Z",
     "shell.execute_reply.started": "2024-08-13T14:29:29.582036Z"
    },
    "executionInfo": {
     "elapsed": 790,
     "status": "ok",
     "timestamp": 1723113626234,
     "user": {
      "displayName": "Buket Sak",
      "userId": "14765070855916809045"
     },
     "user_tz": -120
    },
    "id": "45G12yPoebT5",
    "outputId": "741469ce-e87c-4dbd-830f-6a912a6663b1"
   },
   "outputs": [
    {
     "data": {
      "image/png": "[encoded data removed]",
      "text/plain": [
       "<Figure size 640x480 with 1 Axes>"
      ]
     },
     "metadata": {},
     "output_type": "display_data"
    }
   ],
   "source": [
    "#Create confusion matrix\n",
    "result2 = confusion_matrix(pred_labels_array, predicted_classes2 , normalize='pred', labels=[1,0] )\n",
    "\n",
    "# display matrix\n",
    "result_display2 = metrics.ConfusionMatrixDisplay(confusion_matrix = result2, display_labels = [\"1\", \"0\"])\n",
    "result_display2.plot(colorbar = False)\n",
    "plt.show()"
   ]
  },
  {
   "cell_type": "markdown",
   "metadata": {
    "id": "FNFD2hYJjDxe"
   },
   "source": [
    "**Results**\n",
    "\n",
    "Model 2 performs just like our previous models, in that it simply predicts a single category each time, here predicting only 1, just like GPT-Neo. As such, this model also has an accuracy of 0.5 and a Macro-F1 score of 0.333 when tested on the predicted sentences. Thus, this model performs as poorly as the previous ones.\n",
    "\n",
    "This model is the one model of our's where bad performance is most likely, as it uses pooled embeddings which combine both the premise and hypothesis into a single embedding, such that the model may not have a way to actually learn the distinction in the first place."
   ]
  },
  {
   "cell_type": "markdown",
   "metadata": {
    "id": "_wq4HOe7Rezc"
   },
   "source": [
    "### Model 3"
   ]
  },
  {
   "cell_type": "markdown",
   "metadata": {
    "id": "lN-kZ3IyehcH"
   },
   "source": [
    "Our last attempt was a simple LSTM model, which could be expected to perform at least better than the dense model, as it takes both lexical semantics and word order into account, so that it may be able to recognize the difference between two sentences. This is because the LSTM layer passes on both information about the previous output as well as some overall information. Here, we also attempted many modifications such as adding another LSTM layer or adding Dropout, but performance did not improve in a desired way."
   ]
  },
  {
   "cell_type": "code",
   "execution_count": 61,
   "metadata": {
    "colab": {
     "base_uri": "https://localhost:8080/",
     "height": 245
    },
    "execution": {
     "iopub.execute_input": "2024-08-13T14:37:20.707793Z",
     "iopub.status.busy": "2024-08-13T14:37:20.707449Z",
     "iopub.status.idle": "2024-08-13T14:37:20.769263Z",
     "shell.execute_reply": "2024-08-13T14:37:20.768399Z",
     "shell.execute_reply.started": "2024-08-13T14:37:20.707767Z"
    },
    "executionInfo": {
     "elapsed": 461,
     "status": "ok",
     "timestamp": 1723302807413,
     "user": {
      "displayName": "Kascha Kruschwitz",
      "userId": "01563592123614078480"
     },
     "user_tz": -120
    },
    "id": "VW5mNEXRKWUU",
    "outputId": "2ea402af-0813-4e56-c600-3604a5492cd0"
   },
   "outputs": [
    {
     "data": {
      "text/html": [
       "<pre style=\"white-space:pre;overflow-x:auto;line-height:normal;font-family:Menlo,'DejaVu Sans Mono',consolas,'Courier New',monospace\"><span style=\"font-weight: bold\">Model: \"Model_03\"</span>\n",
       "</pre>\n"
      ],
      "text/plain": [
       "\u001b[1mModel: \"Model_03\"\u001b[0m\n"
      ]
     },
     "metadata": {},
     "output_type": "display_data"
    },
    {
     "data": {
      "text/html": [
       "<pre style=\"white-space:pre;overflow-x:auto;line-height:normal;font-family:Menlo,'DejaVu Sans Mono',consolas,'Courier New',monospace\">┏━━━━━━━━━━━━━━━━━━━━━━━━━━━━━━━━━┳━━━━━━━━━━━━━━━━━━━━━━━━┳━━━━━━━━━━━━━━━┓\n",
       "┃<span style=\"font-weight: bold\"> Layer (type)                    </span>┃<span style=\"font-weight: bold\"> Output Shape           </span>┃<span style=\"font-weight: bold\">       Param # </span>┃\n",
       "┡━━━━━━━━━━━━━━━━━━━━━━━━━━━━━━━━━╇━━━━━━━━━━━━━━━━━━━━━━━━╇━━━━━━━━━━━━━━━┩\n",
       "│ lstm_3 (<span style=\"color: #0087ff; text-decoration-color: #0087ff\">LSTM</span>)                   │ (<span style=\"color: #00d7ff; text-decoration-color: #00d7ff\">None</span>, <span style=\"color: #00af00; text-decoration-color: #00af00\">128</span>)            │       <span style=\"color: #00af00; text-decoration-color: #00af00\">459,264</span> │\n",
       "├─────────────────────────────────┼────────────────────────┼───────────────┤\n",
       "│ dense_18 (<span style=\"color: #0087ff; text-decoration-color: #0087ff\">Dense</span>)                │ (<span style=\"color: #00d7ff; text-decoration-color: #00d7ff\">None</span>, <span style=\"color: #00af00; text-decoration-color: #00af00\">32</span>)             │         <span style=\"color: #00af00; text-decoration-color: #00af00\">4,128</span> │\n",
       "├─────────────────────────────────┼────────────────────────┼───────────────┤\n",
       "│ dense_19 (<span style=\"color: #0087ff; text-decoration-color: #0087ff\">Dense</span>)                │ (<span style=\"color: #00d7ff; text-decoration-color: #00d7ff\">None</span>, <span style=\"color: #00af00; text-decoration-color: #00af00\">1</span>)              │            <span style=\"color: #00af00; text-decoration-color: #00af00\">33</span> │\n",
       "└─────────────────────────────────┴────────────────────────┴───────────────┘\n",
       "</pre>\n"
      ],
      "text/plain": [
       "┏━━━━━━━━━━━━━━━━━━━━━━━━━━━━━━━━━┳━━━━━━━━━━━━━━━━━━━━━━━━┳━━━━━━━━━━━━━━━┓\n",
       "┃\u001b[1m \u001b[0m\u001b[1mLayer (type)                   \u001b[0m\u001b[1m \u001b[0m┃\u001b[1m \u001b[0m\u001b[1mOutput Shape          \u001b[0m\u001b[1m \u001b[0m┃\u001b[1m \u001b[0m\u001b[1m      Param #\u001b[0m\u001b[1m \u001b[0m┃\n",
       "┡━━━━━━━━━━━━━━━━━━━━━━━━━━━━━━━━━╇━━━━━━━━━━━━━━━━━━━━━━━━╇━━━━━━━━━━━━━━━┩\n",
       "│ lstm_3 (\u001b[38;5;33mLSTM\u001b[0m)                   │ (\u001b[38;5;45mNone\u001b[0m, \u001b[38;5;34m128\u001b[0m)            │       \u001b[38;5;34m459,264\u001b[0m │\n",
       "├─────────────────────────────────┼────────────────────────┼───────────────┤\n",
       "│ dense_18 (\u001b[38;5;33mDense\u001b[0m)                │ (\u001b[38;5;45mNone\u001b[0m, \u001b[38;5;34m32\u001b[0m)             │         \u001b[38;5;34m4,128\u001b[0m │\n",
       "├─────────────────────────────────┼────────────────────────┼───────────────┤\n",
       "│ dense_19 (\u001b[38;5;33mDense\u001b[0m)                │ (\u001b[38;5;45mNone\u001b[0m, \u001b[38;5;34m1\u001b[0m)              │            \u001b[38;5;34m33\u001b[0m │\n",
       "└─────────────────────────────────┴────────────────────────┴───────────────┘\n"
      ]
     },
     "metadata": {},
     "output_type": "display_data"
    },
    {
     "data": {
      "text/html": [
       "<pre style=\"white-space:pre;overflow-x:auto;line-height:normal;font-family:Menlo,'DejaVu Sans Mono',consolas,'Courier New',monospace\"><span style=\"font-weight: bold\"> Total params: </span><span style=\"color: #00af00; text-decoration-color: #00af00\">463,425</span> (1.77 MB)\n",
       "</pre>\n"
      ],
      "text/plain": [
       "\u001b[1m Total params: \u001b[0m\u001b[38;5;34m463,425\u001b[0m (1.77 MB)\n"
      ]
     },
     "metadata": {},
     "output_type": "display_data"
    },
    {
     "data": {
      "text/html": [
       "<pre style=\"white-space:pre;overflow-x:auto;line-height:normal;font-family:Menlo,'DejaVu Sans Mono',consolas,'Courier New',monospace\"><span style=\"font-weight: bold\"> Trainable params: </span><span style=\"color: #00af00; text-decoration-color: #00af00\">463,425</span> (1.77 MB)\n",
       "</pre>\n"
      ],
      "text/plain": [
       "\u001b[1m Trainable params: \u001b[0m\u001b[38;5;34m463,425\u001b[0m (1.77 MB)\n"
      ]
     },
     "metadata": {},
     "output_type": "display_data"
    },
    {
     "data": {
      "text/html": [
       "<pre style=\"white-space:pre;overflow-x:auto;line-height:normal;font-family:Menlo,'DejaVu Sans Mono',consolas,'Courier New',monospace\"><span style=\"font-weight: bold\"> Non-trainable params: </span><span style=\"color: #00af00; text-decoration-color: #00af00\">0</span> (0.00 B)\n",
       "</pre>\n"
      ],
      "text/plain": [
       "\u001b[1m Non-trainable params: \u001b[0m\u001b[38;5;34m0\u001b[0m (0.00 B)\n"
      ]
     },
     "metadata": {},
     "output_type": "display_data"
    }
   ],
   "source": [
    "# build LSTM model: 1 LSTM layer with 128 nodes\n",
    "# input = (seq_length = 32, vector_size = 768)\n",
    "model_03 = Sequential(name='Model_03')\n",
    "model_03.add(layers.LSTM(128, input_shape=(32, 768)))\n",
    "model_03.add(layers.Dense(32, activation='relu'))\n",
    "model_03.add(layers.Dense(1, activation='sigmoid'))\n",
    "\n",
    "\n",
    "# compile model with adam optimizer and binary crossentropy loss\n",
    "model_03.compile(optimizer='adam', loss='binary_crossentropy', metrics=['accuracy'])\n",
    "model_03.summary()"
   ]
  },
  {
   "cell_type": "code",
   "execution_count": 62,
   "metadata": {
    "colab": {
     "base_uri": "https://localhost:8080/"
    },
    "execution": {
     "iopub.execute_input": "2024-08-13T14:37:23.559451Z",
     "iopub.status.busy": "2024-08-13T14:37:23.559092Z",
     "iopub.status.idle": "2024-08-13T14:39:27.944333Z",
     "shell.execute_reply": "2024-08-13T14:39:27.943445Z",
     "shell.execute_reply.started": "2024-08-13T14:37:23.559419Z"
    },
    "executionInfo": {
     "elapsed": 166432,
     "status": "ok",
     "timestamp": 1723302977683,
     "user": {
      "displayName": "Kascha Kruschwitz",
      "userId": "01563592123614078480"
     },
     "user_tz": -120
    },
    "id": "ZBQCLg5mnw7n",
    "outputId": "fcb53477-b357-442e-8eeb-b207d142983f"
   },
   "outputs": [
    {
     "name": "stdout",
     "output_type": "stream",
     "text": [
      "Epoch 1/20\n",
      "\u001b[1m704/704\u001b[0m \u001b[32m━━━━━━━━━━━━━━━━━━━━\u001b[0m\u001b[37m\u001b[0m \u001b[1m8s\u001b[0m 9ms/step - accuracy: 0.5154 - loss: 0.6944 - val_accuracy: 0.5160 - val_loss: 0.6928\n",
      "Epoch 2/20\n",
      "\u001b[1m704/704\u001b[0m \u001b[32m━━━━━━━━━━━━━━━━━━━━\u001b[0m\u001b[37m\u001b[0m \u001b[1m6s\u001b[0m 9ms/step - accuracy: 0.5177 - loss: 0.6923 - val_accuracy: 0.5224 - val_loss: 0.6923\n",
      "Epoch 3/20\n",
      "\u001b[1m704/704\u001b[0m \u001b[32m━━━━━━━━━━━━━━━━━━━━\u001b[0m\u001b[37m\u001b[0m \u001b[1m6s\u001b[0m 9ms/step - accuracy: 0.5232 - loss: 0.6907 - val_accuracy: 0.5162 - val_loss: 0.6922\n",
      "Epoch 4/20\n",
      "\u001b[1m704/704\u001b[0m \u001b[32m━━━━━━━━━━━━━━━━━━━━\u001b[0m\u001b[37m\u001b[0m \u001b[1m6s\u001b[0m 8ms/step - accuracy: 0.5331 - loss: 0.6891 - val_accuracy: 0.5194 - val_loss: 0.6947\n",
      "Epoch 5/20\n",
      "\u001b[1m704/704\u001b[0m \u001b[32m━━━━━━━━━━━━━━━━━━━━\u001b[0m\u001b[37m\u001b[0m \u001b[1m6s\u001b[0m 8ms/step - accuracy: 0.5610 - loss: 0.6813 - val_accuracy: 0.5206 - val_loss: 0.6993\n",
      "Epoch 6/20\n",
      "\u001b[1m704/704\u001b[0m \u001b[32m━━━━━━━━━━━━━━━━━━━━\u001b[0m\u001b[37m\u001b[0m \u001b[1m6s\u001b[0m 8ms/step - accuracy: 0.5888 - loss: 0.6671 - val_accuracy: 0.5040 - val_loss: 0.7100\n",
      "Epoch 7/20\n",
      "\u001b[1m704/704\u001b[0m \u001b[32m━━━━━━━━━━━━━━━━━━━━\u001b[0m\u001b[37m\u001b[0m \u001b[1m6s\u001b[0m 8ms/step - accuracy: 0.6318 - loss: 0.6380 - val_accuracy: 0.5018 - val_loss: 0.7292\n",
      "Epoch 8/20\n",
      "\u001b[1m704/704\u001b[0m \u001b[32m━━━━━━━━━━━━━━━━━━━━\u001b[0m\u001b[37m\u001b[0m \u001b[1m6s\u001b[0m 9ms/step - accuracy: 0.6770 - loss: 0.5922 - val_accuracy: 0.4970 - val_loss: 0.7780\n",
      "Epoch 9/20\n",
      "\u001b[1m704/704\u001b[0m \u001b[32m━━━━━━━━━━━━━━━━━━━━\u001b[0m\u001b[37m\u001b[0m \u001b[1m6s\u001b[0m 8ms/step - accuracy: 0.7325 - loss: 0.5281 - val_accuracy: 0.4928 - val_loss: 0.8487\n",
      "Epoch 10/20\n",
      "\u001b[1m704/704\u001b[0m \u001b[32m━━━━━━━━━━━━━━━━━━━━\u001b[0m\u001b[37m\u001b[0m \u001b[1m6s\u001b[0m 8ms/step - accuracy: 0.7773 - loss: 0.4550 - val_accuracy: 0.4952 - val_loss: 0.9513\n",
      "Epoch 11/20\n",
      "\u001b[1m704/704\u001b[0m \u001b[32m━━━━━━━━━━━━━━━━━━━━\u001b[0m\u001b[37m\u001b[0m \u001b[1m6s\u001b[0m 8ms/step - accuracy: 0.8237 - loss: 0.3832 - val_accuracy: 0.4942 - val_loss: 1.1270\n",
      "Epoch 12/20\n",
      "\u001b[1m704/704\u001b[0m \u001b[32m━━━━━━━━━━━━━━━━━━━━\u001b[0m\u001b[37m\u001b[0m \u001b[1m6s\u001b[0m 8ms/step - accuracy: 0.8531 - loss: 0.3185 - val_accuracy: 0.4878 - val_loss: 1.2883\n",
      "Epoch 13/20\n",
      "\u001b[1m704/704\u001b[0m \u001b[32m━━━━━━━━━━━━━━━━━━━━\u001b[0m\u001b[37m\u001b[0m \u001b[1m6s\u001b[0m 9ms/step - accuracy: 0.8802 - loss: 0.2647 - val_accuracy: 0.4930 - val_loss: 1.4015\n",
      "Epoch 14/20\n",
      "\u001b[1m704/704\u001b[0m \u001b[32m━━━━━━━━━━━━━━━━━━━━\u001b[0m\u001b[37m\u001b[0m \u001b[1m6s\u001b[0m 8ms/step - accuracy: 0.9016 - loss: 0.2241 - val_accuracy: 0.4992 - val_loss: 1.6098\n",
      "Epoch 15/20\n",
      "\u001b[1m704/704\u001b[0m \u001b[32m━━━━━━━━━━━━━━━━━━━━\u001b[0m\u001b[37m\u001b[0m \u001b[1m6s\u001b[0m 8ms/step - accuracy: 0.9167 - loss: 0.1954 - val_accuracy: 0.4952 - val_loss: 1.7587\n",
      "Epoch 16/20\n",
      "\u001b[1m704/704\u001b[0m \u001b[32m━━━━━━━━━━━━━━━━━━━━\u001b[0m\u001b[37m\u001b[0m \u001b[1m6s\u001b[0m 8ms/step - accuracy: 0.9213 - loss: 0.1785 - val_accuracy: 0.4960 - val_loss: 1.8047\n",
      "Epoch 17/20\n",
      "\u001b[1m704/704\u001b[0m \u001b[32m━━━━━━━━━━━━━━━━━━━━\u001b[0m\u001b[37m\u001b[0m \u001b[1m6s\u001b[0m 8ms/step - accuracy: 0.9267 - loss: 0.1696 - val_accuracy: 0.4890 - val_loss: 1.9829\n",
      "Epoch 18/20\n",
      "\u001b[1m704/704\u001b[0m \u001b[32m━━━━━━━━━━━━━━━━━━━━\u001b[0m\u001b[37m\u001b[0m \u001b[1m6s\u001b[0m 9ms/step - accuracy: 0.9333 - loss: 0.1490 - val_accuracy: 0.5052 - val_loss: 2.0490\n",
      "Epoch 19/20\n",
      "\u001b[1m704/704\u001b[0m \u001b[32m━━━━━━━━━━━━━━━━━━━━\u001b[0m\u001b[37m\u001b[0m \u001b[1m6s\u001b[0m 8ms/step - accuracy: 0.9391 - loss: 0.1382 - val_accuracy: 0.4980 - val_loss: 2.2047\n",
      "Epoch 20/20\n",
      "\u001b[1m704/704\u001b[0m \u001b[32m━━━━━━━━━━━━━━━━━━━━\u001b[0m\u001b[37m\u001b[0m \u001b[1m6s\u001b[0m 8ms/step - accuracy: 0.9446 - loss: 0.1275 - val_accuracy: 0.4978 - val_loss: 2.2429\n"
     ]
    }
   ],
   "source": [
    "# train model using the established sequential training set, with 10% used for validation\n",
    "# parameters: 20 epochs, batches of 64\n",
    "with tf.device('/device:GPU:1'):\n",
    "    history_03 = model_03.fit(x_train_03, y_train_03,\n",
    "                        epochs=20,\n",
    "                        batch_size=64,\n",
    "                        validation_split=0.1)"
   ]
  },
  {
   "cell_type": "markdown",
   "metadata": {
    "id": "jOSoOW_eh0T2"
   },
   "source": [
    "**Evaluation on the Test Set**"
   ]
  },
  {
   "cell_type": "code",
   "execution_count": 63,
   "metadata": {
    "colab": {
     "base_uri": "https://localhost:8080/"
    },
    "execution": {
     "iopub.execute_input": "2024-08-13T14:39:27.946853Z",
     "iopub.status.busy": "2024-08-13T14:39:27.946442Z",
     "iopub.status.idle": "2024-08-13T14:39:30.831912Z",
     "shell.execute_reply": "2024-08-13T14:39:30.831046Z",
     "shell.execute_reply.started": "2024-08-13T14:39:27.946824Z"
    },
    "executionInfo": {
     "elapsed": 2640,
     "status": "ok",
     "timestamp": 1723302980320,
     "user": {
      "displayName": "Kascha Kruschwitz",
      "userId": "01563592123614078480"
     },
     "user_tz": -120
    },
    "id": "JJdkEpRHUQQc",
    "outputId": "4ef5ce2f-c31a-4c1b-c5c9-73cde573eb53"
   },
   "outputs": [
    {
     "name": "stdout",
     "output_type": "stream",
     "text": [
      "\u001b[1m363/363\u001b[0m \u001b[32m━━━━━━━━━━━━━━━━━━━━\u001b[0m\u001b[37m\u001b[0m \u001b[1m2s\u001b[0m 4ms/step - accuracy: 0.5059 - loss: 2.2155\n"
     ]
    }
   ],
   "source": [
    "# evaluate on test set\n",
    "test_ev_03 = model_03.evaluate(x_test_03, y_test_03)"
   ]
  },
  {
   "cell_type": "markdown",
   "metadata": {
    "id": "XWjbtQKrh95k"
   },
   "source": [
    "**Plotting Accuracy and Loss**"
   ]
  },
  {
   "cell_type": "code",
   "execution_count": 64,
   "metadata": {
    "colab": {
     "base_uri": "https://localhost:8080/",
     "height": 390
    },
    "execution": {
     "iopub.execute_input": "2024-08-13T14:39:30.833758Z",
     "iopub.status.busy": "2024-08-13T14:39:30.833359Z",
     "iopub.status.idle": "2024-08-13T14:39:31.282330Z",
     "shell.execute_reply": "2024-08-13T14:39:31.281322Z",
     "shell.execute_reply.started": "2024-08-13T14:39:30.833724Z"
    },
    "executionInfo": {
     "elapsed": 677,
     "status": "ok",
     "timestamp": 1723302980994,
     "user": {
      "displayName": "Kascha Kruschwitz",
      "userId": "01563592123614078480"
     },
     "user_tz": -120
    },
    "id": "tBHDJcYOZgnj",
    "outputId": "f39a228e-aca9-4033-cfc8-08d406714ab7"
   },
   "outputs": [
    {
     "data": {
      "image/png": "[encoded data removed]",
      "text/plain": [
       "<Figure size 1400x500 with 2 Axes>"
      ]
     },
     "metadata": {},
     "output_type": "display_data"
    }
   ],
   "source": [
    "# use plot function\n",
    "plot_training_history(history_03, test_ev_03)"
   ]
  },
  {
   "cell_type": "markdown",
   "metadata": {
    "id": "l_pCXkc8iEY9"
   },
   "source": [
    "**Predictions**"
   ]
  },
  {
   "cell_type": "code",
   "execution_count": 73,
   "metadata": {
    "colab": {
     "base_uri": "https://localhost:8080/"
    },
    "execution": {
     "iopub.execute_input": "2024-08-13T14:57:26.797831Z",
     "iopub.status.busy": "2024-08-13T14:57:26.797340Z",
     "iopub.status.idle": "2024-08-13T14:57:26.893783Z",
     "shell.execute_reply": "2024-08-13T14:57:26.892797Z",
     "shell.execute_reply.started": "2024-08-13T14:57:26.797790Z"
    },
    "executionInfo": {
     "elapsed": 522,
     "status": "ok",
     "timestamp": 1723303005717,
     "user": {
      "displayName": "Kascha Kruschwitz",
      "userId": "01563592123614078480"
     },
     "user_tz": -120
    },
    "id": "pZhczjkZSSw5",
    "outputId": "cadece04-36b5-4281-920c-2fadc80553b9"
   },
   "outputs": [
    {
     "name": "stdout",
     "output_type": "stream",
     "text": [
      "\u001b[1m1/1\u001b[0m \u001b[32m━━━━━━━━━━━━━━━━━━━━\u001b[0m\u001b[37m\u001b[0m \u001b[1m0s\u001b[0m 27ms/step\n",
      "[1 1 1 1 1 1 1 1 1 1 0 0 0 0 0 0 0 0 0 0]\n",
      "[1 0 0 1 1 1 1 1 1 0 0 0 1 0 1 1 1 0 1 1]\n"
     ]
    }
   ],
   "source": [
    "# make predictions\n",
    "pred_predictions3 = model_03.predict(x_pred_03)\n",
    "\n",
    "\n",
    "# get predicted class based on probality\n",
    "predicted_classes3 = [1 if prob[0] >= 0.5 else 0 for prob in pred_predictions3]\n",
    "predicted_classes3_array = np.array(predicted_classes3)\n",
    "\n",
    "# print target and predicted lables\n",
    "print(pred_labels_array)\n",
    "print(predicted_classes3_array)"
   ]
  },
  {
   "cell_type": "markdown",
   "metadata": {
    "id": "_N7rpXYqiQG0"
   },
   "source": [
    "**Classification Report**"
   ]
  },
  {
   "cell_type": "code",
   "execution_count": 66,
   "metadata": {
    "colab": {
     "base_uri": "https://localhost:8080/"
    },
    "execution": {
     "iopub.execute_input": "2024-08-13T14:39:31.446864Z",
     "iopub.status.busy": "2024-08-13T14:39:31.446472Z",
     "iopub.status.idle": "2024-08-13T14:39:31.462686Z",
     "shell.execute_reply": "2024-08-13T14:39:31.461799Z",
     "shell.execute_reply.started": "2024-08-13T14:39:31.446835Z"
    },
    "executionInfo": {
     "elapsed": 475,
     "status": "ok",
     "timestamp": 1723303009558,
     "user": {
      "displayName": "Kascha Kruschwitz",
      "userId": "01563592123614078480"
     },
     "user_tz": -120
    },
    "id": "0SsZOh30av0u",
    "outputId": "f180f258-be16-44b6-8b43-59072ce2c5b8"
   },
   "outputs": [
    {
     "name": "stdout",
     "output_type": "stream",
     "text": [
      "Accuracy: 0.5500\n",
      "Macro-F1 Score: 0.5396\n",
      "---------------------------------\n",
      "Detailed Classification Report:\n",
      "              precision    recall  f1-score   support\n",
      "\n",
      "           0       0.57      0.40      0.47        10\n",
      "           1       0.54      0.70      0.61        10\n",
      "\n",
      "    accuracy                           0.55        20\n",
      "   macro avg       0.55      0.55      0.54        20\n",
      "weighted avg       0.55      0.55      0.54        20\n",
      "\n"
     ]
    }
   ],
   "source": [
    "# use evaluation function\n",
    "evaluate_classification(pred_labels, predicted_classes3)"
   ]
  },
  {
   "cell_type": "markdown",
   "metadata": {
    "id": "wJvV_EXoez6B"
   },
   "source": [
    "**Confusion** **matrix**"
   ]
  },
  {
   "cell_type": "code",
   "execution_count": 67,
   "metadata": {
    "colab": {
     "base_uri": "https://localhost:8080/",
     "height": 469
    },
    "execution": {
     "iopub.execute_input": "2024-08-13T14:39:31.464097Z",
     "iopub.status.busy": "2024-08-13T14:39:31.463815Z",
     "iopub.status.idle": "2024-08-13T14:39:31.595021Z",
     "shell.execute_reply": "2024-08-13T14:39:31.593631Z",
     "shell.execute_reply.started": "2024-08-13T14:39:31.464072Z"
    },
    "executionInfo": {
     "elapsed": 517,
     "status": "ok",
     "timestamp": 1723303013098,
     "user": {
      "displayName": "Kascha Kruschwitz",
      "userId": "01563592123614078480"
     },
     "user_tz": -120
    },
    "id": "mYMPeJzeez6G",
    "outputId": "af0cf2dd-befb-41fb-aa82-4a60346684d9"
   },
   "outputs": [
    {
     "data": {
      "image/png": "[encoded data removed]",
      "text/plain": [
       "<Figure size 640x480 with 1 Axes>"
      ]
     },
     "metadata": {},
     "output_type": "display_data"
    }
   ],
   "source": [
    "#Create confusion matrix\n",
    "result3 = confusion_matrix(pred_labels_array, predicted_classes3_array , normalize='pred', labels=[1,0] )\n",
    "\n",
    "# display matrix\n",
    "result_display3 = metrics.ConfusionMatrixDisplay(confusion_matrix = result3, display_labels = [\"1\", \"0\"])\n",
    "result_display3.plot(colorbar = False)\n",
    "plt.show()"
   ]
  },
  {
   "cell_type": "markdown",
   "metadata": {
    "id": "d5g2Vfoqm81J"
   },
   "source": [
    "**Results**\n",
    "\n",
    "This model performs quite differently to the other models, in that it actually  makes different predictions instead of just guessing the same lable each time. However, plotting the training accuracy shows that the model is actively overfitting, performing increasingly well on the training data, but at chance on the validation and test data. Our attempts to fix this, as outlined before, where not sucessfull. \n",
    "\n",
    "When looking at the classification report, we can see that the model has a slightly lower precision but much higher recall on lable 1, when compared to label 0. This could be because the model generally predicts label 1 more often than label 0, which is in line with there being slightly more data labled as 1 overall. If this is the case and assuming the model tags unseen data at chance, the model would then perform at chance when tagging sentences as positive rather than negative (precision) but overall guess more positive sentences correctly (recall). \n",
    "\n",
    "Overall, the model has a higher classification accuracy (0.55) and Macro-F1 score (0.5396) than the other models. However, the model seems to not \"learn\" the pattern, but rather memorize the training set and then randomly guess labels for any other input. Thereby, the model performance is simply more varied, but not significantly different to that of the other models.\n"
   ]
  },
  {
   "cell_type": "markdown",
   "metadata": {
    "id": "UKmP8vNBdziU"
   },
   "source": [
    "# Final evaluation"
   ]
  },
  {
   "cell_type": "markdown",
   "metadata": {
    "id": "4R-6fhn5odMi"
   },
   "source": [
    "In summary, none of our models performed very well on predicting whether the second sentence in a sentence pair was a negated or paraphrased version of the first sentence. \n",
    "\n",
    "Below are the confusion matrices for each model, as well as a table summarizing each model's predictions on the ten prediction sentences. The first five of these were antonym-negation and the second five negation using \"not\" or \"n't\". Most models only predict a single label, so their performance did not differ between the two types of negation. Model 3, seemed to perform slightly better on verbal negation, predicting 4/5 correct and only 3/5 for antonyms. The model also seems to predict label 1 correctly more often than label 0, which is seen in the higher recally. However, we have seen that the model overfits, making further predictions at chance and based on the slight discrepancy in label distribution. \n",
    "\n",
    "There are two likely causes for the observed performance. The simple explanation is that negation is simply a hard task for language models, as has been seen in previous research (Truong et al, 2023). Especially antonym style negation can be difficult, as it relies on the words being very similar in some regards but different in others (eg. opposite ends of the same scale).\n",
    "\n",
    "Another issue might be the difficulty in the provided dataset. Not only do the sentences themselves often consist of unique words and complex topics, but the complexity and type of negation also varies. Thus, our models must capture a lot of different types of information and it is likely that our models are simply to simplistic and the training data much too small to account for this.\n",
    "\n",
    "Overall, our models performed badly, but this was not unexpected."
   ]
  },
  {
   "cell_type": "markdown",
   "metadata": {},
   "source": [
    "**Confusion Matrices of all Models**"
   ]
  },
  {
   "cell_type": "code",
   "execution_count": 72,
   "metadata": {
    "execution": {
     "iopub.execute_input": "2024-08-13T14:46:47.183716Z",
     "iopub.status.busy": "2024-08-13T14:46:47.183297Z",
     "iopub.status.idle": "2024-08-13T14:46:47.609152Z",
     "shell.execute_reply": "2024-08-13T14:46:47.608240Z",
     "shell.execute_reply.started": "2024-08-13T14:46:47.183683Z"
    },
    "id": "qBVzfevarU_p"
   },
   "outputs": [
    {
     "data": {
      "text/plain": [
       "<Figure size 640x480 with 0 Axes>"
      ]
     },
     "metadata": {},
     "output_type": "display_data"
    },
    {
     "data": {
      "image/png": "[encoded data removed]",
      "text/plain": [
       "<Figure size 900x400 with 4 Axes>"
      ]
     },
     "metadata": {},
     "output_type": "display_data"
    }
   ],
   "source": [
    "plt.clf()\n",
    "\n",
    "# plot the confusion matrices for all four models in one line\n",
    "fig = plt.figure(figsize=(9, 4)) #figsize=(10, 6)\n",
    "\n",
    "sp1 = plt.subplot(1, 4, 1)\n",
    "result_display.plot(ax=sp1)\n",
    "plt.gca().images[-1].colorbar.remove() # removes the colorbar\n",
    "plt.title(\"GPT-Neo\")\n",
    "\n",
    "\n",
    "sp1 = plt.subplot(1, 4, 2)\n",
    "result_display1.plot(ax=sp1)\n",
    "plt.gca().images[-1].colorbar.remove()\n",
    "plt.title(\"Model 1\")\n",
    "\n",
    "\n",
    "sp2 = plt.subplot(1, 4, 3)\n",
    "result_display2.plot(ax=sp2)\n",
    "plt.gca().images[-1].colorbar.remove()\n",
    "plt.title(\"Model 2\")\n",
    "\n",
    "\n",
    "sp3 = plt.subplot(1, 4, 4)\n",
    "result_display3.plot(ax=sp3)\n",
    "plt.gca().images[-1].colorbar.remove()\n",
    "plt.title(\"Model 3\")\n",
    "\n",
    "plt.show()"
   ]
  },
  {
   "cell_type": "markdown",
   "metadata": {},
   "source": [
    "**Table of predictions made by all models**"
   ]
  },
  {
   "cell_type": "code",
   "execution_count": 71,
   "metadata": {
    "execution": {
     "iopub.execute_input": "2024-08-13T14:45:50.680157Z",
     "iopub.status.busy": "2024-08-13T14:45:50.679805Z",
     "iopub.status.idle": "2024-08-13T14:45:50.701107Z",
     "shell.execute_reply": "2024-08-13T14:45:50.700130Z",
     "shell.execute_reply.started": "2024-08-13T14:45:50.680128Z"
    },
    "id": "IDLrRpsod1xy"
   },
   "outputs": [
    {
     "data": {
      "text/html": [
       "<style type=\"text/css\">\n",
       "#T_66bc2_row0_col0, #T_66bc2_row1_col0, #T_66bc2_row2_col0, #T_66bc2_row3_col0, #T_66bc2_row4_col0 {\n",
       "  background-color: plum;\n",
       "}\n",
       "#T_66bc2_row5_col0, #T_66bc2_row6_col0, #T_66bc2_row7_col0, #T_66bc2_row8_col0, #T_66bc2_row9_col0 {\n",
       "  background-color: lightblue;\n",
       "}\n",
       "#T_66bc2_row10_col0, #T_66bc2_row11_col0, #T_66bc2_row12_col0, #T_66bc2_row13_col0, #T_66bc2_row14_col0, #T_66bc2_row15_col0, #T_66bc2_row16_col0, #T_66bc2_row17_col0, #T_66bc2_row18_col0, #T_66bc2_row19_col0 {\n",
       "  background-color: lightgreen;\n",
       "}\n",
       "</style>\n",
       "<table id=\"T_66bc2\">\n",
       "  <thead>\n",
       "    <tr>\n",
       "      <th id=\"T_66bc2_level0_col0\" class=\"col_heading level0 col0\" > </th>\n",
       "      <th id=\"T_66bc2_level0_col1\" class=\"col_heading level0 col1\" >Premise</th>\n",
       "      <th id=\"T_66bc2_level0_col2\" class=\"col_heading level0 col2\" >Hypothesis</th>\n",
       "      <th id=\"T_66bc2_level0_col3\" class=\"col_heading level0 col3\" >Actual Labels</th>\n",
       "      <th id=\"T_66bc2_level0_col4\" class=\"col_heading level0 col4\" >Predicted Labels GPT</th>\n",
       "      <th id=\"T_66bc2_level0_col5\" class=\"col_heading level0 col5\" >Predicted Labels Model 1</th>\n",
       "      <th id=\"T_66bc2_level0_col6\" class=\"col_heading level0 col6\" >Predicted Labels Model 2</th>\n",
       "      <th id=\"T_66bc2_level0_col7\" class=\"col_heading level0 col7\" >Predicted Labels Model 3</th>\n",
       "    </tr>\n",
       "  </thead>\n",
       "  <tbody>\n",
       "    <tr>\n",
       "      <td id=\"T_66bc2_row0_col0\" class=\"data row0 col0\" >0</td>\n",
       "      <td id=\"T_66bc2_row0_col1\" class=\"data row0 col1\" >That's a good idea.</td>\n",
       "      <td id=\"T_66bc2_row0_col2\" class=\"data row0 col2\" >That's an evil idea.</td>\n",
       "      <td id=\"T_66bc2_row0_col3\" class=\"data row0 col3\" >1</td>\n",
       "      <td id=\"T_66bc2_row0_col4\" class=\"data row0 col4\" >1</td>\n",
       "      <td id=\"T_66bc2_row0_col5\" class=\"data row0 col5\" >0</td>\n",
       "      <td id=\"T_66bc2_row0_col6\" class=\"data row0 col6\" >1</td>\n",
       "      <td id=\"T_66bc2_row0_col7\" class=\"data row0 col7\" >1</td>\n",
       "    </tr>\n",
       "    <tr>\n",
       "      <td id=\"T_66bc2_row1_col0\" class=\"data row1 col0\" >1</td>\n",
       "      <td id=\"T_66bc2_row1_col1\" class=\"data row1 col1\" >There's something that's not right.</td>\n",
       "      <td id=\"T_66bc2_row1_col2\" class=\"data row1 col2\" >There's something that's not incorrect.</td>\n",
       "      <td id=\"T_66bc2_row1_col3\" class=\"data row1 col3\" >1</td>\n",
       "      <td id=\"T_66bc2_row1_col4\" class=\"data row1 col4\" >1</td>\n",
       "      <td id=\"T_66bc2_row1_col5\" class=\"data row1 col5\" >0</td>\n",
       "      <td id=\"T_66bc2_row1_col6\" class=\"data row1 col6\" >1</td>\n",
       "      <td id=\"T_66bc2_row1_col7\" class=\"data row1 col7\" >0</td>\n",
       "    </tr>\n",
       "    <tr>\n",
       "      <td id=\"T_66bc2_row2_col0\" class=\"data row2 col0\" >2</td>\n",
       "      <td id=\"T_66bc2_row2_col1\" class=\"data row2 col1\" >He would die before this work was complete.</td>\n",
       "      <td id=\"T_66bc2_row2_col2\" class=\"data row2 col2\" >He would die after this work was complete.</td>\n",
       "      <td id=\"T_66bc2_row2_col3\" class=\"data row2 col3\" >1</td>\n",
       "      <td id=\"T_66bc2_row2_col4\" class=\"data row2 col4\" >1</td>\n",
       "      <td id=\"T_66bc2_row2_col5\" class=\"data row2 col5\" >0</td>\n",
       "      <td id=\"T_66bc2_row2_col6\" class=\"data row2 col6\" >1</td>\n",
       "      <td id=\"T_66bc2_row2_col7\" class=\"data row2 col7\" >0</td>\n",
       "    </tr>\n",
       "    <tr>\n",
       "      <td id=\"T_66bc2_row3_col0\" class=\"data row3 col0\" >3</td>\n",
       "      <td id=\"T_66bc2_row3_col1\" class=\"data row3 col1\" >It has a high gable roof and marble end chimneys.</td>\n",
       "      <td id=\"T_66bc2_row3_col2\" class=\"data row3 col2\" >It has a low gable roof and brick end chimneys.</td>\n",
       "      <td id=\"T_66bc2_row3_col3\" class=\"data row3 col3\" >1</td>\n",
       "      <td id=\"T_66bc2_row3_col4\" class=\"data row3 col4\" >1</td>\n",
       "      <td id=\"T_66bc2_row3_col5\" class=\"data row3 col5\" >0</td>\n",
       "      <td id=\"T_66bc2_row3_col6\" class=\"data row3 col6\" >1</td>\n",
       "      <td id=\"T_66bc2_row3_col7\" class=\"data row3 col7\" >1</td>\n",
       "    </tr>\n",
       "    <tr>\n",
       "      <td id=\"T_66bc2_row4_col0\" class=\"data row4 col0\" >4</td>\n",
       "      <td id=\"T_66bc2_row4_col1\" class=\"data row4 col1\" >She often uses deliberately unrealistic characters in her work such as simplified archetypes.</td>\n",
       "      <td id=\"T_66bc2_row4_col2\" class=\"data row4 col2\" >She never make use of deliberately unrealistic characters in her work such as simplified archetypes.</td>\n",
       "      <td id=\"T_66bc2_row4_col3\" class=\"data row4 col3\" >1</td>\n",
       "      <td id=\"T_66bc2_row4_col4\" class=\"data row4 col4\" >1</td>\n",
       "      <td id=\"T_66bc2_row4_col5\" class=\"data row4 col5\" >0</td>\n",
       "      <td id=\"T_66bc2_row4_col6\" class=\"data row4 col6\" >1</td>\n",
       "      <td id=\"T_66bc2_row4_col7\" class=\"data row4 col7\" >1</td>\n",
       "    </tr>\n",
       "    <tr>\n",
       "      <td id=\"T_66bc2_row5_col0\" class=\"data row5 col0\" >5</td>\n",
       "      <td id=\"T_66bc2_row5_col1\" class=\"data row5 col1\" >She didn't leave.</td>\n",
       "      <td id=\"T_66bc2_row5_col2\" class=\"data row5 col2\" >She left.</td>\n",
       "      <td id=\"T_66bc2_row5_col3\" class=\"data row5 col3\" >1</td>\n",
       "      <td id=\"T_66bc2_row5_col4\" class=\"data row5 col4\" >1</td>\n",
       "      <td id=\"T_66bc2_row5_col5\" class=\"data row5 col5\" >0</td>\n",
       "      <td id=\"T_66bc2_row5_col6\" class=\"data row5 col6\" >1</td>\n",
       "      <td id=\"T_66bc2_row5_col7\" class=\"data row5 col7\" >1</td>\n",
       "    </tr>\n",
       "    <tr>\n",
       "      <td id=\"T_66bc2_row6_col0\" class=\"data row6 col0\" >6</td>\n",
       "      <td id=\"T_66bc2_row6_col1\" class=\"data row6 col1\" >Its foundations are not Gravel Point, Charlevoix Limestone, Petoskey, and Whiskey Creek.</td>\n",
       "      <td id=\"T_66bc2_row6_col2\" class=\"data row6 col2\" >Its formations are Gravel Point, Charlevoix Limestone, Petoskey, and Whiskey Creek.</td>\n",
       "      <td id=\"T_66bc2_row6_col3\" class=\"data row6 col3\" >1</td>\n",
       "      <td id=\"T_66bc2_row6_col4\" class=\"data row6 col4\" >1</td>\n",
       "      <td id=\"T_66bc2_row6_col5\" class=\"data row6 col5\" >0</td>\n",
       "      <td id=\"T_66bc2_row6_col6\" class=\"data row6 col6\" >1</td>\n",
       "      <td id=\"T_66bc2_row6_col7\" class=\"data row6 col7\" >1</td>\n",
       "    </tr>\n",
       "    <tr>\n",
       "      <td id=\"T_66bc2_row7_col0\" class=\"data row7 col0\" >7</td>\n",
       "      <td id=\"T_66bc2_row7_col1\" class=\"data row7 col1\" >Looks good in the picture, but this case wasn't a huge disappointment!!</td>\n",
       "      <td id=\"T_66bc2_row7_col2\" class=\"data row7 col2\" >Looks good in the picture, but this case was a huge disappointment!!</td>\n",
       "      <td id=\"T_66bc2_row7_col3\" class=\"data row7 col3\" >1</td>\n",
       "      <td id=\"T_66bc2_row7_col4\" class=\"data row7 col4\" >1</td>\n",
       "      <td id=\"T_66bc2_row7_col5\" class=\"data row7 col5\" >0</td>\n",
       "      <td id=\"T_66bc2_row7_col6\" class=\"data row7 col6\" >1</td>\n",
       "      <td id=\"T_66bc2_row7_col7\" class=\"data row7 col7\" >1</td>\n",
       "    </tr>\n",
       "    <tr>\n",
       "      <td id=\"T_66bc2_row8_col0\" class=\"data row8 col0\" >8</td>\n",
       "      <td id=\"T_66bc2_row8_col1\" class=\"data row8 col1\" >It doesn't work great with a car charger, especially if you cannot plug in two adapters at the same time.</td>\n",
       "      <td id=\"T_66bc2_row8_col2\" class=\"data row8 col2\" >It works great with a car charger, especially if you cannot plug in two adapters at the same time.</td>\n",
       "      <td id=\"T_66bc2_row8_col3\" class=\"data row8 col3\" >1</td>\n",
       "      <td id=\"T_66bc2_row8_col4\" class=\"data row8 col4\" >1</td>\n",
       "      <td id=\"T_66bc2_row8_col5\" class=\"data row8 col5\" >0</td>\n",
       "      <td id=\"T_66bc2_row8_col6\" class=\"data row8 col6\" >1</td>\n",
       "      <td id=\"T_66bc2_row8_col7\" class=\"data row8 col7\" >1</td>\n",
       "    </tr>\n",
       "    <tr>\n",
       "      <td id=\"T_66bc2_row9_col0\" class=\"data row9 col0\" >9</td>\n",
       "      <td id=\"T_66bc2_row9_col1\" class=\"data row9 col1\" >External corrosion was not suspected at all.</td>\n",
       "      <td id=\"T_66bc2_row9_col2\" class=\"data row9 col2\" >External corrosion was suspected.</td>\n",
       "      <td id=\"T_66bc2_row9_col3\" class=\"data row9 col3\" >1</td>\n",
       "      <td id=\"T_66bc2_row9_col4\" class=\"data row9 col4\" >1</td>\n",
       "      <td id=\"T_66bc2_row9_col5\" class=\"data row9 col5\" >0</td>\n",
       "      <td id=\"T_66bc2_row9_col6\" class=\"data row9 col6\" >1</td>\n",
       "      <td id=\"T_66bc2_row9_col7\" class=\"data row9 col7\" >0</td>\n",
       "    </tr>\n",
       "    <tr>\n",
       "      <td id=\"T_66bc2_row10_col0\" class=\"data row10 col0\" >10</td>\n",
       "      <td id=\"T_66bc2_row10_col1\" class=\"data row10 col1\" >They are followed by small oval fruit.</td>\n",
       "      <td id=\"T_66bc2_row10_col2\" class=\"data row10 col2\" >They are followed by some fruit.</td>\n",
       "      <td id=\"T_66bc2_row10_col3\" class=\"data row10 col3\" >0</td>\n",
       "      <td id=\"T_66bc2_row10_col4\" class=\"data row10 col4\" >1</td>\n",
       "      <td id=\"T_66bc2_row10_col5\" class=\"data row10 col5\" >0</td>\n",
       "      <td id=\"T_66bc2_row10_col6\" class=\"data row10 col6\" >1</td>\n",
       "      <td id=\"T_66bc2_row10_col7\" class=\"data row10 col7\" >0</td>\n",
       "    </tr>\n",
       "    <tr>\n",
       "      <td id=\"T_66bc2_row11_col0\" class=\"data row11 col0\" >11</td>\n",
       "      <td id=\"T_66bc2_row11_col1\" class=\"data row11 col1\" >No, it's the same thing.</td>\n",
       "      <td id=\"T_66bc2_row11_col2\" class=\"data row11 col2\" >No, it's not a different thing.</td>\n",
       "      <td id=\"T_66bc2_row11_col3\" class=\"data row11 col3\" >0</td>\n",
       "      <td id=\"T_66bc2_row11_col4\" class=\"data row11 col4\" >1</td>\n",
       "      <td id=\"T_66bc2_row11_col5\" class=\"data row11 col5\" >0</td>\n",
       "      <td id=\"T_66bc2_row11_col6\" class=\"data row11 col6\" >1</td>\n",
       "      <td id=\"T_66bc2_row11_col7\" class=\"data row11 col7\" >0</td>\n",
       "    </tr>\n",
       "    <tr>\n",
       "      <td id=\"T_66bc2_row12_col0\" class=\"data row12 col0\" >12</td>\n",
       "      <td id=\"T_66bc2_row12_col1\" class=\"data row12 col1\" >I'm not a good talker either.</td>\n",
       "      <td id=\"T_66bc2_row12_col2\" class=\"data row12 col2\" >I'm a bad talker too.</td>\n",
       "      <td id=\"T_66bc2_row12_col3\" class=\"data row12 col3\" >0</td>\n",
       "      <td id=\"T_66bc2_row12_col4\" class=\"data row12 col4\" >1</td>\n",
       "      <td id=\"T_66bc2_row12_col5\" class=\"data row12 col5\" >0</td>\n",
       "      <td id=\"T_66bc2_row12_col6\" class=\"data row12 col6\" >1</td>\n",
       "      <td id=\"T_66bc2_row12_col7\" class=\"data row12 col7\" >1</td>\n",
       "    </tr>\n",
       "    <tr>\n",
       "      <td id=\"T_66bc2_row13_col0\" class=\"data row13 col0\" >13</td>\n",
       "      <td id=\"T_66bc2_row13_col1\" class=\"data row13 col1\" >Grisham was close to winning the popular vote.</td>\n",
       "      <td id=\"T_66bc2_row13_col2\" class=\"data row13 col2\" >Grisham almost won the popular vote.</td>\n",
       "      <td id=\"T_66bc2_row13_col3\" class=\"data row13 col3\" >0</td>\n",
       "      <td id=\"T_66bc2_row13_col4\" class=\"data row13 col4\" >1</td>\n",
       "      <td id=\"T_66bc2_row13_col5\" class=\"data row13 col5\" >0</td>\n",
       "      <td id=\"T_66bc2_row13_col6\" class=\"data row13 col6\" >1</td>\n",
       "      <td id=\"T_66bc2_row13_col7\" class=\"data row13 col7\" >0</td>\n",
       "    </tr>\n",
       "    <tr>\n",
       "      <td id=\"T_66bc2_row14_col0\" class=\"data row14 col0\" >14</td>\n",
       "      <td id=\"T_66bc2_row14_col1\" class=\"data row14 col1\" >Their menu is reasonably priced.</td>\n",
       "      <td id=\"T_66bc2_row14_col2\" class=\"data row14 col2\" >Their menu is diverse, and reasonably priced.</td>\n",
       "      <td id=\"T_66bc2_row14_col3\" class=\"data row14 col3\" >0</td>\n",
       "      <td id=\"T_66bc2_row14_col4\" class=\"data row14 col4\" >1</td>\n",
       "      <td id=\"T_66bc2_row14_col5\" class=\"data row14 col5\" >0</td>\n",
       "      <td id=\"T_66bc2_row14_col6\" class=\"data row14 col6\" >1</td>\n",
       "      <td id=\"T_66bc2_row14_col7\" class=\"data row14 col7\" >1</td>\n",
       "    </tr>\n",
       "    <tr>\n",
       "      <td id=\"T_66bc2_row15_col0\" class=\"data row15 col0\" >15</td>\n",
       "      <td id=\"T_66bc2_row15_col1\" class=\"data row15 col1\" >Shetty was elected to the Karnataka Legislative Assembly in 1967 from the Puttur constituency.</td>\n",
       "      <td id=\"T_66bc2_row15_col2\" class=\"data row15 col2\" >He was elected to the Legislative Assembly from the Puttur constituency.</td>\n",
       "      <td id=\"T_66bc2_row15_col3\" class=\"data row15 col3\" >0</td>\n",
       "      <td id=\"T_66bc2_row15_col4\" class=\"data row15 col4\" >1</td>\n",
       "      <td id=\"T_66bc2_row15_col5\" class=\"data row15 col5\" >0</td>\n",
       "      <td id=\"T_66bc2_row15_col6\" class=\"data row15 col6\" >1</td>\n",
       "      <td id=\"T_66bc2_row15_col7\" class=\"data row15 col7\" >1</td>\n",
       "    </tr>\n",
       "    <tr>\n",
       "      <td id=\"T_66bc2_row16_col0\" class=\"data row16 col0\" >16</td>\n",
       "      <td id=\"T_66bc2_row16_col1\" class=\"data row16 col1\" >HMAC_DRBG also has a machine-verified security proof.</td>\n",
       "      <td id=\"T_66bc2_row16_col2\" class=\"data row16 col2\" >HMAC_DRBG has a machine-verified security proof.</td>\n",
       "      <td id=\"T_66bc2_row16_col3\" class=\"data row16 col3\" >0</td>\n",
       "      <td id=\"T_66bc2_row16_col4\" class=\"data row16 col4\" >1</td>\n",
       "      <td id=\"T_66bc2_row16_col5\" class=\"data row16 col5\" >0</td>\n",
       "      <td id=\"T_66bc2_row16_col6\" class=\"data row16 col6\" >1</td>\n",
       "      <td id=\"T_66bc2_row16_col7\" class=\"data row16 col7\" >1</td>\n",
       "    </tr>\n",
       "    <tr>\n",
       "      <td id=\"T_66bc2_row17_col0\" class=\"data row17 col0\" >17</td>\n",
       "      <td id=\"T_66bc2_row17_col1\" class=\"data row17 col1\" >The contract to buy Solel Solar Systems was signed in October of 2009.</td>\n",
       "      <td id=\"T_66bc2_row17_col2\" class=\"data row17 col2\" >In October 2009, Siemens signed a $418-million contract to buy Solel Solar Systems.</td>\n",
       "      <td id=\"T_66bc2_row17_col3\" class=\"data row17 col3\" >0</td>\n",
       "      <td id=\"T_66bc2_row17_col4\" class=\"data row17 col4\" >1</td>\n",
       "      <td id=\"T_66bc2_row17_col5\" class=\"data row17 col5\" >0</td>\n",
       "      <td id=\"T_66bc2_row17_col6\" class=\"data row17 col6\" >1</td>\n",
       "      <td id=\"T_66bc2_row17_col7\" class=\"data row17 col7\" >0</td>\n",
       "    </tr>\n",
       "    <tr>\n",
       "      <td id=\"T_66bc2_row18_col0\" class=\"data row18 col0\" >18</td>\n",
       "      <td id=\"T_66bc2_row18_col1\" class=\"data row18 col1\" >The analysis device's wiring is used as a mystical conduit.</td>\n",
       "      <td id=\"T_66bc2_row18_col2\" class=\"data row18 col2\" >The wiring in the analysis device is simply used as a mystical conduit.</td>\n",
       "      <td id=\"T_66bc2_row18_col3\" class=\"data row18 col3\" >0</td>\n",
       "      <td id=\"T_66bc2_row18_col4\" class=\"data row18 col4\" >1</td>\n",
       "      <td id=\"T_66bc2_row18_col5\" class=\"data row18 col5\" >0</td>\n",
       "      <td id=\"T_66bc2_row18_col6\" class=\"data row18 col6\" >1</td>\n",
       "      <td id=\"T_66bc2_row18_col7\" class=\"data row18 col7\" >1</td>\n",
       "    </tr>\n",
       "    <tr>\n",
       "      <td id=\"T_66bc2_row19_col0\" class=\"data row19 col0\" >19</td>\n",
       "      <td id=\"T_66bc2_row19_col1\" class=\"data row19 col1\" >The pleather case doesn't fit.</td>\n",
       "      <td id=\"T_66bc2_row19_col2\" class=\"data row19 col2\" >The case doesn't fit.</td>\n",
       "      <td id=\"T_66bc2_row19_col3\" class=\"data row19 col3\" >0</td>\n",
       "      <td id=\"T_66bc2_row19_col4\" class=\"data row19 col4\" >1</td>\n",
       "      <td id=\"T_66bc2_row19_col5\" class=\"data row19 col5\" >0</td>\n",
       "      <td id=\"T_66bc2_row19_col6\" class=\"data row19 col6\" >1</td>\n",
       "      <td id=\"T_66bc2_row19_col7\" class=\"data row19 col7\" >1</td>\n",
       "    </tr>\n",
       "  </tbody>\n",
       "</table>\n"
      ],
      "text/plain": [
       "<pandas.io.formats.style.Styler at 0x7811c4b1f640>"
      ]
     },
     "metadata": {},
     "output_type": "display_data"
    }
   ],
   "source": [
    "# create dictionary: prediction sentences and the predcitions from each model\n",
    "table_df = {\n",
    "    # manual indice column to apply color to it\n",
    "    \" \": [i for i in range(20)],\n",
    "    \"Premise\": dataset.loc[[i for i in pred_rows], \"premise\"],\n",
    "    \"Hypothesis\": dataset.loc[[i for i in pred_rows], \"hypothesis\"],\n",
    "    \"Actual Labels\": dataset.loc[[i for i in pred_rows], \"label\"],\n",
    "    \"Predicted Labels GPT\": gpt_pred,\n",
    "    \"Predicted Labels Model 1\": predicted_classes1,\n",
    "    \"Predicted Labels Model 2\": predicted_classes2,\n",
    "    \"Predicted Labels Model 3\": predicted_classes3  \n",
    "}\n",
    "\n",
    "# make the dictionary a dataframe with indices 0-19 ????\n",
    "df = pd.DataFrame(table_df).reset_index(drop=True)\n",
    "\n",
    "# highlight manual indice column based on sentence type\n",
    "def highlighter(cell_value):\n",
    "    if cell_value < 5:\n",
    "        return 'background-color: plum'\n",
    "    elif cell_value < 10:\n",
    "        return 'background-color: lightblue'\n",
    "    elif cell_value < 20:\n",
    "        return 'background-color: lightgreen'\n",
    "    else:\n",
    "        return ''\n",
    "\n",
    "# apply color function and hide inbuilt index column, then display\n",
    "pretty_df = df.style.map(highlighter, subset=[\" \"]).hide(axis=\"index\")\n",
    "display(pretty_df)"
   ]
  },
  {
   "cell_type": "markdown",
   "metadata": {
    "id": "tiYjjqS09JLc"
   },
   "source": [
    "# Sources\n",
    "\n",
    "\n",
    "Anschütz, M., Lozano, D. M., & Groh, G. (2023). This is not correct! negation-aware evaluation of language generation systems. <i>arXiv preprint arXiv:2307.13989</i>.\n",
    "\n",
    "Gao, L., Biderman, S., Black, S., Golding, L., Hoppe, T., Foster, C., ... & Leahy, C. (2020). The pile: An 800gb dataset of diverse text for language modeling. <i>arXiv preprint arXiv:2101.00027.</i>\n",
    "\n",
    "Truong, T. H., Baldwin, T., Verspoor, K., & Cohn, T. (2023). Language models are not naysayers: an analysis of language models on negation benchmarks. <i>arXiv preprint arXiv:2306.08189</i>.\n",
    "\n",
    "\n",
    "Mishra, A. (2023, February 25). Keras documentation: Semantic Similarity with KerasNLP. https://keras.io/examples/nlp/semantic_similarity_with_keras_nlp/\n",
    "\n",
    "\n",
    "\n"
   ]
  }
 ],
 "metadata": {
  "colab": {
   "collapsed_sections": [
    "5AUQiACYCHeJ",
    "JMnUW6BjGmdP",
    "n4EkfsAvp_m-",
    "OdldDBdYQZmt",
    "XrXyu751JCCM"
   ],
   "provenance": [],
   "toc_visible": true
  },
  "kaggle": {
   "accelerator": "nvidiaTeslaT4",
   "dataSources": [
    {
     "datasetId": 5498499,
     "sourceId": 9110175,
     "sourceType": "datasetVersion"
    },
    {
     "modelId": 2819,
     "modelInstanceId": 4678,
     "sourceId": 6057,
     "sourceType": "modelInstanceVersion"
    }
   ],
   "dockerImageVersionId": 30747,
   "isGpuEnabled": true,
   "isInternetEnabled": true,
   "language": "python",
   "sourceType": "notebook"
  },
  "kernelspec": {
   "display_name": "Python 3 (ipykernel)",
   "language": "python",
   "name": "python3"
  },
  "language_info": {
   "codemirror_mode": {
    "name": "ipython",
    "version": 3
   },
   "file_extension": ".py",
   "mimetype": "text/x-python",
   "name": "python",
   "nbconvert_exporter": "python",
   "pygments_lexer": "ipython3",
   "version": "3.9.7"
  },
  "widgets": {
   "application/vnd.jupyter.widget-state+json": {
    "03ee48fda9fe43f9a6acfcef9d25fef8": {
     "model_module": "@jupyter-widgets/controls",
     "model_module_version": "1.5.0",
     "model_name": "DescriptionStyleModel",
     "state": {
      "_model_module": "@jupyter-widgets/controls",
      "_model_module_version": "1.5.0",
      "_model_name": "DescriptionStyleModel",
      "_view_count": null,
      "_view_module": "@jupyter-widgets/base",
      "_view_module_version": "1.2.0",
      "_view_name": "StyleView",
      "description_width": ""
     }
    },
    "0842135e457d4814890a37d31e39fd95": {
     "model_module": "@jupyter-widgets/controls",
     "model_module_version": "1.5.0",
     "model_name": "DescriptionStyleModel",
     "state": {
      "_model_module": "@jupyter-widgets/controls",
      "_model_module_version": "1.5.0",
      "_model_name": "DescriptionStyleModel",
      "_view_count": null,
      "_view_module": "@jupyter-widgets/base",
      "_view_module_version": "1.2.0",
      "_view_name": "StyleView",
      "description_width": ""
     }
    },
    "08477016f7f64c7b9734134bdbd2945b": {
     "model_module": "@jupyter-widgets/controls",
     "model_module_version": "1.5.0",
     "model_name": "HTMLModel",
     "state": {
      "_dom_classes": [],
      "_model_module": "@jupyter-widgets/controls",
      "_model_module_version": "1.5.0",
      "_model_name": "HTMLModel",
      "_view_count": null,
      "_view_module": "@jupyter-widgets/controls",
      "_view_module_version": "1.5.0",
      "_view_name": "HTMLView",
      "description": "",
      "description_tooltip": null,
      "layout": "IPY_MODEL_6284dce2eed54dfd8e5094d750b5ebfc",
      "placeholder": "​",
      "style": "IPY_MODEL_df10366ea4654b78a137ca311d5c4970",
      "value": " 200/200 [00:00&lt;00:00, 11.6kB/s]"
     }
    },
    "1768475065cb44b1892a6ad67c4713cc": {
     "model_module": "@jupyter-widgets/controls",
     "model_module_version": "1.5.0",
     "model_name": "FloatProgressModel",
     "state": {
      "_dom_classes": [],
      "_model_module": "@jupyter-widgets/controls",
      "_model_module_version": "1.5.0",
      "_model_name": "FloatProgressModel",
      "_view_count": null,
      "_view_module": "@jupyter-widgets/controls",
      "_view_module_version": "1.5.0",
      "_view_name": "ProgressView",
      "bar_style": "success",
      "description": "",
      "description_tooltip": null,
      "layout": "IPY_MODEL_8eeed1a3a46b46c8852b37d3fdb605f9",
      "max": 5312673800,
      "min": 0,
      "orientation": "horizontal",
      "style": "IPY_MODEL_5789417a2ea9423090e1b46af79da3af",
      "value": 5312673800
     }
    },
    "1d57b068e3ff4a58817476af0a80b21f": {
     "model_module": "@jupyter-widgets/controls",
     "model_module_version": "1.5.0",
     "model_name": "DescriptionStyleModel",
     "state": {
      "_model_module": "@jupyter-widgets/controls",
      "_model_module_version": "1.5.0",
      "_model_name": "DescriptionStyleModel",
      "_view_count": null,
      "_view_module": "@jupyter-widgets/base",
      "_view_module_version": "1.2.0",
      "_view_name": "StyleView",
      "description_width": ""
     }
    },
    "2565b44fc3df4b5888b9d56e12b7ef72": {
     "model_module": "@jupyter-widgets/controls",
     "model_module_version": "1.5.0",
     "model_name": "FloatProgressModel",
     "state": {
      "_dom_classes": [],
      "_model_module": "@jupyter-widgets/controls",
      "_model_module_version": "1.5.0",
      "_model_name": "FloatProgressModel",
      "_view_count": null,
      "_view_module": "@jupyter-widgets/controls",
      "_view_module_version": "1.5.0",
      "_view_name": "ProgressView",
      "bar_style": "success",
      "description": "",
      "description_tooltip": null,
      "layout": "IPY_MODEL_70bc5b960c8346509b792b485af614bb",
      "max": 1347,
      "min": 0,
      "orientation": "horizontal",
      "style": "IPY_MODEL_d4debc9141e94e31bfcfbf6fd8b601f6",
      "value": 1347
     }
    },
    "258ac545059d46da9c87fc249e951581": {
     "model_module": "@jupyter-widgets/controls",
     "model_module_version": "1.5.0",
     "model_name": "DescriptionStyleModel",
     "state": {
      "_model_module": "@jupyter-widgets/controls",
      "_model_module_version": "1.5.0",
      "_model_name": "DescriptionStyleModel",
      "_view_count": null,
      "_view_module": "@jupyter-widgets/base",
      "_view_module_version": "1.2.0",
      "_view_name": "StyleView",
      "description_width": ""
     }
    },
    "280a84ba80b8453fab6ee5df4c6aa868": {
     "model_module": "@jupyter-widgets/controls",
     "model_module_version": "1.5.0",
     "model_name": "ProgressStyleModel",
     "state": {
      "_model_module": "@jupyter-widgets/controls",
      "_model_module_version": "1.5.0",
      "_model_name": "ProgressStyleModel",
      "_view_count": null,
      "_view_module": "@jupyter-widgets/base",
      "_view_module_version": "1.2.0",
      "_view_name": "StyleView",
      "bar_color": null,
      "description_width": ""
     }
    },
    "28f05baeaa2f4ddfbdb2cfaaeca0bae3": {
     "model_module": "@jupyter-widgets/controls",
     "model_module_version": "1.5.0",
     "model_name": "DescriptionStyleModel",
     "state": {
      "_model_module": "@jupyter-widgets/controls",
      "_model_module_version": "1.5.0",
      "_model_name": "DescriptionStyleModel",
      "_view_count": null,
      "_view_module": "@jupyter-widgets/base",
      "_view_module_version": "1.2.0",
      "_view_name": "StyleView",
      "description_width": ""
     }
    },
    "311eff1b4f7a4349982399e0f6f7f214": {
     "model_module": "@jupyter-widgets/controls",
     "model_module_version": "1.5.0",
     "model_name": "FloatProgressModel",
     "state": {
      "_dom_classes": [],
      "_model_module": "@jupyter-widgets/controls",
      "_model_module_version": "1.5.0",
      "_model_name": "FloatProgressModel",
      "_view_count": null,
      "_view_module": "@jupyter-widgets/controls",
      "_view_module_version": "1.5.0",
      "_view_name": "ProgressView",
      "bar_style": "success",
      "description": "",
      "description_tooltip": null,
      "layout": "IPY_MODEL_da9a010a39d246fd8a0bf39b51538ddf",
      "max": 456356,
      "min": 0,
      "orientation": "horizontal",
      "style": "IPY_MODEL_4b0f87433db54052b92efa091b659bb6",
      "value": 456356
     }
    },
    "355a95cf9c4443fc82ee6b0b18680945": {
     "model_module": "@jupyter-widgets/controls",
     "model_module_version": "1.5.0",
     "model_name": "HBoxModel",
     "state": {
      "_dom_classes": [],
      "_model_module": "@jupyter-widgets/controls",
      "_model_module_version": "1.5.0",
      "_model_name": "HBoxModel",
      "_view_count": null,
      "_view_module": "@jupyter-widgets/controls",
      "_view_module_version": "1.5.0",
      "_view_name": "HBoxView",
      "box_style": "",
      "children": [
       "IPY_MODEL_fa71e1e6869d4c539ca2bac782f2cd9c",
       "IPY_MODEL_2565b44fc3df4b5888b9d56e12b7ef72",
       "IPY_MODEL_81e3adbd7a394716ae80449f5ae8533d"
      ],
      "layout": "IPY_MODEL_38b45240a2be489cb4af1ddda0ac684a"
     }
    },
    "38b45240a2be489cb4af1ddda0ac684a": {
     "model_module": "@jupyter-widgets/base",
     "model_module_version": "1.2.0",
     "model_name": "LayoutModel",
     "state": {
      "_model_module": "@jupyter-widgets/base",
      "_model_module_version": "1.2.0",
      "_model_name": "LayoutModel",
      "_view_count": null,
      "_view_module": "@jupyter-widgets/base",
      "_view_module_version": "1.2.0",
      "_view_name": "LayoutView",
      "align_content": null,
      "align_items": null,
      "align_self": null,
      "border": null,
      "bottom": null,
      "display": null,
      "flex": null,
      "flex_flow": null,
      "grid_area": null,
      "grid_auto_columns": null,
      "grid_auto_flow": null,
      "grid_auto_rows": null,
      "grid_column": null,
      "grid_gap": null,
      "grid_row": null,
      "grid_template_areas": null,
      "grid_template_columns": null,
      "grid_template_rows": null,
      "height": null,
      "justify_content": null,
      "justify_items": null,
      "left": null,
      "margin": null,
      "max_height": null,
      "max_width": null,
      "min_height": null,
      "min_width": null,
      "object_fit": null,
      "object_position": null,
      "order": null,
      "overflow": null,
      "overflow_x": null,
      "overflow_y": null,
      "padding": null,
      "right": null,
      "top": null,
      "visibility": null,
      "width": null
     }
    },
    "3e958df5b78b4fa894ebf6f580fb77fa": {
     "model_module": "@jupyter-widgets/controls",
     "model_module_version": "1.5.0",
     "model_name": "DescriptionStyleModel",
     "state": {
      "_model_module": "@jupyter-widgets/controls",
      "_model_module_version": "1.5.0",
      "_model_name": "DescriptionStyleModel",
      "_view_count": null,
      "_view_module": "@jupyter-widgets/base",
      "_view_module_version": "1.2.0",
      "_view_name": "StyleView",
      "description_width": ""
     }
    },
    "40d38fd5c5db42789187cbb0768298a8": {
     "model_module": "@jupyter-widgets/controls",
     "model_module_version": "1.5.0",
     "model_name": "HTMLModel",
     "state": {
      "_dom_classes": [],
      "_model_module": "@jupyter-widgets/controls",
      "_model_module_version": "1.5.0",
      "_model_name": "HTMLModel",
      "_view_count": null,
      "_view_module": "@jupyter-widgets/controls",
      "_view_module_version": "1.5.0",
      "_view_name": "HTMLView",
      "description": "",
      "description_tooltip": null,
      "layout": "IPY_MODEL_d6ed0474535248979785e35904bb9552",
      "placeholder": "​",
      "style": "IPY_MODEL_c97f7ea106874217bbc190bee65f6ca8",
      "value": " 456k/456k [00:00&lt;00:00, 20.8MB/s]"
     }
    },
    "4148d8a2d1484ca5a3cf6873f0a6afc2": {
     "model_module": "@jupyter-widgets/controls",
     "model_module_version": "1.5.0",
     "model_name": "HTMLModel",
     "state": {
      "_dom_classes": [],
      "_model_module": "@jupyter-widgets/controls",
      "_model_module_version": "1.5.0",
      "_model_name": "HTMLModel",
      "_view_count": null,
      "_view_module": "@jupyter-widgets/controls",
      "_view_module_version": "1.5.0",
      "_view_name": "HTMLView",
      "description": "",
      "description_tooltip": null,
      "layout": "IPY_MODEL_710c4e04e8374ea486f1cde52e43f53a",
      "placeholder": "​",
      "style": "IPY_MODEL_5ec3aed6d0d8483a8155db9c7490511a",
      "value": "model.safetensors: 100%"
     }
    },
    "4230b1d654c74848a7ad04d07eab3e77": {
     "model_module": "@jupyter-widgets/controls",
     "model_module_version": "1.5.0",
     "model_name": "DescriptionStyleModel",
     "state": {
      "_model_module": "@jupyter-widgets/controls",
      "_model_module_version": "1.5.0",
      "_model_name": "DescriptionStyleModel",
      "_view_count": null,
      "_view_module": "@jupyter-widgets/base",
      "_view_module_version": "1.2.0",
      "_view_name": "StyleView",
      "description_width": ""
     }
    },
    "4b0f87433db54052b92efa091b659bb6": {
     "model_module": "@jupyter-widgets/controls",
     "model_module_version": "1.5.0",
     "model_name": "ProgressStyleModel",
     "state": {
      "_model_module": "@jupyter-widgets/controls",
      "_model_module_version": "1.5.0",
      "_model_name": "ProgressStyleModel",
      "_view_count": null,
      "_view_module": "@jupyter-widgets/base",
      "_view_module_version": "1.2.0",
      "_view_name": "StyleView",
      "bar_color": null,
      "description_width": ""
     }
    },
    "4bb8ed32c3f84824a08d00488c816f83": {
     "model_module": "@jupyter-widgets/base",
     "model_module_version": "1.2.0",
     "model_name": "LayoutModel",
     "state": {
      "_model_module": "@jupyter-widgets/base",
      "_model_module_version": "1.2.0",
      "_model_name": "LayoutModel",
      "_view_count": null,
      "_view_module": "@jupyter-widgets/base",
      "_view_module_version": "1.2.0",
      "_view_name": "LayoutView",
      "align_content": null,
      "align_items": null,
      "align_self": null,
      "border": null,
      "bottom": null,
      "display": null,
      "flex": null,
      "flex_flow": null,
      "grid_area": null,
      "grid_auto_columns": null,
      "grid_auto_flow": null,
      "grid_auto_rows": null,
      "grid_column": null,
      "grid_gap": null,
      "grid_row": null,
      "grid_template_areas": null,
      "grid_template_columns": null,
      "grid_template_rows": null,
      "height": null,
      "justify_content": null,
      "justify_items": null,
      "left": null,
      "margin": null,
      "max_height": null,
      "max_width": null,
      "min_height": null,
      "min_width": null,
      "object_fit": null,
      "object_position": null,
      "order": null,
      "overflow": null,
      "overflow_x": null,
      "overflow_y": null,
      "padding": null,
      "right": null,
      "top": null,
      "visibility": null,
      "width": null
     }
    },
    "4c60657748b44bcfa08864ac2edb53e3": {
     "model_module": "@jupyter-widgets/controls",
     "model_module_version": "1.5.0",
     "model_name": "HBoxModel",
     "state": {
      "_dom_classes": [],
      "_model_module": "@jupyter-widgets/controls",
      "_model_module_version": "1.5.0",
      "_model_name": "HBoxModel",
      "_view_count": null,
      "_view_module": "@jupyter-widgets/controls",
      "_view_module_version": "1.5.0",
      "_view_name": "HBoxView",
      "box_style": "",
      "children": [
       "IPY_MODEL_d825e0d952c443c8907163551c3aee25",
       "IPY_MODEL_a31d79f2a4d24b26a03bcb09c4e8254c",
       "IPY_MODEL_08477016f7f64c7b9734134bdbd2945b"
      ],
      "layout": "IPY_MODEL_6bb065b8fcba4fcfbed9a341aee19cc7"
     }
    },
    "4ff6c62322bb45bcbb2865f7dedb2d7b": {
     "model_module": "@jupyter-widgets/base",
     "model_module_version": "1.2.0",
     "model_name": "LayoutModel",
     "state": {
      "_model_module": "@jupyter-widgets/base",
      "_model_module_version": "1.2.0",
      "_model_name": "LayoutModel",
      "_view_count": null,
      "_view_module": "@jupyter-widgets/base",
      "_view_module_version": "1.2.0",
      "_view_name": "LayoutView",
      "align_content": null,
      "align_items": null,
      "align_self": null,
      "border": null,
      "bottom": null,
      "display": null,
      "flex": null,
      "flex_flow": null,
      "grid_area": null,
      "grid_auto_columns": null,
      "grid_auto_flow": null,
      "grid_auto_rows": null,
      "grid_column": null,
      "grid_gap": null,
      "grid_row": null,
      "grid_template_areas": null,
      "grid_template_columns": null,
      "grid_template_rows": null,
      "height": null,
      "justify_content": null,
      "justify_items": null,
      "left": null,
      "margin": null,
      "max_height": null,
      "max_width": null,
      "min_height": null,
      "min_width": null,
      "object_fit": null,
      "object_position": null,
      "order": null,
      "overflow": null,
      "overflow_x": null,
      "overflow_y": null,
      "padding": null,
      "right": null,
      "top": null,
      "visibility": null,
      "width": null
     }
    },
    "541951ecbb89442aa64dc19d35c7a08d": {
     "model_module": "@jupyter-widgets/base",
     "model_module_version": "1.2.0",
     "model_name": "LayoutModel",
     "state": {
      "_model_module": "@jupyter-widgets/base",
      "_model_module_version": "1.2.0",
      "_model_name": "LayoutModel",
      "_view_count": null,
      "_view_module": "@jupyter-widgets/base",
      "_view_module_version": "1.2.0",
      "_view_name": "LayoutView",
      "align_content": null,
      "align_items": null,
      "align_self": null,
      "border": null,
      "bottom": null,
      "display": null,
      "flex": null,
      "flex_flow": null,
      "grid_area": null,
      "grid_auto_columns": null,
      "grid_auto_flow": null,
      "grid_auto_rows": null,
      "grid_column": null,
      "grid_gap": null,
      "grid_row": null,
      "grid_template_areas": null,
      "grid_template_columns": null,
      "grid_template_rows": null,
      "height": null,
      "justify_content": null,
      "justify_items": null,
      "left": null,
      "margin": null,
      "max_height": null,
      "max_width": null,
      "min_height": null,
      "min_width": null,
      "object_fit": null,
      "object_position": null,
      "order": null,
      "overflow": null,
      "overflow_x": null,
      "overflow_y": null,
      "padding": null,
      "right": null,
      "top": null,
      "visibility": null,
      "width": null
     }
    },
    "5789417a2ea9423090e1b46af79da3af": {
     "model_module": "@jupyter-widgets/controls",
     "model_module_version": "1.5.0",
     "model_name": "ProgressStyleModel",
     "state": {
      "_model_module": "@jupyter-widgets/controls",
      "_model_module_version": "1.5.0",
      "_model_name": "ProgressStyleModel",
      "_view_count": null,
      "_view_module": "@jupyter-widgets/base",
      "_view_module_version": "1.2.0",
      "_view_name": "StyleView",
      "bar_color": null,
      "description_width": ""
     }
    },
    "5ec3aed6d0d8483a8155db9c7490511a": {
     "model_module": "@jupyter-widgets/controls",
     "model_module_version": "1.5.0",
     "model_name": "DescriptionStyleModel",
     "state": {
      "_model_module": "@jupyter-widgets/controls",
      "_model_module_version": "1.5.0",
      "_model_name": "DescriptionStyleModel",
      "_view_count": null,
      "_view_module": "@jupyter-widgets/base",
      "_view_module_version": "1.2.0",
      "_view_name": "StyleView",
      "description_width": ""
     }
    },
    "6284dce2eed54dfd8e5094d750b5ebfc": {
     "model_module": "@jupyter-widgets/base",
     "model_module_version": "1.2.0",
     "model_name": "LayoutModel",
     "state": {
      "_model_module": "@jupyter-widgets/base",
      "_model_module_version": "1.2.0",
      "_model_name": "LayoutModel",
      "_view_count": null,
      "_view_module": "@jupyter-widgets/base",
      "_view_module_version": "1.2.0",
      "_view_name": "LayoutView",
      "align_content": null,
      "align_items": null,
      "align_self": null,
      "border": null,
      "bottom": null,
      "display": null,
      "flex": null,
      "flex_flow": null,
      "grid_area": null,
      "grid_auto_columns": null,
      "grid_auto_flow": null,
      "grid_auto_rows": null,
      "grid_column": null,
      "grid_gap": null,
      "grid_row": null,
      "grid_template_areas": null,
      "grid_template_columns": null,
      "grid_template_rows": null,
      "height": null,
      "justify_content": null,
      "justify_items": null,
      "left": null,
      "margin": null,
      "max_height": null,
      "max_width": null,
      "min_height": null,
      "min_width": null,
      "object_fit": null,
      "object_position": null,
      "order": null,
      "overflow": null,
      "overflow_x": null,
      "overflow_y": null,
      "padding": null,
      "right": null,
      "top": null,
      "visibility": null,
      "width": null
     }
    },
    "6bb065b8fcba4fcfbed9a341aee19cc7": {
     "model_module": "@jupyter-widgets/base",
     "model_module_version": "1.2.0",
     "model_name": "LayoutModel",
     "state": {
      "_model_module": "@jupyter-widgets/base",
      "_model_module_version": "1.2.0",
      "_model_name": "LayoutModel",
      "_view_count": null,
      "_view_module": "@jupyter-widgets/base",
      "_view_module_version": "1.2.0",
      "_view_name": "LayoutView",
      "align_content": null,
      "align_items": null,
      "align_self": null,
      "border": null,
      "bottom": null,
      "display": null,
      "flex": null,
      "flex_flow": null,
      "grid_area": null,
      "grid_auto_columns": null,
      "grid_auto_flow": null,
      "grid_auto_rows": null,
      "grid_column": null,
      "grid_gap": null,
      "grid_row": null,
      "grid_template_areas": null,
      "grid_template_columns": null,
      "grid_template_rows": null,
      "height": null,
      "justify_content": null,
      "justify_items": null,
      "left": null,
      "margin": null,
      "max_height": null,
      "max_width": null,
      "min_height": null,
      "min_width": null,
      "object_fit": null,
      "object_position": null,
      "order": null,
      "overflow": null,
      "overflow_x": null,
      "overflow_y": null,
      "padding": null,
      "right": null,
      "top": null,
      "visibility": null,
      "width": null
     }
    },
    "6ef674b8a7404c5aa373a9692c3d5853": {
     "model_module": "@jupyter-widgets/controls",
     "model_module_version": "1.5.0",
     "model_name": "HTMLModel",
     "state": {
      "_dom_classes": [],
      "_model_module": "@jupyter-widgets/controls",
      "_model_module_version": "1.5.0",
      "_model_name": "HTMLModel",
      "_view_count": null,
      "_view_module": "@jupyter-widgets/controls",
      "_view_module_version": "1.5.0",
      "_view_name": "HTMLView",
      "description": "",
      "description_tooltip": null,
      "layout": "IPY_MODEL_88df1fe74cef4bc88f77c9509a44a35f",
      "placeholder": "​",
      "style": "IPY_MODEL_0842135e457d4814890a37d31e39fd95",
      "value": "vocab.json: 100%"
     }
    },
    "70bc5b960c8346509b792b485af614bb": {
     "model_module": "@jupyter-widgets/base",
     "model_module_version": "1.2.0",
     "model_name": "LayoutModel",
     "state": {
      "_model_module": "@jupyter-widgets/base",
      "_model_module_version": "1.2.0",
      "_model_name": "LayoutModel",
      "_view_count": null,
      "_view_module": "@jupyter-widgets/base",
      "_view_module_version": "1.2.0",
      "_view_name": "LayoutView",
      "align_content": null,
      "align_items": null,
      "align_self": null,
      "border": null,
      "bottom": null,
      "display": null,
      "flex": null,
      "flex_flow": null,
      "grid_area": null,
      "grid_auto_columns": null,
      "grid_auto_flow": null,
      "grid_auto_rows": null,
      "grid_column": null,
      "grid_gap": null,
      "grid_row": null,
      "grid_template_areas": null,
      "grid_template_columns": null,
      "grid_template_rows": null,
      "height": null,
      "justify_content": null,
      "justify_items": null,
      "left": null,
      "margin": null,
      "max_height": null,
      "max_width": null,
      "min_height": null,
      "min_width": null,
      "object_fit": null,
      "object_position": null,
      "order": null,
      "overflow": null,
      "overflow_x": null,
      "overflow_y": null,
      "padding": null,
      "right": null,
      "top": null,
      "visibility": null,
      "width": null
     }
    },
    "710c4e04e8374ea486f1cde52e43f53a": {
     "model_module": "@jupyter-widgets/base",
     "model_module_version": "1.2.0",
     "model_name": "LayoutModel",
     "state": {
      "_model_module": "@jupyter-widgets/base",
      "_model_module_version": "1.2.0",
      "_model_name": "LayoutModel",
      "_view_count": null,
      "_view_module": "@jupyter-widgets/base",
      "_view_module_version": "1.2.0",
      "_view_name": "LayoutView",
      "align_content": null,
      "align_items": null,
      "align_self": null,
      "border": null,
      "bottom": null,
      "display": null,
      "flex": null,
      "flex_flow": null,
      "grid_area": null,
      "grid_auto_columns": null,
      "grid_auto_flow": null,
      "grid_auto_rows": null,
      "grid_column": null,
      "grid_gap": null,
      "grid_row": null,
      "grid_template_areas": null,
      "grid_template_columns": null,
      "grid_template_rows": null,
      "height": null,
      "justify_content": null,
      "justify_items": null,
      "left": null,
      "margin": null,
      "max_height": null,
      "max_width": null,
      "min_height": null,
      "min_width": null,
      "object_fit": null,
      "object_position": null,
      "order": null,
      "overflow": null,
      "overflow_x": null,
      "overflow_y": null,
      "padding": null,
      "right": null,
      "top": null,
      "visibility": null,
      "width": null
     }
    },
    "73c9cab2c5aa4d59b9f7123b2737035d": {
     "model_module": "@jupyter-widgets/controls",
     "model_module_version": "1.5.0",
     "model_name": "HTMLModel",
     "state": {
      "_dom_classes": [],
      "_model_module": "@jupyter-widgets/controls",
      "_model_module_version": "1.5.0",
      "_model_name": "HTMLModel",
      "_view_count": null,
      "_view_module": "@jupyter-widgets/controls",
      "_view_module_version": "1.5.0",
      "_view_name": "HTMLView",
      "description": "",
      "description_tooltip": null,
      "layout": "IPY_MODEL_8ffecd45c0cf42caa52645b9fd679bfd",
      "placeholder": "​",
      "style": "IPY_MODEL_76764bb3cc1147c087d67579fc6d03a0",
      "value": " 90.0/90.0 [00:00&lt;00:00, 3.16kB/s]"
     }
    },
    "742694dfca2a43e7acdf48671ddce55a": {
     "model_module": "@jupyter-widgets/controls",
     "model_module_version": "1.5.0",
     "model_name": "HTMLModel",
     "state": {
      "_dom_classes": [],
      "_model_module": "@jupyter-widgets/controls",
      "_model_module_version": "1.5.0",
      "_model_name": "HTMLModel",
      "_view_count": null,
      "_view_module": "@jupyter-widgets/controls",
      "_view_module_version": "1.5.0",
      "_view_name": "HTMLView",
      "description": "",
      "description_tooltip": null,
      "layout": "IPY_MODEL_9a5f7255427c4f9f8c6fc7421840a12c",
      "placeholder": "​",
      "style": "IPY_MODEL_258ac545059d46da9c87fc249e951581",
      "value": "merges.txt: 100%"
     }
    },
    "76764bb3cc1147c087d67579fc6d03a0": {
     "model_module": "@jupyter-widgets/controls",
     "model_module_version": "1.5.0",
     "model_name": "DescriptionStyleModel",
     "state": {
      "_model_module": "@jupyter-widgets/controls",
      "_model_module_version": "1.5.0",
      "_model_name": "DescriptionStyleModel",
      "_view_count": null,
      "_view_module": "@jupyter-widgets/base",
      "_view_module_version": "1.2.0",
      "_view_name": "StyleView",
      "description_width": ""
     }
    },
    "8161f4f3477948c9bb62c063ee6c16e4": {
     "model_module": "@jupyter-widgets/controls",
     "model_module_version": "1.5.0",
     "model_name": "HBoxModel",
     "state": {
      "_dom_classes": [],
      "_model_module": "@jupyter-widgets/controls",
      "_model_module_version": "1.5.0",
      "_model_name": "HBoxModel",
      "_view_count": null,
      "_view_module": "@jupyter-widgets/controls",
      "_view_module_version": "1.5.0",
      "_view_name": "HBoxView",
      "box_style": "",
      "children": [
       "IPY_MODEL_fa195b67647e40af9f8fa123f1245075",
       "IPY_MODEL_b14ee3381aa64488ac829853caaf4f1a",
       "IPY_MODEL_73c9cab2c5aa4d59b9f7123b2737035d"
      ],
      "layout": "IPY_MODEL_87fc342b10d7451d8848584f757b2d5c"
     }
    },
    "81e3adbd7a394716ae80449f5ae8533d": {
     "model_module": "@jupyter-widgets/controls",
     "model_module_version": "1.5.0",
     "model_name": "HTMLModel",
     "state": {
      "_dom_classes": [],
      "_model_module": "@jupyter-widgets/controls",
      "_model_module_version": "1.5.0",
      "_model_name": "HTMLModel",
      "_view_count": null,
      "_view_module": "@jupyter-widgets/controls",
      "_view_module_version": "1.5.0",
      "_view_name": "HTMLView",
      "description": "",
      "description_tooltip": null,
      "layout": "IPY_MODEL_e86a4ec158784b99a2fbd0a8c20c6ac2",
      "placeholder": "​",
      "style": "IPY_MODEL_a9b845abea394b159b4d7fdca80f20b3",
      "value": " 1.35k/1.35k [00:00&lt;00:00, 71.6kB/s]"
     }
    },
    "8269da770f564b79bf01aca4036d1fd9": {
     "model_module": "@jupyter-widgets/controls",
     "model_module_version": "1.5.0",
     "model_name": "ProgressStyleModel",
     "state": {
      "_model_module": "@jupyter-widgets/controls",
      "_model_module_version": "1.5.0",
      "_model_name": "ProgressStyleModel",
      "_view_count": null,
      "_view_module": "@jupyter-widgets/base",
      "_view_module_version": "1.2.0",
      "_view_name": "StyleView",
      "bar_color": null,
      "description_width": ""
     }
    },
    "87fc342b10d7451d8848584f757b2d5c": {
     "model_module": "@jupyter-widgets/base",
     "model_module_version": "1.2.0",
     "model_name": "LayoutModel",
     "state": {
      "_model_module": "@jupyter-widgets/base",
      "_model_module_version": "1.2.0",
      "_model_name": "LayoutModel",
      "_view_count": null,
      "_view_module": "@jupyter-widgets/base",
      "_view_module_version": "1.2.0",
      "_view_name": "LayoutView",
      "align_content": null,
      "align_items": null,
      "align_self": null,
      "border": null,
      "bottom": null,
      "display": null,
      "flex": null,
      "flex_flow": null,
      "grid_area": null,
      "grid_auto_columns": null,
      "grid_auto_flow": null,
      "grid_auto_rows": null,
      "grid_column": null,
      "grid_gap": null,
      "grid_row": null,
      "grid_template_areas": null,
      "grid_template_columns": null,
      "grid_template_rows": null,
      "height": null,
      "justify_content": null,
      "justify_items": null,
      "left": null,
      "margin": null,
      "max_height": null,
      "max_width": null,
      "min_height": null,
      "min_width": null,
      "object_fit": null,
      "object_position": null,
      "order": null,
      "overflow": null,
      "overflow_x": null,
      "overflow_y": null,
      "padding": null,
      "right": null,
      "top": null,
      "visibility": null,
      "width": null
     }
    },
    "88c761a4e73246d9a732ba5b57701c1e": {
     "model_module": "@jupyter-widgets/controls",
     "model_module_version": "1.5.0",
     "model_name": "HBoxModel",
     "state": {
      "_dom_classes": [],
      "_model_module": "@jupyter-widgets/controls",
      "_model_module_version": "1.5.0",
      "_model_name": "HBoxModel",
      "_view_count": null,
      "_view_module": "@jupyter-widgets/controls",
      "_view_module_version": "1.5.0",
      "_view_name": "HBoxView",
      "box_style": "",
      "children": [
       "IPY_MODEL_742694dfca2a43e7acdf48671ddce55a",
       "IPY_MODEL_311eff1b4f7a4349982399e0f6f7f214",
       "IPY_MODEL_40d38fd5c5db42789187cbb0768298a8"
      ],
      "layout": "IPY_MODEL_4bb8ed32c3f84824a08d00488c816f83"
     }
    },
    "88df1fe74cef4bc88f77c9509a44a35f": {
     "model_module": "@jupyter-widgets/base",
     "model_module_version": "1.2.0",
     "model_name": "LayoutModel",
     "state": {
      "_model_module": "@jupyter-widgets/base",
      "_model_module_version": "1.2.0",
      "_model_name": "LayoutModel",
      "_view_count": null,
      "_view_module": "@jupyter-widgets/base",
      "_view_module_version": "1.2.0",
      "_view_name": "LayoutView",
      "align_content": null,
      "align_items": null,
      "align_self": null,
      "border": null,
      "bottom": null,
      "display": null,
      "flex": null,
      "flex_flow": null,
      "grid_area": null,
      "grid_auto_columns": null,
      "grid_auto_flow": null,
      "grid_auto_rows": null,
      "grid_column": null,
      "grid_gap": null,
      "grid_row": null,
      "grid_template_areas": null,
      "grid_template_columns": null,
      "grid_template_rows": null,
      "height": null,
      "justify_content": null,
      "justify_items": null,
      "left": null,
      "margin": null,
      "max_height": null,
      "max_width": null,
      "min_height": null,
      "min_width": null,
      "object_fit": null,
      "object_position": null,
      "order": null,
      "overflow": null,
      "overflow_x": null,
      "overflow_y": null,
      "padding": null,
      "right": null,
      "top": null,
      "visibility": null,
      "width": null
     }
    },
    "8eeed1a3a46b46c8852b37d3fdb605f9": {
     "model_module": "@jupyter-widgets/base",
     "model_module_version": "1.2.0",
     "model_name": "LayoutModel",
     "state": {
      "_model_module": "@jupyter-widgets/base",
      "_model_module_version": "1.2.0",
      "_model_name": "LayoutModel",
      "_view_count": null,
      "_view_module": "@jupyter-widgets/base",
      "_view_module_version": "1.2.0",
      "_view_name": "LayoutView",
      "align_content": null,
      "align_items": null,
      "align_self": null,
      "border": null,
      "bottom": null,
      "display": null,
      "flex": null,
      "flex_flow": null,
      "grid_area": null,
      "grid_auto_columns": null,
      "grid_auto_flow": null,
      "grid_auto_rows": null,
      "grid_column": null,
      "grid_gap": null,
      "grid_row": null,
      "grid_template_areas": null,
      "grid_template_columns": null,
      "grid_template_rows": null,
      "height": null,
      "justify_content": null,
      "justify_items": null,
      "left": null,
      "margin": null,
      "max_height": null,
      "max_width": null,
      "min_height": null,
      "min_width": null,
      "object_fit": null,
      "object_position": null,
      "order": null,
      "overflow": null,
      "overflow_x": null,
      "overflow_y": null,
      "padding": null,
      "right": null,
      "top": null,
      "visibility": null,
      "width": null
     }
    },
    "8ffecd45c0cf42caa52645b9fd679bfd": {
     "model_module": "@jupyter-widgets/base",
     "model_module_version": "1.2.0",
     "model_name": "LayoutModel",
     "state": {
      "_model_module": "@jupyter-widgets/base",
      "_model_module_version": "1.2.0",
      "_model_name": "LayoutModel",
      "_view_count": null,
      "_view_module": "@jupyter-widgets/base",
      "_view_module_version": "1.2.0",
      "_view_name": "LayoutView",
      "align_content": null,
      "align_items": null,
      "align_self": null,
      "border": null,
      "bottom": null,
      "display": null,
      "flex": null,
      "flex_flow": null,
      "grid_area": null,
      "grid_auto_columns": null,
      "grid_auto_flow": null,
      "grid_auto_rows": null,
      "grid_column": null,
      "grid_gap": null,
      "grid_row": null,
      "grid_template_areas": null,
      "grid_template_columns": null,
      "grid_template_rows": null,
      "height": null,
      "justify_content": null,
      "justify_items": null,
      "left": null,
      "margin": null,
      "max_height": null,
      "max_width": null,
      "min_height": null,
      "min_width": null,
      "object_fit": null,
      "object_position": null,
      "order": null,
      "overflow": null,
      "overflow_x": null,
      "overflow_y": null,
      "padding": null,
      "right": null,
      "top": null,
      "visibility": null,
      "width": null
     }
    },
    "95b868e5817940c49339a6626bbd6be6": {
     "model_module": "@jupyter-widgets/base",
     "model_module_version": "1.2.0",
     "model_name": "LayoutModel",
     "state": {
      "_model_module": "@jupyter-widgets/base",
      "_model_module_version": "1.2.0",
      "_model_name": "LayoutModel",
      "_view_count": null,
      "_view_module": "@jupyter-widgets/base",
      "_view_module_version": "1.2.0",
      "_view_name": "LayoutView",
      "align_content": null,
      "align_items": null,
      "align_self": null,
      "border": null,
      "bottom": null,
      "display": null,
      "flex": null,
      "flex_flow": null,
      "grid_area": null,
      "grid_auto_columns": null,
      "grid_auto_flow": null,
      "grid_auto_rows": null,
      "grid_column": null,
      "grid_gap": null,
      "grid_row": null,
      "grid_template_areas": null,
      "grid_template_columns": null,
      "grid_template_rows": null,
      "height": null,
      "justify_content": null,
      "justify_items": null,
      "left": null,
      "margin": null,
      "max_height": null,
      "max_width": null,
      "min_height": null,
      "min_width": null,
      "object_fit": null,
      "object_position": null,
      "order": null,
      "overflow": null,
      "overflow_x": null,
      "overflow_y": null,
      "padding": null,
      "right": null,
      "top": null,
      "visibility": null,
      "width": null
     }
    },
    "9a5f7255427c4f9f8c6fc7421840a12c": {
     "model_module": "@jupyter-widgets/base",
     "model_module_version": "1.2.0",
     "model_name": "LayoutModel",
     "state": {
      "_model_module": "@jupyter-widgets/base",
      "_model_module_version": "1.2.0",
      "_model_name": "LayoutModel",
      "_view_count": null,
      "_view_module": "@jupyter-widgets/base",
      "_view_module_version": "1.2.0",
      "_view_name": "LayoutView",
      "align_content": null,
      "align_items": null,
      "align_self": null,
      "border": null,
      "bottom": null,
      "display": null,
      "flex": null,
      "flex_flow": null,
      "grid_area": null,
      "grid_auto_columns": null,
      "grid_auto_flow": null,
      "grid_auto_rows": null,
      "grid_column": null,
      "grid_gap": null,
      "grid_row": null,
      "grid_template_areas": null,
      "grid_template_columns": null,
      "grid_template_rows": null,
      "height": null,
      "justify_content": null,
      "justify_items": null,
      "left": null,
      "margin": null,
      "max_height": null,
      "max_width": null,
      "min_height": null,
      "min_width": null,
      "object_fit": null,
      "object_position": null,
      "order": null,
      "overflow": null,
      "overflow_x": null,
      "overflow_y": null,
      "padding": null,
      "right": null,
      "top": null,
      "visibility": null,
      "width": null
     }
    },
    "9f38092b12b445b3a323c860b40cce8b": {
     "model_module": "@jupyter-widgets/controls",
     "model_module_version": "1.5.0",
     "model_name": "HBoxModel",
     "state": {
      "_dom_classes": [],
      "_model_module": "@jupyter-widgets/controls",
      "_model_module_version": "1.5.0",
      "_model_name": "HBoxModel",
      "_view_count": null,
      "_view_module": "@jupyter-widgets/controls",
      "_view_module_version": "1.5.0",
      "_view_name": "HBoxView",
      "box_style": "",
      "children": [
       "IPY_MODEL_6ef674b8a7404c5aa373a9692c3d5853",
       "IPY_MODEL_bdb45be2369e4bae9f7beaf44cdbeb1b",
       "IPY_MODEL_f728f31d9b024a2d9e795c43557c0837"
      ],
      "layout": "IPY_MODEL_c808062297bf49a7954938d81d84959b"
     }
    },
    "a31d79f2a4d24b26a03bcb09c4e8254c": {
     "model_module": "@jupyter-widgets/controls",
     "model_module_version": "1.5.0",
     "model_name": "FloatProgressModel",
     "state": {
      "_dom_classes": [],
      "_model_module": "@jupyter-widgets/controls",
      "_model_module_version": "1.5.0",
      "_model_name": "FloatProgressModel",
      "_view_count": null,
      "_view_module": "@jupyter-widgets/controls",
      "_view_module_version": "1.5.0",
      "_view_name": "ProgressView",
      "bar_style": "success",
      "description": "",
      "description_tooltip": null,
      "layout": "IPY_MODEL_95b868e5817940c49339a6626bbd6be6",
      "max": 200,
      "min": 0,
      "orientation": "horizontal",
      "style": "IPY_MODEL_8269da770f564b79bf01aca4036d1fd9",
      "value": 200
     }
    },
    "a8b7d75512044f069abc0ee80eb1e510": {
     "model_module": "@jupyter-widgets/base",
     "model_module_version": "1.2.0",
     "model_name": "LayoutModel",
     "state": {
      "_model_module": "@jupyter-widgets/base",
      "_model_module_version": "1.2.0",
      "_model_name": "LayoutModel",
      "_view_count": null,
      "_view_module": "@jupyter-widgets/base",
      "_view_module_version": "1.2.0",
      "_view_name": "LayoutView",
      "align_content": null,
      "align_items": null,
      "align_self": null,
      "border": null,
      "bottom": null,
      "display": null,
      "flex": null,
      "flex_flow": null,
      "grid_area": null,
      "grid_auto_columns": null,
      "grid_auto_flow": null,
      "grid_auto_rows": null,
      "grid_column": null,
      "grid_gap": null,
      "grid_row": null,
      "grid_template_areas": null,
      "grid_template_columns": null,
      "grid_template_rows": null,
      "height": null,
      "justify_content": null,
      "justify_items": null,
      "left": null,
      "margin": null,
      "max_height": null,
      "max_width": null,
      "min_height": null,
      "min_width": null,
      "object_fit": null,
      "object_position": null,
      "order": null,
      "overflow": null,
      "overflow_x": null,
      "overflow_y": null,
      "padding": null,
      "right": null,
      "top": null,
      "visibility": null,
      "width": null
     }
    },
    "a9b845abea394b159b4d7fdca80f20b3": {
     "model_module": "@jupyter-widgets/controls",
     "model_module_version": "1.5.0",
     "model_name": "DescriptionStyleModel",
     "state": {
      "_model_module": "@jupyter-widgets/controls",
      "_model_module_version": "1.5.0",
      "_model_name": "DescriptionStyleModel",
      "_view_count": null,
      "_view_module": "@jupyter-widgets/base",
      "_view_module_version": "1.2.0",
      "_view_name": "StyleView",
      "description_width": ""
     }
    },
    "ae43ac92a9d14fefb7e5af3e9dab6147": {
     "model_module": "@jupyter-widgets/base",
     "model_module_version": "1.2.0",
     "model_name": "LayoutModel",
     "state": {
      "_model_module": "@jupyter-widgets/base",
      "_model_module_version": "1.2.0",
      "_model_name": "LayoutModel",
      "_view_count": null,
      "_view_module": "@jupyter-widgets/base",
      "_view_module_version": "1.2.0",
      "_view_name": "LayoutView",
      "align_content": null,
      "align_items": null,
      "align_self": null,
      "border": null,
      "bottom": null,
      "display": null,
      "flex": null,
      "flex_flow": null,
      "grid_area": null,
      "grid_auto_columns": null,
      "grid_auto_flow": null,
      "grid_auto_rows": null,
      "grid_column": null,
      "grid_gap": null,
      "grid_row": null,
      "grid_template_areas": null,
      "grid_template_columns": null,
      "grid_template_rows": null,
      "height": null,
      "justify_content": null,
      "justify_items": null,
      "left": null,
      "margin": null,
      "max_height": null,
      "max_width": null,
      "min_height": null,
      "min_width": null,
      "object_fit": null,
      "object_position": null,
      "order": null,
      "overflow": null,
      "overflow_x": null,
      "overflow_y": null,
      "padding": null,
      "right": null,
      "top": null,
      "visibility": null,
      "width": null
     }
    },
    "b14ee3381aa64488ac829853caaf4f1a": {
     "model_module": "@jupyter-widgets/controls",
     "model_module_version": "1.5.0",
     "model_name": "FloatProgressModel",
     "state": {
      "_dom_classes": [],
      "_model_module": "@jupyter-widgets/controls",
      "_model_module_version": "1.5.0",
      "_model_name": "FloatProgressModel",
      "_view_count": null,
      "_view_module": "@jupyter-widgets/controls",
      "_view_module_version": "1.5.0",
      "_view_name": "ProgressView",
      "bar_style": "success",
      "description": "",
      "description_tooltip": null,
      "layout": "IPY_MODEL_541951ecbb89442aa64dc19d35c7a08d",
      "max": 90,
      "min": 0,
      "orientation": "horizontal",
      "style": "IPY_MODEL_c68a1363d00e4a38b2a9cd91e9f46ae4",
      "value": 90
     }
    },
    "b42a07da0e044bf7b99b490730ec4af6": {
     "model_module": "@jupyter-widgets/controls",
     "model_module_version": "1.5.0",
     "model_name": "HTMLModel",
     "state": {
      "_dom_classes": [],
      "_model_module": "@jupyter-widgets/controls",
      "_model_module_version": "1.5.0",
      "_model_name": "HTMLModel",
      "_view_count": null,
      "_view_module": "@jupyter-widgets/controls",
      "_view_module_version": "1.5.0",
      "_view_name": "HTMLView",
      "description": "",
      "description_tooltip": null,
      "layout": "IPY_MODEL_c7ca0b2c73224f6380ade8307039a398",
      "placeholder": "​",
      "style": "IPY_MODEL_28f05baeaa2f4ddfbdb2cfaaeca0bae3",
      "value": " 5.31G/5.31G [00:33&lt;00:00, 64.7MB/s]"
     }
    },
    "bdb45be2369e4bae9f7beaf44cdbeb1b": {
     "model_module": "@jupyter-widgets/controls",
     "model_module_version": "1.5.0",
     "model_name": "FloatProgressModel",
     "state": {
      "_dom_classes": [],
      "_model_module": "@jupyter-widgets/controls",
      "_model_module_version": "1.5.0",
      "_model_name": "FloatProgressModel",
      "_view_count": null,
      "_view_module": "@jupyter-widgets/controls",
      "_view_module_version": "1.5.0",
      "_view_name": "ProgressView",
      "bar_style": "success",
      "description": "",
      "description_tooltip": null,
      "layout": "IPY_MODEL_4ff6c62322bb45bcbb2865f7dedb2d7b",
      "max": 798156,
      "min": 0,
      "orientation": "horizontal",
      "style": "IPY_MODEL_280a84ba80b8453fab6ee5df4c6aa868",
      "value": 798156
     }
    },
    "c3dc1afe933443b5b358e3b23d405c67": {
     "model_module": "@jupyter-widgets/base",
     "model_module_version": "1.2.0",
     "model_name": "LayoutModel",
     "state": {
      "_model_module": "@jupyter-widgets/base",
      "_model_module_version": "1.2.0",
      "_model_name": "LayoutModel",
      "_view_count": null,
      "_view_module": "@jupyter-widgets/base",
      "_view_module_version": "1.2.0",
      "_view_name": "LayoutView",
      "align_content": null,
      "align_items": null,
      "align_self": null,
      "border": null,
      "bottom": null,
      "display": null,
      "flex": null,
      "flex_flow": null,
      "grid_area": null,
      "grid_auto_columns": null,
      "grid_auto_flow": null,
      "grid_auto_rows": null,
      "grid_column": null,
      "grid_gap": null,
      "grid_row": null,
      "grid_template_areas": null,
      "grid_template_columns": null,
      "grid_template_rows": null,
      "height": null,
      "justify_content": null,
      "justify_items": null,
      "left": null,
      "margin": null,
      "max_height": null,
      "max_width": null,
      "min_height": null,
      "min_width": null,
      "object_fit": null,
      "object_position": null,
      "order": null,
      "overflow": null,
      "overflow_x": null,
      "overflow_y": null,
      "padding": null,
      "right": null,
      "top": null,
      "visibility": null,
      "width": null
     }
    },
    "c68a1363d00e4a38b2a9cd91e9f46ae4": {
     "model_module": "@jupyter-widgets/controls",
     "model_module_version": "1.5.0",
     "model_name": "ProgressStyleModel",
     "state": {
      "_model_module": "@jupyter-widgets/controls",
      "_model_module_version": "1.5.0",
      "_model_name": "ProgressStyleModel",
      "_view_count": null,
      "_view_module": "@jupyter-widgets/base",
      "_view_module_version": "1.2.0",
      "_view_name": "StyleView",
      "bar_color": null,
      "description_width": ""
     }
    },
    "c7ca0b2c73224f6380ade8307039a398": {
     "model_module": "@jupyter-widgets/base",
     "model_module_version": "1.2.0",
     "model_name": "LayoutModel",
     "state": {
      "_model_module": "@jupyter-widgets/base",
      "_model_module_version": "1.2.0",
      "_model_name": "LayoutModel",
      "_view_count": null,
      "_view_module": "@jupyter-widgets/base",
      "_view_module_version": "1.2.0",
      "_view_name": "LayoutView",
      "align_content": null,
      "align_items": null,
      "align_self": null,
      "border": null,
      "bottom": null,
      "display": null,
      "flex": null,
      "flex_flow": null,
      "grid_area": null,
      "grid_auto_columns": null,
      "grid_auto_flow": null,
      "grid_auto_rows": null,
      "grid_column": null,
      "grid_gap": null,
      "grid_row": null,
      "grid_template_areas": null,
      "grid_template_columns": null,
      "grid_template_rows": null,
      "height": null,
      "justify_content": null,
      "justify_items": null,
      "left": null,
      "margin": null,
      "max_height": null,
      "max_width": null,
      "min_height": null,
      "min_width": null,
      "object_fit": null,
      "object_position": null,
      "order": null,
      "overflow": null,
      "overflow_x": null,
      "overflow_y": null,
      "padding": null,
      "right": null,
      "top": null,
      "visibility": null,
      "width": null
     }
    },
    "c808062297bf49a7954938d81d84959b": {
     "model_module": "@jupyter-widgets/base",
     "model_module_version": "1.2.0",
     "model_name": "LayoutModel",
     "state": {
      "_model_module": "@jupyter-widgets/base",
      "_model_module_version": "1.2.0",
      "_model_name": "LayoutModel",
      "_view_count": null,
      "_view_module": "@jupyter-widgets/base",
      "_view_module_version": "1.2.0",
      "_view_name": "LayoutView",
      "align_content": null,
      "align_items": null,
      "align_self": null,
      "border": null,
      "bottom": null,
      "display": null,
      "flex": null,
      "flex_flow": null,
      "grid_area": null,
      "grid_auto_columns": null,
      "grid_auto_flow": null,
      "grid_auto_rows": null,
      "grid_column": null,
      "grid_gap": null,
      "grid_row": null,
      "grid_template_areas": null,
      "grid_template_columns": null,
      "grid_template_rows": null,
      "height": null,
      "justify_content": null,
      "justify_items": null,
      "left": null,
      "margin": null,
      "max_height": null,
      "max_width": null,
      "min_height": null,
      "min_width": null,
      "object_fit": null,
      "object_position": null,
      "order": null,
      "overflow": null,
      "overflow_x": null,
      "overflow_y": null,
      "padding": null,
      "right": null,
      "top": null,
      "visibility": null,
      "width": null
     }
    },
    "c97f7ea106874217bbc190bee65f6ca8": {
     "model_module": "@jupyter-widgets/controls",
     "model_module_version": "1.5.0",
     "model_name": "DescriptionStyleModel",
     "state": {
      "_model_module": "@jupyter-widgets/controls",
      "_model_module_version": "1.5.0",
      "_model_name": "DescriptionStyleModel",
      "_view_count": null,
      "_view_module": "@jupyter-widgets/base",
      "_view_module_version": "1.2.0",
      "_view_name": "StyleView",
      "description_width": ""
     }
    },
    "d4debc9141e94e31bfcfbf6fd8b601f6": {
     "model_module": "@jupyter-widgets/controls",
     "model_module_version": "1.5.0",
     "model_name": "ProgressStyleModel",
     "state": {
      "_model_module": "@jupyter-widgets/controls",
      "_model_module_version": "1.5.0",
      "_model_name": "ProgressStyleModel",
      "_view_count": null,
      "_view_module": "@jupyter-widgets/base",
      "_view_module_version": "1.2.0",
      "_view_name": "StyleView",
      "bar_color": null,
      "description_width": ""
     }
    },
    "d6ed0474535248979785e35904bb9552": {
     "model_module": "@jupyter-widgets/base",
     "model_module_version": "1.2.0",
     "model_name": "LayoutModel",
     "state": {
      "_model_module": "@jupyter-widgets/base",
      "_model_module_version": "1.2.0",
      "_model_name": "LayoutModel",
      "_view_count": null,
      "_view_module": "@jupyter-widgets/base",
      "_view_module_version": "1.2.0",
      "_view_name": "LayoutView",
      "align_content": null,
      "align_items": null,
      "align_self": null,
      "border": null,
      "bottom": null,
      "display": null,
      "flex": null,
      "flex_flow": null,
      "grid_area": null,
      "grid_auto_columns": null,
      "grid_auto_flow": null,
      "grid_auto_rows": null,
      "grid_column": null,
      "grid_gap": null,
      "grid_row": null,
      "grid_template_areas": null,
      "grid_template_columns": null,
      "grid_template_rows": null,
      "height": null,
      "justify_content": null,
      "justify_items": null,
      "left": null,
      "margin": null,
      "max_height": null,
      "max_width": null,
      "min_height": null,
      "min_width": null,
      "object_fit": null,
      "object_position": null,
      "order": null,
      "overflow": null,
      "overflow_x": null,
      "overflow_y": null,
      "padding": null,
      "right": null,
      "top": null,
      "visibility": null,
      "width": null
     }
    },
    "d825e0d952c443c8907163551c3aee25": {
     "model_module": "@jupyter-widgets/controls",
     "model_module_version": "1.5.0",
     "model_name": "HTMLModel",
     "state": {
      "_dom_classes": [],
      "_model_module": "@jupyter-widgets/controls",
      "_model_module_version": "1.5.0",
      "_model_name": "HTMLModel",
      "_view_count": null,
      "_view_module": "@jupyter-widgets/controls",
      "_view_module_version": "1.5.0",
      "_view_name": "HTMLView",
      "description": "",
      "description_tooltip": null,
      "layout": "IPY_MODEL_f10dfb555e1c4363b09e1ef5ea4a0109",
      "placeholder": "​",
      "style": "IPY_MODEL_1d57b068e3ff4a58817476af0a80b21f",
      "value": "tokenizer_config.json: 100%"
     }
    },
    "da03572faf1f4135a7aa5db3ed826ec3": {
     "model_module": "@jupyter-widgets/base",
     "model_module_version": "1.2.0",
     "model_name": "LayoutModel",
     "state": {
      "_model_module": "@jupyter-widgets/base",
      "_model_module_version": "1.2.0",
      "_model_name": "LayoutModel",
      "_view_count": null,
      "_view_module": "@jupyter-widgets/base",
      "_view_module_version": "1.2.0",
      "_view_name": "LayoutView",
      "align_content": null,
      "align_items": null,
      "align_self": null,
      "border": null,
      "bottom": null,
      "display": null,
      "flex": null,
      "flex_flow": null,
      "grid_area": null,
      "grid_auto_columns": null,
      "grid_auto_flow": null,
      "grid_auto_rows": null,
      "grid_column": null,
      "grid_gap": null,
      "grid_row": null,
      "grid_template_areas": null,
      "grid_template_columns": null,
      "grid_template_rows": null,
      "height": null,
      "justify_content": null,
      "justify_items": null,
      "left": null,
      "margin": null,
      "max_height": null,
      "max_width": null,
      "min_height": null,
      "min_width": null,
      "object_fit": null,
      "object_position": null,
      "order": null,
      "overflow": null,
      "overflow_x": null,
      "overflow_y": null,
      "padding": null,
      "right": null,
      "top": null,
      "visibility": null,
      "width": null
     }
    },
    "da9a010a39d246fd8a0bf39b51538ddf": {
     "model_module": "@jupyter-widgets/base",
     "model_module_version": "1.2.0",
     "model_name": "LayoutModel",
     "state": {
      "_model_module": "@jupyter-widgets/base",
      "_model_module_version": "1.2.0",
      "_model_name": "LayoutModel",
      "_view_count": null,
      "_view_module": "@jupyter-widgets/base",
      "_view_module_version": "1.2.0",
      "_view_name": "LayoutView",
      "align_content": null,
      "align_items": null,
      "align_self": null,
      "border": null,
      "bottom": null,
      "display": null,
      "flex": null,
      "flex_flow": null,
      "grid_area": null,
      "grid_auto_columns": null,
      "grid_auto_flow": null,
      "grid_auto_rows": null,
      "grid_column": null,
      "grid_gap": null,
      "grid_row": null,
      "grid_template_areas": null,
      "grid_template_columns": null,
      "grid_template_rows": null,
      "height": null,
      "justify_content": null,
      "justify_items": null,
      "left": null,
      "margin": null,
      "max_height": null,
      "max_width": null,
      "min_height": null,
      "min_width": null,
      "object_fit": null,
      "object_position": null,
      "order": null,
      "overflow": null,
      "overflow_x": null,
      "overflow_y": null,
      "padding": null,
      "right": null,
      "top": null,
      "visibility": null,
      "width": null
     }
    },
    "df10366ea4654b78a137ca311d5c4970": {
     "model_module": "@jupyter-widgets/controls",
     "model_module_version": "1.5.0",
     "model_name": "DescriptionStyleModel",
     "state": {
      "_model_module": "@jupyter-widgets/controls",
      "_model_module_version": "1.5.0",
      "_model_name": "DescriptionStyleModel",
      "_view_count": null,
      "_view_module": "@jupyter-widgets/base",
      "_view_module_version": "1.2.0",
      "_view_name": "StyleView",
      "description_width": ""
     }
    },
    "e7dba920c2e74414912407e6fc4dded9": {
     "model_module": "@jupyter-widgets/controls",
     "model_module_version": "1.5.0",
     "model_name": "HBoxModel",
     "state": {
      "_dom_classes": [],
      "_model_module": "@jupyter-widgets/controls",
      "_model_module_version": "1.5.0",
      "_model_name": "HBoxModel",
      "_view_count": null,
      "_view_module": "@jupyter-widgets/controls",
      "_view_module_version": "1.5.0",
      "_view_name": "HBoxView",
      "box_style": "",
      "children": [
       "IPY_MODEL_4148d8a2d1484ca5a3cf6873f0a6afc2",
       "IPY_MODEL_1768475065cb44b1892a6ad67c4713cc",
       "IPY_MODEL_b42a07da0e044bf7b99b490730ec4af6"
      ],
      "layout": "IPY_MODEL_ae43ac92a9d14fefb7e5af3e9dab6147"
     }
    },
    "e86a4ec158784b99a2fbd0a8c20c6ac2": {
     "model_module": "@jupyter-widgets/base",
     "model_module_version": "1.2.0",
     "model_name": "LayoutModel",
     "state": {
      "_model_module": "@jupyter-widgets/base",
      "_model_module_version": "1.2.0",
      "_model_name": "LayoutModel",
      "_view_count": null,
      "_view_module": "@jupyter-widgets/base",
      "_view_module_version": "1.2.0",
      "_view_name": "LayoutView",
      "align_content": null,
      "align_items": null,
      "align_self": null,
      "border": null,
      "bottom": null,
      "display": null,
      "flex": null,
      "flex_flow": null,
      "grid_area": null,
      "grid_auto_columns": null,
      "grid_auto_flow": null,
      "grid_auto_rows": null,
      "grid_column": null,
      "grid_gap": null,
      "grid_row": null,
      "grid_template_areas": null,
      "grid_template_columns": null,
      "grid_template_rows": null,
      "height": null,
      "justify_content": null,
      "justify_items": null,
      "left": null,
      "margin": null,
      "max_height": null,
      "max_width": null,
      "min_height": null,
      "min_width": null,
      "object_fit": null,
      "object_position": null,
      "order": null,
      "overflow": null,
      "overflow_x": null,
      "overflow_y": null,
      "padding": null,
      "right": null,
      "top": null,
      "visibility": null,
      "width": null
     }
    },
    "f10dfb555e1c4363b09e1ef5ea4a0109": {
     "model_module": "@jupyter-widgets/base",
     "model_module_version": "1.2.0",
     "model_name": "LayoutModel",
     "state": {
      "_model_module": "@jupyter-widgets/base",
      "_model_module_version": "1.2.0",
      "_model_name": "LayoutModel",
      "_view_count": null,
      "_view_module": "@jupyter-widgets/base",
      "_view_module_version": "1.2.0",
      "_view_name": "LayoutView",
      "align_content": null,
      "align_items": null,
      "align_self": null,
      "border": null,
      "bottom": null,
      "display": null,
      "flex": null,
      "flex_flow": null,
      "grid_area": null,
      "grid_auto_columns": null,
      "grid_auto_flow": null,
      "grid_auto_rows": null,
      "grid_column": null,
      "grid_gap": null,
      "grid_row": null,
      "grid_template_areas": null,
      "grid_template_columns": null,
      "grid_template_rows": null,
      "height": null,
      "justify_content": null,
      "justify_items": null,
      "left": null,
      "margin": null,
      "max_height": null,
      "max_width": null,
      "min_height": null,
      "min_width": null,
      "object_fit": null,
      "object_position": null,
      "order": null,
      "overflow": null,
      "overflow_x": null,
      "overflow_y": null,
      "padding": null,
      "right": null,
      "top": null,
      "visibility": null,
      "width": null
     }
    },
    "f728f31d9b024a2d9e795c43557c0837": {
     "model_module": "@jupyter-widgets/controls",
     "model_module_version": "1.5.0",
     "model_name": "HTMLModel",
     "state": {
      "_dom_classes": [],
      "_model_module": "@jupyter-widgets/controls",
      "_model_module_version": "1.5.0",
      "_model_name": "HTMLModel",
      "_view_count": null,
      "_view_module": "@jupyter-widgets/controls",
      "_view_module_version": "1.5.0",
      "_view_name": "HTMLView",
      "description": "",
      "description_tooltip": null,
      "layout": "IPY_MODEL_da03572faf1f4135a7aa5db3ed826ec3",
      "placeholder": "​",
      "style": "IPY_MODEL_03ee48fda9fe43f9a6acfcef9d25fef8",
      "value": " 798k/798k [00:00&lt;00:00, 14.7MB/s]"
     }
    },
    "fa195b67647e40af9f8fa123f1245075": {
     "model_module": "@jupyter-widgets/controls",
     "model_module_version": "1.5.0",
     "model_name": "HTMLModel",
     "state": {
      "_dom_classes": [],
      "_model_module": "@jupyter-widgets/controls",
      "_model_module_version": "1.5.0",
      "_model_name": "HTMLModel",
      "_view_count": null,
      "_view_module": "@jupyter-widgets/controls",
      "_view_module_version": "1.5.0",
      "_view_name": "HTMLView",
      "description": "",
      "description_tooltip": null,
      "layout": "IPY_MODEL_a8b7d75512044f069abc0ee80eb1e510",
      "placeholder": "​",
      "style": "IPY_MODEL_4230b1d654c74848a7ad04d07eab3e77",
      "value": "special_tokens_map.json: 100%"
     }
    },
    "fa71e1e6869d4c539ca2bac782f2cd9c": {
     "model_module": "@jupyter-widgets/controls",
     "model_module_version": "1.5.0",
     "model_name": "HTMLModel",
     "state": {
      "_dom_classes": [],
      "_model_module": "@jupyter-widgets/controls",
      "_model_module_version": "1.5.0",
      "_model_name": "HTMLModel",
      "_view_count": null,
      "_view_module": "@jupyter-widgets/controls",
      "_view_module_version": "1.5.0",
      "_view_name": "HTMLView",
      "description": "",
      "description_tooltip": null,
      "layout": "IPY_MODEL_c3dc1afe933443b5b358e3b23d405c67",
      "placeholder": "​",
      "style": "IPY_MODEL_3e958df5b78b4fa894ebf6f580fb77fa",
      "value": "config.json: 100%"
     }
    }
   }
  }
 },
 "nbformat": 4,
 "nbformat_minor": 4
}
